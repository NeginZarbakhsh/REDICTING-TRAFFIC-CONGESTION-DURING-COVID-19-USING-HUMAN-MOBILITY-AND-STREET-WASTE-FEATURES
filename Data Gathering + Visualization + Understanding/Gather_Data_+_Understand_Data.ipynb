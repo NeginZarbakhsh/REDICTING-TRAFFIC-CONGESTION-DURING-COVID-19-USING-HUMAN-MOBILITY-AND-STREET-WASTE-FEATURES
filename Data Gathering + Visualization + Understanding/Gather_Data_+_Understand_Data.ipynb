{
  "cells": [
    {
      "cell_type": "code",
      "source": [
        "# This notebook contain data collection + understanding the effects of COVID-19 on human mobility and the situation of COVID in Ireland \n",
        "# For the Article Tittled Dublin Traffic Congestion During the COVID-19 Pandemic"
      ],
      "metadata": {
        "id": "0Hr5kutExJ7E"
      },
      "id": "0Hr5kutExJ7E",
      "execution_count": 4,
      "outputs": []
    },
    {
      "cell_type": "code",
      "execution_count": 5,
      "id": "013aed8d",
      "metadata": {
        "id": "013aed8d"
      },
      "outputs": [],
      "source": [
        "import pandas as pd\n",
        "import numpy as np\n",
        "import pickle\n",
        "import csv\n",
        "import json\n",
        "import os\n",
        "# Visualization library\n",
        "import matplotlib.pyplot as plt\n",
        "%matplotlib inline\n",
        "import plotly\n",
        "plotly.io.renderers.default = 'colab'\n",
        "import plotly.graph_objs as go\n",
        "import datetime \n",
        "import requests\n",
        "import urllib.request\n",
        "from bs4 import BeautifulSoup\n",
        "from pprint import pprint\n",
        "import datetime\n",
        "from datetime import datetime, timedelta\n",
        "import seaborn as sns\n",
        "import plotly.express as px\n",
        "from datetime import date\n",
        "import holidays\n",
        "from plotly.figure_factory import create_distplot"
      ]
    },
    {
      "cell_type": "markdown",
      "id": "006707ca",
      "metadata": {
        "id": "006707ca"
      },
      "source": [
        "# Start & Finish Dates"
      ]
    },
    {
      "cell_type": "code",
      "execution_count": 6,
      "id": "eef9c4d1",
      "metadata": {
        "id": "eef9c4d1"
      },
      "outputs": [],
      "source": [
        "# Defining start and end of the analysis\n",
        "startdate = pd.to_datetime(\"2020-03-07\").date()\n",
        "enddate = pd.to_datetime(\"2022-02-01\").date() "
      ]
    },
    {
      "cell_type": "markdown",
      "id": "86b57a45",
      "metadata": {
        "id": "86b57a45"
      },
      "source": [
        "# 1: Data Collection & Preperation Phase:"
      ]
    },
    {
      "cell_type": "markdown",
      "id": "361f92d0",
      "metadata": {
        "id": "361f92d0"
      },
      "source": [
        "## A ) Covid Data \n",
        "\n",
        "### 1-  Ireland Counties Data\n",
        "### GeoHive Open Data Catalogue - Covid19CountyStatisticsHPSCIrelandOpenData"
      ]
    },
    {
      "cell_type": "code",
      "execution_count": 7,
      "id": "496cfa4d",
      "metadata": {
        "id": "496cfa4d"
      },
      "outputs": [],
      "source": [
        "# Loading Data from opendata-geohive.hub\n",
        "covid = pd.read_csv(\"https://opendata.arcgis.com/datasets/d9be85b30d7748b5b7c09450b8aede63_0.csv\",\n",
        "                 usecols=['CountyName', 'PopulationCensus16', 'TimeStamp','ConfirmedCovidCases', 'Lat', 'Long'])\n",
        "# Changing date type\n",
        "covid['TimeStamp'] = pd.to_datetime(covid['TimeStamp']).dt.date\n",
        "\n",
        "# Renaming columns\n",
        "covid = covid.rename(columns={\"CountyName\": \"region\", \"PopulationCensus16\": \"Population\", \"TimeStamp\": \"date\", \"ConfirmedCovidCases\": 'Confirmed'})\n",
        "\n",
        "# Filter start & end Date\n",
        "#covid = covid.loc[(covid['date'] >= startdate) & (covid['date'] < enddate )]\n"
      ]
    },
    {
      "cell_type": "code",
      "execution_count": 8,
      "id": "41381058",
      "metadata": {
        "colab": {
          "base_uri": "https://localhost:8080/",
          "height": 206
        },
        "id": "41381058",
        "outputId": "0f3b58d3-6b77-4b6b-8d6a-c9ed8c11be5c"
      },
      "outputs": [
        {
          "output_type": "execute_result",
          "data": {
            "text/html": [
              "\n",
              "  <div id=\"df-32c73f4c-8775-4a6c-878c-220e52d88760\">\n",
              "    <div class=\"colab-df-container\">\n",
              "      <div>\n",
              "<style scoped>\n",
              "    .dataframe tbody tr th:only-of-type {\n",
              "        vertical-align: middle;\n",
              "    }\n",
              "\n",
              "    .dataframe tbody tr th {\n",
              "        vertical-align: top;\n",
              "    }\n",
              "\n",
              "    .dataframe thead th {\n",
              "        text-align: right;\n",
              "    }\n",
              "</style>\n",
              "<table border=\"1\" class=\"dataframe\">\n",
              "  <thead>\n",
              "    <tr style=\"text-align: right;\">\n",
              "      <th></th>\n",
              "      <th>region</th>\n",
              "      <th>Population</th>\n",
              "      <th>date</th>\n",
              "      <th>Lat</th>\n",
              "      <th>Long</th>\n",
              "      <th>Confirmed</th>\n",
              "    </tr>\n",
              "  </thead>\n",
              "  <tbody>\n",
              "    <tr>\n",
              "      <th>18819</th>\n",
              "      <td>Tipperary</td>\n",
              "      <td>159553</td>\n",
              "      <td>2022-02-21</td>\n",
              "      <td>52.6407</td>\n",
              "      <td>-7.9206</td>\n",
              "      <td>38311</td>\n",
              "    </tr>\n",
              "    <tr>\n",
              "      <th>18820</th>\n",
              "      <td>Waterford</td>\n",
              "      <td>116176</td>\n",
              "      <td>2022-02-21</td>\n",
              "      <td>52.2035</td>\n",
              "      <td>-7.4935</td>\n",
              "      <td>30778</td>\n",
              "    </tr>\n",
              "    <tr>\n",
              "      <th>18821</th>\n",
              "      <td>Westmeath</td>\n",
              "      <td>88770</td>\n",
              "      <td>2022-02-21</td>\n",
              "      <td>53.5524</td>\n",
              "      <td>-7.4219</td>\n",
              "      <td>28260</td>\n",
              "    </tr>\n",
              "    <tr>\n",
              "      <th>18822</th>\n",
              "      <td>Wexford</td>\n",
              "      <td>149722</td>\n",
              "      <td>2022-02-21</td>\n",
              "      <td>52.5164</td>\n",
              "      <td>-6.5037</td>\n",
              "      <td>33835</td>\n",
              "    </tr>\n",
              "    <tr>\n",
              "      <th>18823</th>\n",
              "      <td>Wicklow</td>\n",
              "      <td>142425</td>\n",
              "      <td>2022-02-21</td>\n",
              "      <td>53.0205</td>\n",
              "      <td>-6.3442</td>\n",
              "      <td>31193</td>\n",
              "    </tr>\n",
              "  </tbody>\n",
              "</table>\n",
              "</div>\n",
              "      <button class=\"colab-df-convert\" onclick=\"convertToInteractive('df-32c73f4c-8775-4a6c-878c-220e52d88760')\"\n",
              "              title=\"Convert this dataframe to an interactive table.\"\n",
              "              style=\"display:none;\">\n",
              "        \n",
              "  <svg xmlns=\"http://www.w3.org/2000/svg\" height=\"24px\"viewBox=\"0 0 24 24\"\n",
              "       width=\"24px\">\n",
              "    <path d=\"M0 0h24v24H0V0z\" fill=\"none\"/>\n",
              "    <path d=\"M18.56 5.44l.94 2.06.94-2.06 2.06-.94-2.06-.94-.94-2.06-.94 2.06-2.06.94zm-11 1L8.5 8.5l.94-2.06 2.06-.94-2.06-.94L8.5 2.5l-.94 2.06-2.06.94zm10 10l.94 2.06.94-2.06 2.06-.94-2.06-.94-.94-2.06-.94 2.06-2.06.94z\"/><path d=\"M17.41 7.96l-1.37-1.37c-.4-.4-.92-.59-1.43-.59-.52 0-1.04.2-1.43.59L10.3 9.45l-7.72 7.72c-.78.78-.78 2.05 0 2.83L4 21.41c.39.39.9.59 1.41.59.51 0 1.02-.2 1.41-.59l7.78-7.78 2.81-2.81c.8-.78.8-2.07 0-2.86zM5.41 20L4 18.59l7.72-7.72 1.47 1.35L5.41 20z\"/>\n",
              "  </svg>\n",
              "      </button>\n",
              "      \n",
              "  <style>\n",
              "    .colab-df-container {\n",
              "      display:flex;\n",
              "      flex-wrap:wrap;\n",
              "      gap: 12px;\n",
              "    }\n",
              "\n",
              "    .colab-df-convert {\n",
              "      background-color: #E8F0FE;\n",
              "      border: none;\n",
              "      border-radius: 50%;\n",
              "      cursor: pointer;\n",
              "      display: none;\n",
              "      fill: #1967D2;\n",
              "      height: 32px;\n",
              "      padding: 0 0 0 0;\n",
              "      width: 32px;\n",
              "    }\n",
              "\n",
              "    .colab-df-convert:hover {\n",
              "      background-color: #E2EBFA;\n",
              "      box-shadow: 0px 1px 2px rgba(60, 64, 67, 0.3), 0px 1px 3px 1px rgba(60, 64, 67, 0.15);\n",
              "      fill: #174EA6;\n",
              "    }\n",
              "\n",
              "    [theme=dark] .colab-df-convert {\n",
              "      background-color: #3B4455;\n",
              "      fill: #D2E3FC;\n",
              "    }\n",
              "\n",
              "    [theme=dark] .colab-df-convert:hover {\n",
              "      background-color: #434B5C;\n",
              "      box-shadow: 0px 1px 3px 1px rgba(0, 0, 0, 0.15);\n",
              "      filter: drop-shadow(0px 1px 2px rgba(0, 0, 0, 0.3));\n",
              "      fill: #FFFFFF;\n",
              "    }\n",
              "  </style>\n",
              "\n",
              "      <script>\n",
              "        const buttonEl =\n",
              "          document.querySelector('#df-32c73f4c-8775-4a6c-878c-220e52d88760 button.colab-df-convert');\n",
              "        buttonEl.style.display =\n",
              "          google.colab.kernel.accessAllowed ? 'block' : 'none';\n",
              "\n",
              "        async function convertToInteractive(key) {\n",
              "          const element = document.querySelector('#df-32c73f4c-8775-4a6c-878c-220e52d88760');\n",
              "          const dataTable =\n",
              "            await google.colab.kernel.invokeFunction('convertToInteractive',\n",
              "                                                     [key], {});\n",
              "          if (!dataTable) return;\n",
              "\n",
              "          const docLinkHtml = 'Like what you see? Visit the ' +\n",
              "            '<a target=\"_blank\" href=https://colab.research.google.com/notebooks/data_table.ipynb>data table notebook</a>'\n",
              "            + ' to learn more about interactive tables.';\n",
              "          element.innerHTML = '';\n",
              "          dataTable['output_type'] = 'display_data';\n",
              "          await google.colab.output.renderOutput(dataTable, element);\n",
              "          const docLink = document.createElement('div');\n",
              "          docLink.innerHTML = docLinkHtml;\n",
              "          element.appendChild(docLink);\n",
              "        }\n",
              "      </script>\n",
              "    </div>\n",
              "  </div>\n",
              "  "
            ],
            "text/plain": [
              "          region  Population        date      Lat    Long  Confirmed\n",
              "18819  Tipperary      159553  2022-02-21  52.6407 -7.9206      38311\n",
              "18820  Waterford      116176  2022-02-21  52.2035 -7.4935      30778\n",
              "18821  Westmeath       88770  2022-02-21  53.5524 -7.4219      28260\n",
              "18822    Wexford      149722  2022-02-21  52.5164 -6.5037      33835\n",
              "18823    Wicklow      142425  2022-02-21  53.0205 -6.3442      31193"
            ]
          },
          "metadata": {},
          "execution_count": 8
        }
      ],
      "source": [
        "covid.tail()"
      ]
    },
    {
      "cell_type": "code",
      "execution_count": 9,
      "id": "2258acdc",
      "metadata": {
        "colab": {
          "base_uri": "https://localhost:8080/"
        },
        "id": "2258acdc",
        "outputId": "798e2bc7-e84e-4974-87a6-836f15ffa31d"
      },
      "outputs": [
        {
          "output_type": "execute_result",
          "data": {
            "text/plain": [
              "(datetime.date(2020, 2, 27), datetime.date(2022, 2, 21))"
            ]
          },
          "metadata": {},
          "execution_count": 9
        }
      ],
      "source": [
        "covid.date.min(),covid.date.max()"
      ]
    },
    {
      "cell_type": "markdown",
      "id": "7da77446",
      "metadata": {
        "id": "7da77446"
      },
      "source": [
        "### 2- World Data:\n",
        "### John Hopkings Dataset"
      ]
    },
    {
      "cell_type": "code",
      "execution_count": 10,
      "id": "9dc3914e",
      "metadata": {
        "id": "9dc3914e"
      },
      "outputs": [],
      "source": [
        "# Specifing URL from John Hopkings DataSets\n",
        "john_hopkings_dataset_confirmed_url = 'https://raw.githubusercontent.com/CSSEGISandData/COVID-19/master/csse_covid_19_data/csse_covid_19_time_series/time_series_covid19_confirmed_global.csv'\n",
        "john_hopkings_dataset_recovered_url = 'https://raw.githubusercontent.com/CSSEGISandData/COVID-19/master/csse_covid_19_data/csse_covid_19_time_series/time_series_covid19_recovered_global.csv'\n",
        "john_hopkings_dataset_deaths_url = 'https://raw.githubusercontent.com/CSSEGISandData/COVID-19/master/csse_covid_19_data/csse_covid_19_time_series/time_series_covid19_deaths_global.csv'\n",
        "\n",
        "# Data \n",
        "df_confirmed =  pd.read_csv (john_hopkings_dataset_confirmed_url)\n",
        "df_recovered = pd.read_csv (john_hopkings_dataset_recovered_url)\n",
        "df_deaths = pd.read_csv (john_hopkings_dataset_deaths_url )"
      ]
    },
    {
      "cell_type": "code",
      "execution_count": 11,
      "id": "a56ae1f2",
      "metadata": {
        "id": "a56ae1f2"
      },
      "outputs": [],
      "source": [
        "#Changing  to long format\n",
        "def transfer_covid_data (hopkin_url, covid_case):\n",
        "    df =  pd.read_csv (hopkin_url)\n",
        "    # Grouping data by country to have once single name for all countries\n",
        "    df = df.groupby('Country/Region', as_index=False).sum()\n",
        "    df = df.melt(id_vars = ['Country/Region', 'Lat', 'Long'],\n",
        "             value_name=covid_case)\n",
        "    # Simplify column names\n",
        "    df.columns =  ['Country', 'Latitude', 'Longitude', 'Date', covid_case]\n",
        "    return df\n",
        "# Calling functions for our 3 seprated datasets:\n",
        "df_confirmed = transfer_covid_data(john_hopkings_dataset_confirmed_url, 'Confirmed')\n",
        "df_recovered = transfer_covid_data(john_hopkings_dataset_recovered_url, 'Recovered')\n",
        "df_deaths = transfer_covid_data(john_hopkings_dataset_deaths_url, 'Deaths')"
      ]
    },
    {
      "cell_type": "code",
      "execution_count": 12,
      "id": "4679de34",
      "metadata": {
        "id": "4679de34"
      },
      "outputs": [],
      "source": [
        "# Changing  to Country Features\n",
        "def group_covid_data (hopkin_url, covid_case):\n",
        "    '''\n",
        "    Grouping data based on the \"Country/Region and sum all the numbers related to that country\n",
        "    Droping spatial features, since we are going to use some shape files for this purpose\n",
        "    Transposing row and coulmns to se countries in rows and numbers based on the dates\n",
        "    \n",
        "    '''\n",
        "    df =  pd.read_csv (hopkin_url)\n",
        "    # Grouping data by country to have once single name for all countries\n",
        "    df = df.groupby('Country/Region').sum()\n",
        "    df_drop = df.drop (['Lat', 'Long'], axis = 1)\n",
        "    df_drop = df_drop.T \n",
        "    return df_drop\n",
        "# Calling functions for our 3 seprated datasets:\n",
        "hopkings_confirmed = group_covid_data(john_hopkings_dataset_confirmed_url, 'Confirmed')\n",
        "hopkings_recovered = group_covid_data(john_hopkings_dataset_recovered_url, 'Recovered')\n",
        "hopkings_deaths = group_covid_data(john_hopkings_dataset_deaths_url, 'Deaths')"
      ]
    },
    {
      "cell_type": "markdown",
      "id": "3747c2c4",
      "metadata": {
        "id": "3747c2c4"
      },
      "source": [
        "## B) Vaccine Data Ireland"
      ]
    },
    {
      "cell_type": "code",
      "execution_count": 13,
      "id": "bbf66785",
      "metadata": {
        "id": "bbf66785"
      },
      "outputs": [],
      "source": [
        "vacccine_url = 'https://raw.githubusercontent.com/owid/covid-19-data/master/public/data/vaccinations/country_data/Ireland.csv'\n",
        "# Data \n",
        "vaccine =  pd.read_csv (vacccine_url)\n",
        "vaccine = vaccine.drop(columns = ['location', 'vaccine', 'source_url', 'total_vaccinations', 'people_fully_vaccinated'])\n",
        "# Changing date type\n",
        "vaccine['date'] = pd.to_datetime(vaccine['date']).dt.date\n",
        "# Filter start & end Date\n",
        "vaccine = vaccine.loc[(vaccine['date'] >= startdate) & (vaccine ['date'] < enddate )]"
      ]
    },
    {
      "cell_type": "code",
      "execution_count": 14,
      "id": "d2da7da1",
      "metadata": {
        "colab": {
          "base_uri": "https://localhost:8080/",
          "height": 206
        },
        "id": "d2da7da1",
        "outputId": "1bda7afd-9443-4bd6-f816-bd0a71898485"
      },
      "outputs": [
        {
          "output_type": "execute_result",
          "data": {
            "text/html": [
              "\n",
              "  <div id=\"df-32958e25-09a4-4dbc-a837-12bbce307e2d\">\n",
              "    <div class=\"colab-df-container\">\n",
              "      <div>\n",
              "<style scoped>\n",
              "    .dataframe tbody tr th:only-of-type {\n",
              "        vertical-align: middle;\n",
              "    }\n",
              "\n",
              "    .dataframe tbody tr th {\n",
              "        vertical-align: top;\n",
              "    }\n",
              "\n",
              "    .dataframe thead th {\n",
              "        text-align: right;\n",
              "    }\n",
              "</style>\n",
              "<table border=\"1\" class=\"dataframe\">\n",
              "  <thead>\n",
              "    <tr style=\"text-align: right;\">\n",
              "      <th></th>\n",
              "      <th>date</th>\n",
              "      <th>people_vaccinated</th>\n",
              "      <th>total_boosters</th>\n",
              "    </tr>\n",
              "  </thead>\n",
              "  <tbody>\n",
              "    <tr>\n",
              "      <th>393</th>\n",
              "      <td>2022-01-27</td>\n",
              "      <td>4021949</td>\n",
              "      <td>2699977</td>\n",
              "    </tr>\n",
              "    <tr>\n",
              "      <th>394</th>\n",
              "      <td>2022-01-28</td>\n",
              "      <td>4022972</td>\n",
              "      <td>2706690</td>\n",
              "    </tr>\n",
              "    <tr>\n",
              "      <th>395</th>\n",
              "      <td>2022-01-29</td>\n",
              "      <td>4025295</td>\n",
              "      <td>2710580</td>\n",
              "    </tr>\n",
              "    <tr>\n",
              "      <th>396</th>\n",
              "      <td>2022-01-30</td>\n",
              "      <td>4026929</td>\n",
              "      <td>2712563</td>\n",
              "    </tr>\n",
              "    <tr>\n",
              "      <th>397</th>\n",
              "      <td>2022-01-31</td>\n",
              "      <td>4027405</td>\n",
              "      <td>2715420</td>\n",
              "    </tr>\n",
              "  </tbody>\n",
              "</table>\n",
              "</div>\n",
              "      <button class=\"colab-df-convert\" onclick=\"convertToInteractive('df-32958e25-09a4-4dbc-a837-12bbce307e2d')\"\n",
              "              title=\"Convert this dataframe to an interactive table.\"\n",
              "              style=\"display:none;\">\n",
              "        \n",
              "  <svg xmlns=\"http://www.w3.org/2000/svg\" height=\"24px\"viewBox=\"0 0 24 24\"\n",
              "       width=\"24px\">\n",
              "    <path d=\"M0 0h24v24H0V0z\" fill=\"none\"/>\n",
              "    <path d=\"M18.56 5.44l.94 2.06.94-2.06 2.06-.94-2.06-.94-.94-2.06-.94 2.06-2.06.94zm-11 1L8.5 8.5l.94-2.06 2.06-.94-2.06-.94L8.5 2.5l-.94 2.06-2.06.94zm10 10l.94 2.06.94-2.06 2.06-.94-2.06-.94-.94-2.06-.94 2.06-2.06.94z\"/><path d=\"M17.41 7.96l-1.37-1.37c-.4-.4-.92-.59-1.43-.59-.52 0-1.04.2-1.43.59L10.3 9.45l-7.72 7.72c-.78.78-.78 2.05 0 2.83L4 21.41c.39.39.9.59 1.41.59.51 0 1.02-.2 1.41-.59l7.78-7.78 2.81-2.81c.8-.78.8-2.07 0-2.86zM5.41 20L4 18.59l7.72-7.72 1.47 1.35L5.41 20z\"/>\n",
              "  </svg>\n",
              "      </button>\n",
              "      \n",
              "  <style>\n",
              "    .colab-df-container {\n",
              "      display:flex;\n",
              "      flex-wrap:wrap;\n",
              "      gap: 12px;\n",
              "    }\n",
              "\n",
              "    .colab-df-convert {\n",
              "      background-color: #E8F0FE;\n",
              "      border: none;\n",
              "      border-radius: 50%;\n",
              "      cursor: pointer;\n",
              "      display: none;\n",
              "      fill: #1967D2;\n",
              "      height: 32px;\n",
              "      padding: 0 0 0 0;\n",
              "      width: 32px;\n",
              "    }\n",
              "\n",
              "    .colab-df-convert:hover {\n",
              "      background-color: #E2EBFA;\n",
              "      box-shadow: 0px 1px 2px rgba(60, 64, 67, 0.3), 0px 1px 3px 1px rgba(60, 64, 67, 0.15);\n",
              "      fill: #174EA6;\n",
              "    }\n",
              "\n",
              "    [theme=dark] .colab-df-convert {\n",
              "      background-color: #3B4455;\n",
              "      fill: #D2E3FC;\n",
              "    }\n",
              "\n",
              "    [theme=dark] .colab-df-convert:hover {\n",
              "      background-color: #434B5C;\n",
              "      box-shadow: 0px 1px 3px 1px rgba(0, 0, 0, 0.15);\n",
              "      filter: drop-shadow(0px 1px 2px rgba(0, 0, 0, 0.3));\n",
              "      fill: #FFFFFF;\n",
              "    }\n",
              "  </style>\n",
              "\n",
              "      <script>\n",
              "        const buttonEl =\n",
              "          document.querySelector('#df-32958e25-09a4-4dbc-a837-12bbce307e2d button.colab-df-convert');\n",
              "        buttonEl.style.display =\n",
              "          google.colab.kernel.accessAllowed ? 'block' : 'none';\n",
              "\n",
              "        async function convertToInteractive(key) {\n",
              "          const element = document.querySelector('#df-32958e25-09a4-4dbc-a837-12bbce307e2d');\n",
              "          const dataTable =\n",
              "            await google.colab.kernel.invokeFunction('convertToInteractive',\n",
              "                                                     [key], {});\n",
              "          if (!dataTable) return;\n",
              "\n",
              "          const docLinkHtml = 'Like what you see? Visit the ' +\n",
              "            '<a target=\"_blank\" href=https://colab.research.google.com/notebooks/data_table.ipynb>data table notebook</a>'\n",
              "            + ' to learn more about interactive tables.';\n",
              "          element.innerHTML = '';\n",
              "          dataTable['output_type'] = 'display_data';\n",
              "          await google.colab.output.renderOutput(dataTable, element);\n",
              "          const docLink = document.createElement('div');\n",
              "          docLink.innerHTML = docLinkHtml;\n",
              "          element.appendChild(docLink);\n",
              "        }\n",
              "      </script>\n",
              "    </div>\n",
              "  </div>\n",
              "  "
            ],
            "text/plain": [
              "           date  people_vaccinated  total_boosters\n",
              "393  2022-01-27            4021949         2699977\n",
              "394  2022-01-28            4022972         2706690\n",
              "395  2022-01-29            4025295         2710580\n",
              "396  2022-01-30            4026929         2712563\n",
              "397  2022-01-31            4027405         2715420"
            ]
          },
          "metadata": {},
          "execution_count": 14
        }
      ],
      "source": [
        "vaccine.tail()"
      ]
    },
    {
      "cell_type": "markdown",
      "id": "d9043b59",
      "metadata": {
        "id": "d9043b59"
      },
      "source": [
        "## C ) Apple Mobility Data"
      ]
    },
    {
      "cell_type": "code",
      "execution_count": 15,
      "id": "d5434fd0",
      "metadata": {
        "id": "d5434fd0"
      },
      "outputs": [],
      "source": [
        "# get link via API\n",
        "json_link = \"https://covid19-static.cdn-apple.com/covid19-mobility-data/current/v3/index.json\"\n",
        "with urllib.request.urlopen(json_link) as url:\n",
        "    json_data = json.loads(url.read().decode())\n",
        "    link_apple = \"https://covid19-static.cdn-apple.com\" + \\\n",
        "json_data['basePath'] + json_data['regions']['en-us']['csvPath']"
      ]
    },
    {
      "cell_type": "code",
      "execution_count": 16,
      "id": "490ef8b3",
      "metadata": {
        "colab": {
          "base_uri": "https://localhost:8080/",
          "height": 35
        },
        "id": "490ef8b3",
        "outputId": "7a74aa60-c73e-49a7-d987-405811d5e3e9"
      },
      "outputs": [
        {
          "output_type": "execute_result",
          "data": {
            "application/vnd.google.colaboratory.intrinsic+json": {
              "type": "string"
            },
            "text/plain": [
              "'https://covid19-static.cdn-apple.com/covid19-mobility-data/2208HotfixDev15/v3/en-us/applemobilitytrends-2022-02-22.csv'"
            ]
          },
          "metadata": {},
          "execution_count": 16
        }
      ],
      "source": [
        "link_apple"
      ]
    },
    {
      "cell_type": "code",
      "execution_count": 17,
      "id": "49d62cd9",
      "metadata": {
        "id": "49d62cd9"
      },
      "outputs": [],
      "source": [
        "# Reading the apple csv file\n",
        "apple = pd.read_csv(link_apple , low_memory=False)\n",
        "countries = ['Ireland']\n",
        "apple = apple[apple['country'].isin(countries)]\n",
        "apple = apple.drop(columns=['geo_type','alternative_name', 'sub-region'])\n",
        "\n",
        "apple = apple.melt(id_vars=[\n",
        "            'country',\n",
        "            'region',\n",
        "            'transportation_type'],\n",
        "        var_name='date')\n",
        "# minus -100 to be similar to Google\n",
        "apple['value'] = apple['value'] - 100\n",
        "\n",
        "# Changing date type\n",
        "apple['date'] = pd.to_datetime(apple['date']).dt.date\n",
        "\n",
        "# Filter start & end Date\n",
        "apple = apple.loc[(apple ['date'] >= startdate) & (apple ['date'] < enddate )]"
      ]
    },
    {
      "cell_type": "code",
      "execution_count": 19,
      "id": "4001bd40",
      "metadata": {
        "id": "4001bd40"
      },
      "outputs": [],
      "source": [
        "apple = apple.pivot_table(\n",
        "    index=[\n",
        "            'country',\n",
        "            'region',\n",
        "            'date'],\n",
        "    columns='transportation_type', values = 'value').reset_index()"
      ]
    },
    {
      "cell_type": "code",
      "execution_count": 20,
      "id": "19942376",
      "metadata": {
        "colab": {
          "base_uri": "https://localhost:8080/",
          "height": 206
        },
        "id": "19942376",
        "outputId": "3daa8b37-59f4-4f41-f685-59a1b546eeb1"
      },
      "outputs": [
        {
          "output_type": "execute_result",
          "data": {
            "text/html": [
              "\n",
              "  <div id=\"df-13eda5e1-edb9-46a5-9872-1f7d114cf327\">\n",
              "    <div class=\"colab-df-container\">\n",
              "      <div>\n",
              "<style scoped>\n",
              "    .dataframe tbody tr th:only-of-type {\n",
              "        vertical-align: middle;\n",
              "    }\n",
              "\n",
              "    .dataframe tbody tr th {\n",
              "        vertical-align: top;\n",
              "    }\n",
              "\n",
              "    .dataframe thead th {\n",
              "        text-align: right;\n",
              "    }\n",
              "</style>\n",
              "<table border=\"1\" class=\"dataframe\">\n",
              "  <thead>\n",
              "    <tr style=\"text-align: right;\">\n",
              "      <th>transportation_type</th>\n",
              "      <th>country</th>\n",
              "      <th>region</th>\n",
              "      <th>date</th>\n",
              "      <th>driving</th>\n",
              "      <th>transit</th>\n",
              "      <th>walking</th>\n",
              "    </tr>\n",
              "  </thead>\n",
              "  <tbody>\n",
              "    <tr>\n",
              "      <th>13859</th>\n",
              "      <td>Ireland</td>\n",
              "      <td>Wicklow</td>\n",
              "      <td>2022-01-27</td>\n",
              "      <td>5.96</td>\n",
              "      <td>NaN</td>\n",
              "      <td>NaN</td>\n",
              "    </tr>\n",
              "    <tr>\n",
              "      <th>13860</th>\n",
              "      <td>Ireland</td>\n",
              "      <td>Wicklow</td>\n",
              "      <td>2022-01-28</td>\n",
              "      <td>29.89</td>\n",
              "      <td>NaN</td>\n",
              "      <td>NaN</td>\n",
              "    </tr>\n",
              "    <tr>\n",
              "      <th>13861</th>\n",
              "      <td>Ireland</td>\n",
              "      <td>Wicklow</td>\n",
              "      <td>2022-01-29</td>\n",
              "      <td>62.53</td>\n",
              "      <td>NaN</td>\n",
              "      <td>NaN</td>\n",
              "    </tr>\n",
              "    <tr>\n",
              "      <th>13862</th>\n",
              "      <td>Ireland</td>\n",
              "      <td>Wicklow</td>\n",
              "      <td>2022-01-30</td>\n",
              "      <td>44.22</td>\n",
              "      <td>NaN</td>\n",
              "      <td>NaN</td>\n",
              "    </tr>\n",
              "    <tr>\n",
              "      <th>13863</th>\n",
              "      <td>Ireland</td>\n",
              "      <td>Wicklow</td>\n",
              "      <td>2022-01-31</td>\n",
              "      <td>13.47</td>\n",
              "      <td>NaN</td>\n",
              "      <td>NaN</td>\n",
              "    </tr>\n",
              "  </tbody>\n",
              "</table>\n",
              "</div>\n",
              "      <button class=\"colab-df-convert\" onclick=\"convertToInteractive('df-13eda5e1-edb9-46a5-9872-1f7d114cf327')\"\n",
              "              title=\"Convert this dataframe to an interactive table.\"\n",
              "              style=\"display:none;\">\n",
              "        \n",
              "  <svg xmlns=\"http://www.w3.org/2000/svg\" height=\"24px\"viewBox=\"0 0 24 24\"\n",
              "       width=\"24px\">\n",
              "    <path d=\"M0 0h24v24H0V0z\" fill=\"none\"/>\n",
              "    <path d=\"M18.56 5.44l.94 2.06.94-2.06 2.06-.94-2.06-.94-.94-2.06-.94 2.06-2.06.94zm-11 1L8.5 8.5l.94-2.06 2.06-.94-2.06-.94L8.5 2.5l-.94 2.06-2.06.94zm10 10l.94 2.06.94-2.06 2.06-.94-2.06-.94-.94-2.06-.94 2.06-2.06.94z\"/><path d=\"M17.41 7.96l-1.37-1.37c-.4-.4-.92-.59-1.43-.59-.52 0-1.04.2-1.43.59L10.3 9.45l-7.72 7.72c-.78.78-.78 2.05 0 2.83L4 21.41c.39.39.9.59 1.41.59.51 0 1.02-.2 1.41-.59l7.78-7.78 2.81-2.81c.8-.78.8-2.07 0-2.86zM5.41 20L4 18.59l7.72-7.72 1.47 1.35L5.41 20z\"/>\n",
              "  </svg>\n",
              "      </button>\n",
              "      \n",
              "  <style>\n",
              "    .colab-df-container {\n",
              "      display:flex;\n",
              "      flex-wrap:wrap;\n",
              "      gap: 12px;\n",
              "    }\n",
              "\n",
              "    .colab-df-convert {\n",
              "      background-color: #E8F0FE;\n",
              "      border: none;\n",
              "      border-radius: 50%;\n",
              "      cursor: pointer;\n",
              "      display: none;\n",
              "      fill: #1967D2;\n",
              "      height: 32px;\n",
              "      padding: 0 0 0 0;\n",
              "      width: 32px;\n",
              "    }\n",
              "\n",
              "    .colab-df-convert:hover {\n",
              "      background-color: #E2EBFA;\n",
              "      box-shadow: 0px 1px 2px rgba(60, 64, 67, 0.3), 0px 1px 3px 1px rgba(60, 64, 67, 0.15);\n",
              "      fill: #174EA6;\n",
              "    }\n",
              "\n",
              "    [theme=dark] .colab-df-convert {\n",
              "      background-color: #3B4455;\n",
              "      fill: #D2E3FC;\n",
              "    }\n",
              "\n",
              "    [theme=dark] .colab-df-convert:hover {\n",
              "      background-color: #434B5C;\n",
              "      box-shadow: 0px 1px 3px 1px rgba(0, 0, 0, 0.15);\n",
              "      filter: drop-shadow(0px 1px 2px rgba(0, 0, 0, 0.3));\n",
              "      fill: #FFFFFF;\n",
              "    }\n",
              "  </style>\n",
              "\n",
              "      <script>\n",
              "        const buttonEl =\n",
              "          document.querySelector('#df-13eda5e1-edb9-46a5-9872-1f7d114cf327 button.colab-df-convert');\n",
              "        buttonEl.style.display =\n",
              "          google.colab.kernel.accessAllowed ? 'block' : 'none';\n",
              "\n",
              "        async function convertToInteractive(key) {\n",
              "          const element = document.querySelector('#df-13eda5e1-edb9-46a5-9872-1f7d114cf327');\n",
              "          const dataTable =\n",
              "            await google.colab.kernel.invokeFunction('convertToInteractive',\n",
              "                                                     [key], {});\n",
              "          if (!dataTable) return;\n",
              "\n",
              "          const docLinkHtml = 'Like what you see? Visit the ' +\n",
              "            '<a target=\"_blank\" href=https://colab.research.google.com/notebooks/data_table.ipynb>data table notebook</a>'\n",
              "            + ' to learn more about interactive tables.';\n",
              "          element.innerHTML = '';\n",
              "          dataTable['output_type'] = 'display_data';\n",
              "          await google.colab.output.renderOutput(dataTable, element);\n",
              "          const docLink = document.createElement('div');\n",
              "          docLink.innerHTML = docLinkHtml;\n",
              "          element.appendChild(docLink);\n",
              "        }\n",
              "      </script>\n",
              "    </div>\n",
              "  </div>\n",
              "  "
            ],
            "text/plain": [
              "transportation_type  country   region        date  driving  transit  walking\n",
              "13859                Ireland  Wicklow  2022-01-27     5.96      NaN      NaN\n",
              "13860                Ireland  Wicklow  2022-01-28    29.89      NaN      NaN\n",
              "13861                Ireland  Wicklow  2022-01-29    62.53      NaN      NaN\n",
              "13862                Ireland  Wicklow  2022-01-30    44.22      NaN      NaN\n",
              "13863                Ireland  Wicklow  2022-01-31    13.47      NaN      NaN"
            ]
          },
          "metadata": {},
          "execution_count": 20
        }
      ],
      "source": [
        "apple.tail()"
      ]
    },
    {
      "cell_type": "code",
      "execution_count": 21,
      "id": "44692345",
      "metadata": {
        "colab": {
          "base_uri": "https://localhost:8080/"
        },
        "id": "44692345",
        "outputId": "cd1310af-4992-4006-90e1-020572de18bc"
      },
      "outputs": [
        {
          "output_type": "execute_result",
          "data": {
            "text/plain": [
              "(datetime.date(2020, 3, 7), datetime.date(2022, 1, 31))"
            ]
          },
          "metadata": {},
          "execution_count": 21
        }
      ],
      "source": [
        "apple.date.min(), apple.date.max()"
      ]
    },
    {
      "cell_type": "markdown",
      "id": "805056cd",
      "metadata": {
        "id": "805056cd"
      },
      "source": [
        "## D) Google Mobility Data"
      ]
    },
    {
      "cell_type": "code",
      "execution_count": 22,
      "id": "34a41ae6",
      "metadata": {
        "id": "34a41ae6"
      },
      "outputs": [],
      "source": [
        "# get webpage source\n",
        "url = 'https://www.google.com/covid19/mobility/'\n",
        "response = requests.get(url)\n",
        "soup = BeautifulSoup(response.text, \"html.parser\")\n",
        "link_google = soup.find('a', {\"class\": \"icon-link\"})['href']\n",
        "\n",
        "# Reading the apple csv file\n",
        "google = pd.read_csv(link_google , low_memory=False)"
      ]
    },
    {
      "cell_type": "code",
      "execution_count": 23,
      "id": "d36440e2",
      "metadata": {
        "id": "d36440e2"
      },
      "outputs": [],
      "source": [
        "# Filtering Ireland\n",
        "country_code = ['IE']\n",
        "google = google[google['country_region_code'].isin(country_code)]\n",
        "# Changing date type\n",
        "google['date'] = pd.to_datetime(google['date']).dt.date\n",
        "# Filter start & end Date\n",
        "google = google.loc[(google['date'] >= startdate) & (google ['date'] < enddate )]\n",
        "# shorten value column names\n",
        "google.columns = google.columns.str.replace('_percent_change_from_baseline', '')\n",
        "# Remove underscore from column names\n",
        "google.columns = google.columns.str.replace('_', ' ')\n",
        "# Removing County char from region column\n",
        "google['sub region 1'] =google['sub region 1'].str.replace('County ', '')\n",
        "# Remove extra Columns\n",
        "google = google.drop(columns = ['country region code',\n",
        "                               #'country region',\n",
        "                                'sub region 2',\n",
        "                                'metro area',\n",
        "                                'iso 3166 2 code',\n",
        "                                'census fips code',\n",
        "                                'place id'])\n",
        "# Renaming columns\n",
        "google = google.rename(columns = {'sub region 1': 'County', \n",
        "                         'date' : 'Date',\n",
        "                         'retail and recreation': 'Retail and Recreation',\n",
        "                         'grocery and pharmacy' : 'Grocery and Pharmacy',\n",
        "                         'parks': 'Parks',\n",
        "                         'transit stations': 'Transit Stations',\n",
        "                         'workplaces': 'Workplaces',\n",
        "                          'residential' : 'Residential'})"
      ]
    },
    {
      "cell_type": "code",
      "execution_count": 24,
      "id": "2d963738",
      "metadata": {
        "colab": {
          "base_uri": "https://localhost:8080/",
          "height": 206
        },
        "id": "2d963738",
        "outputId": "9de57608-ff18-4146-d570-9cff2e16cad6"
      },
      "outputs": [
        {
          "output_type": "execute_result",
          "data": {
            "text/html": [
              "\n",
              "  <div id=\"df-be1d915e-0504-437b-8bb7-0efebb916f93\">\n",
              "    <div class=\"colab-df-container\">\n",
              "      <div>\n",
              "<style scoped>\n",
              "    .dataframe tbody tr th:only-of-type {\n",
              "        vertical-align: middle;\n",
              "    }\n",
              "\n",
              "    .dataframe tbody tr th {\n",
              "        vertical-align: top;\n",
              "    }\n",
              "\n",
              "    .dataframe thead th {\n",
              "        text-align: right;\n",
              "    }\n",
              "</style>\n",
              "<table border=\"1\" class=\"dataframe\">\n",
              "  <thead>\n",
              "    <tr style=\"text-align: right;\">\n",
              "      <th></th>\n",
              "      <th>country region</th>\n",
              "      <th>County</th>\n",
              "      <th>Date</th>\n",
              "      <th>Retail and Recreation</th>\n",
              "      <th>Grocery and Pharmacy</th>\n",
              "      <th>Parks</th>\n",
              "      <th>Transit Stations</th>\n",
              "      <th>Workplaces</th>\n",
              "      <th>Residential</th>\n",
              "    </tr>\n",
              "  </thead>\n",
              "  <tbody>\n",
              "    <tr>\n",
              "      <th>3793225</th>\n",
              "      <td>Ireland</td>\n",
              "      <td>Wicklow</td>\n",
              "      <td>2022-01-27</td>\n",
              "      <td>3.0</td>\n",
              "      <td>14.0</td>\n",
              "      <td>34.0</td>\n",
              "      <td>-35.0</td>\n",
              "      <td>-26.0</td>\n",
              "      <td>10.0</td>\n",
              "    </tr>\n",
              "    <tr>\n",
              "      <th>3793226</th>\n",
              "      <td>Ireland</td>\n",
              "      <td>Wicklow</td>\n",
              "      <td>2022-01-28</td>\n",
              "      <td>-2.0</td>\n",
              "      <td>14.0</td>\n",
              "      <td>28.0</td>\n",
              "      <td>-34.0</td>\n",
              "      <td>-22.0</td>\n",
              "      <td>10.0</td>\n",
              "    </tr>\n",
              "    <tr>\n",
              "      <th>3793227</th>\n",
              "      <td>Ireland</td>\n",
              "      <td>Wicklow</td>\n",
              "      <td>2022-01-29</td>\n",
              "      <td>5.0</td>\n",
              "      <td>12.0</td>\n",
              "      <td>10.0</td>\n",
              "      <td>-21.0</td>\n",
              "      <td>-4.0</td>\n",
              "      <td>3.0</td>\n",
              "    </tr>\n",
              "    <tr>\n",
              "      <th>3793228</th>\n",
              "      <td>Ireland</td>\n",
              "      <td>Wicklow</td>\n",
              "      <td>2022-01-30</td>\n",
              "      <td>-5.0</td>\n",
              "      <td>2.0</td>\n",
              "      <td>3.0</td>\n",
              "      <td>-26.0</td>\n",
              "      <td>-6.0</td>\n",
              "      <td>3.0</td>\n",
              "    </tr>\n",
              "    <tr>\n",
              "      <th>3793229</th>\n",
              "      <td>Ireland</td>\n",
              "      <td>Wicklow</td>\n",
              "      <td>2022-01-31</td>\n",
              "      <td>-1.0</td>\n",
              "      <td>14.0</td>\n",
              "      <td>28.0</td>\n",
              "      <td>-32.0</td>\n",
              "      <td>-26.0</td>\n",
              "      <td>10.0</td>\n",
              "    </tr>\n",
              "  </tbody>\n",
              "</table>\n",
              "</div>\n",
              "      <button class=\"colab-df-convert\" onclick=\"convertToInteractive('df-be1d915e-0504-437b-8bb7-0efebb916f93')\"\n",
              "              title=\"Convert this dataframe to an interactive table.\"\n",
              "              style=\"display:none;\">\n",
              "        \n",
              "  <svg xmlns=\"http://www.w3.org/2000/svg\" height=\"24px\"viewBox=\"0 0 24 24\"\n",
              "       width=\"24px\">\n",
              "    <path d=\"M0 0h24v24H0V0z\" fill=\"none\"/>\n",
              "    <path d=\"M18.56 5.44l.94 2.06.94-2.06 2.06-.94-2.06-.94-.94-2.06-.94 2.06-2.06.94zm-11 1L8.5 8.5l.94-2.06 2.06-.94-2.06-.94L8.5 2.5l-.94 2.06-2.06.94zm10 10l.94 2.06.94-2.06 2.06-.94-2.06-.94-.94-2.06-.94 2.06-2.06.94z\"/><path d=\"M17.41 7.96l-1.37-1.37c-.4-.4-.92-.59-1.43-.59-.52 0-1.04.2-1.43.59L10.3 9.45l-7.72 7.72c-.78.78-.78 2.05 0 2.83L4 21.41c.39.39.9.59 1.41.59.51 0 1.02-.2 1.41-.59l7.78-7.78 2.81-2.81c.8-.78.8-2.07 0-2.86zM5.41 20L4 18.59l7.72-7.72 1.47 1.35L5.41 20z\"/>\n",
              "  </svg>\n",
              "      </button>\n",
              "      \n",
              "  <style>\n",
              "    .colab-df-container {\n",
              "      display:flex;\n",
              "      flex-wrap:wrap;\n",
              "      gap: 12px;\n",
              "    }\n",
              "\n",
              "    .colab-df-convert {\n",
              "      background-color: #E8F0FE;\n",
              "      border: none;\n",
              "      border-radius: 50%;\n",
              "      cursor: pointer;\n",
              "      display: none;\n",
              "      fill: #1967D2;\n",
              "      height: 32px;\n",
              "      padding: 0 0 0 0;\n",
              "      width: 32px;\n",
              "    }\n",
              "\n",
              "    .colab-df-convert:hover {\n",
              "      background-color: #E2EBFA;\n",
              "      box-shadow: 0px 1px 2px rgba(60, 64, 67, 0.3), 0px 1px 3px 1px rgba(60, 64, 67, 0.15);\n",
              "      fill: #174EA6;\n",
              "    }\n",
              "\n",
              "    [theme=dark] .colab-df-convert {\n",
              "      background-color: #3B4455;\n",
              "      fill: #D2E3FC;\n",
              "    }\n",
              "\n",
              "    [theme=dark] .colab-df-convert:hover {\n",
              "      background-color: #434B5C;\n",
              "      box-shadow: 0px 1px 3px 1px rgba(0, 0, 0, 0.15);\n",
              "      filter: drop-shadow(0px 1px 2px rgba(0, 0, 0, 0.3));\n",
              "      fill: #FFFFFF;\n",
              "    }\n",
              "  </style>\n",
              "\n",
              "      <script>\n",
              "        const buttonEl =\n",
              "          document.querySelector('#df-be1d915e-0504-437b-8bb7-0efebb916f93 button.colab-df-convert');\n",
              "        buttonEl.style.display =\n",
              "          google.colab.kernel.accessAllowed ? 'block' : 'none';\n",
              "\n",
              "        async function convertToInteractive(key) {\n",
              "          const element = document.querySelector('#df-be1d915e-0504-437b-8bb7-0efebb916f93');\n",
              "          const dataTable =\n",
              "            await google.colab.kernel.invokeFunction('convertToInteractive',\n",
              "                                                     [key], {});\n",
              "          if (!dataTable) return;\n",
              "\n",
              "          const docLinkHtml = 'Like what you see? Visit the ' +\n",
              "            '<a target=\"_blank\" href=https://colab.research.google.com/notebooks/data_table.ipynb>data table notebook</a>'\n",
              "            + ' to learn more about interactive tables.';\n",
              "          element.innerHTML = '';\n",
              "          dataTable['output_type'] = 'display_data';\n",
              "          await google.colab.output.renderOutput(dataTable, element);\n",
              "          const docLink = document.createElement('div');\n",
              "          docLink.innerHTML = docLinkHtml;\n",
              "          element.appendChild(docLink);\n",
              "        }\n",
              "      </script>\n",
              "    </div>\n",
              "  </div>\n",
              "  "
            ],
            "text/plain": [
              "        country region   County  ... Workplaces  Residential\n",
              "3793225        Ireland  Wicklow  ...      -26.0         10.0\n",
              "3793226        Ireland  Wicklow  ...      -22.0         10.0\n",
              "3793227        Ireland  Wicklow  ...       -4.0          3.0\n",
              "3793228        Ireland  Wicklow  ...       -6.0          3.0\n",
              "3793229        Ireland  Wicklow  ...      -26.0         10.0\n",
              "\n",
              "[5 rows x 9 columns]"
            ]
          },
          "metadata": {},
          "execution_count": 24
        }
      ],
      "source": [
        "google.tail()"
      ]
    },
    {
      "cell_type": "code",
      "execution_count": 25,
      "id": "bdc31abc",
      "metadata": {
        "colab": {
          "base_uri": "https://localhost:8080/"
        },
        "id": "bdc31abc",
        "outputId": "ad18a2e8-85bb-485b-acc7-ce579e35b8c6"
      },
      "outputs": [
        {
          "output_type": "execute_result",
          "data": {
            "text/plain": [
              "(datetime.date(2020, 3, 7), datetime.date(2022, 1, 31))"
            ]
          },
          "metadata": {},
          "execution_count": 25
        }
      ],
      "source": [
        "google.Date.min(), google.Date.max()"
      ]
    },
    {
      "cell_type": "markdown",
      "id": "150af50c",
      "metadata": {
        "id": "150af50c"
      },
      "source": [
        "## E) Governments Restrictions Data (OxCGRT)"
      ]
    },
    {
      "cell_type": "code",
      "execution_count": 26,
      "id": "9bd66d4a",
      "metadata": {
        "id": "9bd66d4a"
      },
      "outputs": [],
      "source": [
        "oxford_link= 'https://github.com/OxCGRT/covid-policy-tracker/raw/master/data/OxCGRT_latest.csv'"
      ]
    },
    {
      "cell_type": "code",
      "execution_count": 27,
      "id": "9aeb4452",
      "metadata": {
        "id": "9aeb4452"
      },
      "outputs": [],
      "source": [
        "oxford = pd.read_csv (oxford_link , low_memory=False)\n",
        "#Changing Date format to be matched to other DFs\n",
        "oxford['Date'] = pd.to_datetime(oxford['Date'], format='%Y%m%d')\n",
        "# Changing date type\n",
        "oxford['Date'] = pd.to_datetime(oxford['Date']).dt.date\n",
        "# Filter start & end Date\n",
        "oxford  = oxford .loc[(oxford ['Date'] >= startdate) & (oxford ['Date'] < enddate )]\n",
        "# Filter Ireland\n",
        "CountryName = ['Ireland']\n",
        "oxford =oxford [oxford['CountryName'].isin(CountryName)]\n",
        "# Dropping useless columns\n",
        "oxford = oxford.drop (columns = ['CountryName',\n",
        "                                 'CountryCode',\n",
        "                                 'RegionName',\n",
        "                                 'RegionCode',\n",
        "                                 'Jurisdiction'])"
      ]
    },
    {
      "cell_type": "code",
      "execution_count": 29,
      "id": "13332d2b",
      "metadata": {
        "colab": {
          "base_uri": "https://localhost:8080/"
        },
        "id": "13332d2b",
        "outputId": "7891c5ce-e40a-48b9-c98a-7268ec050b28"
      },
      "outputs": [
        {
          "output_type": "execute_result",
          "data": {
            "text/plain": [
              "(datetime.date(2020, 3, 7), datetime.date(2022, 1, 31))"
            ]
          },
          "metadata": {},
          "execution_count": 29
        }
      ],
      "source": [
        "oxford.Date.min(), oxford.Date.max()"
      ]
    },
    {
      "cell_type": "code",
      "execution_count": 30,
      "id": "6a1be15d",
      "metadata": {
        "colab": {
          "base_uri": "https://localhost:8080/"
        },
        "id": "6a1be15d",
        "outputId": "a0eef033-bc78-42e6-e0e6-a5f9ed71c3c7"
      },
      "outputs": [
        {
          "output_type": "execute_result",
          "data": {
            "text/plain": [
              "(696, 55)"
            ]
          },
          "metadata": {},
          "execution_count": 30
        }
      ],
      "source": [
        "oxford.shape"
      ]
    },
    {
      "cell_type": "markdown",
      "id": "95fadefe",
      "metadata": {
        "id": "95fadefe"
      },
      "source": [
        "## F) FaceBook Mobility Data"
      ]
    },
    {
      "cell_type": "code",
      "source": [
        "read_file = pd.read_csv (r'/content/movement-range-2022-02-01.txt',sep='\\t',  low_memory=False)\n",
        "#read_file.to_csv (r'C:/Users/Negee/Article 1 PhD/movement-range-2022-02-01', index=None)"
      ],
      "metadata": {
        "id": "O6BnGdP5sHwR"
      },
      "id": "O6BnGdP5sHwR",
      "execution_count": 31,
      "outputs": []
    },
    {
      "cell_type": "code",
      "execution_count": 32,
      "id": "c7e7be6b",
      "metadata": {
        "id": "c7e7be6b"
      },
      "outputs": [],
      "source": [
        "facebook = read_file\n",
        "countries_fb = ['IRL']\n",
        "facebook= facebook[facebook['country'].isin(countries_fb)]"
      ]
    },
    {
      "cell_type": "code",
      "execution_count": 33,
      "id": "d7f7fdf3",
      "metadata": {
        "colab": {
          "base_uri": "https://localhost:8080/"
        },
        "id": "d7f7fdf3",
        "outputId": "fd3a3943-1a3f-4df5-87d9-32c712b7b97f"
      },
      "outputs": [
        {
          "output_type": "execute_result",
          "data": {
            "text/plain": [
              "ds                                            0.0\n",
              "country                                       0.0\n",
              "polygon_source                                0.0\n",
              "polygon_id                                    0.0\n",
              "polygon_name                                  0.0\n",
              "all_day_bing_tiles_visited_relative_change    0.0\n",
              "all_day_ratio_single_tile_users               0.0\n",
              "baseline_name                                 0.0\n",
              "baseline_type                                 0.0\n",
              "dtype: float64"
            ]
          },
          "metadata": {},
          "execution_count": 33
        }
      ],
      "source": [
        "facebook.isna().sum()"
      ]
    },
    {
      "cell_type": "code",
      "execution_count": 34,
      "id": "21addfe0",
      "metadata": {
        "id": "21addfe0"
      },
      "outputs": [],
      "source": [
        "#Changing Date format to be matched to other DFs\n",
        "facebook['ds'] = pd.to_datetime(facebook['ds'], format='%Y/%m/%d')\n",
        "# Changing date type\n",
        "facebook['ds'] = pd.to_datetime(facebook['ds']).dt.date\n",
        "# Filter start & end Date\n",
        "facebook  = facebook.loc[(facebook['ds'] >= startdate) & (facebook['ds'] < enddate )]\n",
        "# Dropping useless columns\n",
        "facebook = facebook.drop (columns = ['country',\n",
        "                                 'polygon_source',\n",
        "                                 'polygon_id',\n",
        "                                 'baseline_name',\n",
        "                                 'baseline_type'])\n",
        "# Renaming columns\n",
        "facebook = facebook.rename(columns = {'ds': 'Date', \n",
        "                         'polygon_name' : 'County'})"
      ]
    },
    {
      "cell_type": "code",
      "execution_count": 36,
      "id": "ac1b69cd",
      "metadata": {
        "colab": {
          "base_uri": "https://localhost:8080/",
          "height": 49
        },
        "id": "ac1b69cd",
        "outputId": "315c150c-679b-4bc6-fbb3-52a6f805297d"
      },
      "outputs": [
        {
          "output_type": "execute_result",
          "data": {
            "text/html": [
              "\n",
              "  <div id=\"df-d064b3a6-9e23-40ee-858e-811fa84554b0\">\n",
              "    <div class=\"colab-df-container\">\n",
              "      <div>\n",
              "<style scoped>\n",
              "    .dataframe tbody tr th:only-of-type {\n",
              "        vertical-align: middle;\n",
              "    }\n",
              "\n",
              "    .dataframe tbody tr th {\n",
              "        vertical-align: top;\n",
              "    }\n",
              "\n",
              "    .dataframe thead th {\n",
              "        text-align: right;\n",
              "    }\n",
              "</style>\n",
              "<table border=\"1\" class=\"dataframe\">\n",
              "  <thead>\n",
              "    <tr style=\"text-align: right;\">\n",
              "      <th></th>\n",
              "      <th>Date</th>\n",
              "      <th>County</th>\n",
              "      <th>all_day_bing_tiles_visited_relative_change</th>\n",
              "      <th>all_day_ratio_single_tile_users</th>\n",
              "    </tr>\n",
              "  </thead>\n",
              "  <tbody>\n",
              "  </tbody>\n",
              "</table>\n",
              "</div>\n",
              "      <button class=\"colab-df-convert\" onclick=\"convertToInteractive('df-d064b3a6-9e23-40ee-858e-811fa84554b0')\"\n",
              "              title=\"Convert this dataframe to an interactive table.\"\n",
              "              style=\"display:none;\">\n",
              "        \n",
              "  <svg xmlns=\"http://www.w3.org/2000/svg\" height=\"24px\"viewBox=\"0 0 24 24\"\n",
              "       width=\"24px\">\n",
              "    <path d=\"M0 0h24v24H0V0z\" fill=\"none\"/>\n",
              "    <path d=\"M18.56 5.44l.94 2.06.94-2.06 2.06-.94-2.06-.94-.94-2.06-.94 2.06-2.06.94zm-11 1L8.5 8.5l.94-2.06 2.06-.94-2.06-.94L8.5 2.5l-.94 2.06-2.06.94zm10 10l.94 2.06.94-2.06 2.06-.94-2.06-.94-.94-2.06-.94 2.06-2.06.94z\"/><path d=\"M17.41 7.96l-1.37-1.37c-.4-.4-.92-.59-1.43-.59-.52 0-1.04.2-1.43.59L10.3 9.45l-7.72 7.72c-.78.78-.78 2.05 0 2.83L4 21.41c.39.39.9.59 1.41.59.51 0 1.02-.2 1.41-.59l7.78-7.78 2.81-2.81c.8-.78.8-2.07 0-2.86zM5.41 20L4 18.59l7.72-7.72 1.47 1.35L5.41 20z\"/>\n",
              "  </svg>\n",
              "      </button>\n",
              "      \n",
              "  <style>\n",
              "    .colab-df-container {\n",
              "      display:flex;\n",
              "      flex-wrap:wrap;\n",
              "      gap: 12px;\n",
              "    }\n",
              "\n",
              "    .colab-df-convert {\n",
              "      background-color: #E8F0FE;\n",
              "      border: none;\n",
              "      border-radius: 50%;\n",
              "      cursor: pointer;\n",
              "      display: none;\n",
              "      fill: #1967D2;\n",
              "      height: 32px;\n",
              "      padding: 0 0 0 0;\n",
              "      width: 32px;\n",
              "    }\n",
              "\n",
              "    .colab-df-convert:hover {\n",
              "      background-color: #E2EBFA;\n",
              "      box-shadow: 0px 1px 2px rgba(60, 64, 67, 0.3), 0px 1px 3px 1px rgba(60, 64, 67, 0.15);\n",
              "      fill: #174EA6;\n",
              "    }\n",
              "\n",
              "    [theme=dark] .colab-df-convert {\n",
              "      background-color: #3B4455;\n",
              "      fill: #D2E3FC;\n",
              "    }\n",
              "\n",
              "    [theme=dark] .colab-df-convert:hover {\n",
              "      background-color: #434B5C;\n",
              "      box-shadow: 0px 1px 3px 1px rgba(0, 0, 0, 0.15);\n",
              "      filter: drop-shadow(0px 1px 2px rgba(0, 0, 0, 0.3));\n",
              "      fill: #FFFFFF;\n",
              "    }\n",
              "  </style>\n",
              "\n",
              "      <script>\n",
              "        const buttonEl =\n",
              "          document.querySelector('#df-d064b3a6-9e23-40ee-858e-811fa84554b0 button.colab-df-convert');\n",
              "        buttonEl.style.display =\n",
              "          google.colab.kernel.accessAllowed ? 'block' : 'none';\n",
              "\n",
              "        async function convertToInteractive(key) {\n",
              "          const element = document.querySelector('#df-d064b3a6-9e23-40ee-858e-811fa84554b0');\n",
              "          const dataTable =\n",
              "            await google.colab.kernel.invokeFunction('convertToInteractive',\n",
              "                                                     [key], {});\n",
              "          if (!dataTable) return;\n",
              "\n",
              "          const docLinkHtml = 'Like what you see? Visit the ' +\n",
              "            '<a target=\"_blank\" href=https://colab.research.google.com/notebooks/data_table.ipynb>data table notebook</a>'\n",
              "            + ' to learn more about interactive tables.';\n",
              "          element.innerHTML = '';\n",
              "          dataTable['output_type'] = 'display_data';\n",
              "          await google.colab.output.renderOutput(dataTable, element);\n",
              "          const docLink = document.createElement('div');\n",
              "          docLink.innerHTML = docLinkHtml;\n",
              "          element.appendChild(docLink);\n",
              "        }\n",
              "      </script>\n",
              "    </div>\n",
              "  </div>\n",
              "  "
            ],
            "text/plain": [
              "Empty DataFrame\n",
              "Columns: [Date, County, all_day_bing_tiles_visited_relative_change, all_day_ratio_single_tile_users]\n",
              "Index: []"
            ]
          },
          "metadata": {},
          "execution_count": 36
        }
      ],
      "source": [
        "facebook .head()"
      ]
    },
    {
      "cell_type": "markdown",
      "id": "1800d6c0",
      "metadata": {
        "id": "1800d6c0"
      },
      "source": [
        "# 2: Data Cleaning Phase :"
      ]
    },
    {
      "cell_type": "markdown",
      "id": "47427a06",
      "metadata": {
        "id": "47427a06"
      },
      "source": [
        "## Covid-19"
      ]
    },
    {
      "cell_type": "markdown",
      "id": "c41dedc3",
      "metadata": {
        "id": "c41dedc3"
      },
      "source": [
        "## Ireland"
      ]
    },
    {
      "cell_type": "code",
      "execution_count": 117,
      "id": "b58af301",
      "metadata": {
        "colab": {
          "base_uri": "https://localhost:8080/",
          "height": 81
        },
        "id": "b58af301",
        "outputId": "eb977a58-8b2f-410d-d639-3e65a5df26a8"
      },
      "outputs": [
        {
          "output_type": "execute_result",
          "data": {
            "text/html": [
              "\n",
              "  <div id=\"df-e0690c99-8f0a-44ff-ab64-3b52d6ead027\">\n",
              "    <div class=\"colab-df-container\">\n",
              "      <div>\n",
              "<style scoped>\n",
              "    .dataframe tbody tr th:only-of-type {\n",
              "        vertical-align: middle;\n",
              "    }\n",
              "\n",
              "    .dataframe tbody tr th {\n",
              "        vertical-align: top;\n",
              "    }\n",
              "\n",
              "    .dataframe thead th {\n",
              "        text-align: right;\n",
              "    }\n",
              "</style>\n",
              "<table border=\"1\" class=\"dataframe\">\n",
              "  <thead>\n",
              "    <tr style=\"text-align: right;\">\n",
              "      <th></th>\n",
              "      <th>region</th>\n",
              "      <th>Population</th>\n",
              "      <th>date</th>\n",
              "      <th>Lat</th>\n",
              "      <th>Long</th>\n",
              "      <th>Confirmed</th>\n",
              "      <th>Daily_Confirmed</th>\n",
              "      <th>Incident_Rate</th>\n",
              "    </tr>\n",
              "  </thead>\n",
              "  <tbody>\n",
              "    <tr>\n",
              "      <th>18823</th>\n",
              "      <td>Wicklow</td>\n",
              "      <td>142425</td>\n",
              "      <td>2022-02-21</td>\n",
              "      <td>53.0205</td>\n",
              "      <td>-6.3442</td>\n",
              "      <td>31193</td>\n",
              "      <td>127.0</td>\n",
              "      <td>8.916974e-09</td>\n",
              "    </tr>\n",
              "  </tbody>\n",
              "</table>\n",
              "</div>\n",
              "      <button class=\"colab-df-convert\" onclick=\"convertToInteractive('df-e0690c99-8f0a-44ff-ab64-3b52d6ead027')\"\n",
              "              title=\"Convert this dataframe to an interactive table.\"\n",
              "              style=\"display:none;\">\n",
              "        \n",
              "  <svg xmlns=\"http://www.w3.org/2000/svg\" height=\"24px\"viewBox=\"0 0 24 24\"\n",
              "       width=\"24px\">\n",
              "    <path d=\"M0 0h24v24H0V0z\" fill=\"none\"/>\n",
              "    <path d=\"M18.56 5.44l.94 2.06.94-2.06 2.06-.94-2.06-.94-.94-2.06-.94 2.06-2.06.94zm-11 1L8.5 8.5l.94-2.06 2.06-.94-2.06-.94L8.5 2.5l-.94 2.06-2.06.94zm10 10l.94 2.06.94-2.06 2.06-.94-2.06-.94-.94-2.06-.94 2.06-2.06.94z\"/><path d=\"M17.41 7.96l-1.37-1.37c-.4-.4-.92-.59-1.43-.59-.52 0-1.04.2-1.43.59L10.3 9.45l-7.72 7.72c-.78.78-.78 2.05 0 2.83L4 21.41c.39.39.9.59 1.41.59.51 0 1.02-.2 1.41-.59l7.78-7.78 2.81-2.81c.8-.78.8-2.07 0-2.86zM5.41 20L4 18.59l7.72-7.72 1.47 1.35L5.41 20z\"/>\n",
              "  </svg>\n",
              "      </button>\n",
              "      \n",
              "  <style>\n",
              "    .colab-df-container {\n",
              "      display:flex;\n",
              "      flex-wrap:wrap;\n",
              "      gap: 12px;\n",
              "    }\n",
              "\n",
              "    .colab-df-convert {\n",
              "      background-color: #E8F0FE;\n",
              "      border: none;\n",
              "      border-radius: 50%;\n",
              "      cursor: pointer;\n",
              "      display: none;\n",
              "      fill: #1967D2;\n",
              "      height: 32px;\n",
              "      padding: 0 0 0 0;\n",
              "      width: 32px;\n",
              "    }\n",
              "\n",
              "    .colab-df-convert:hover {\n",
              "      background-color: #E2EBFA;\n",
              "      box-shadow: 0px 1px 2px rgba(60, 64, 67, 0.3), 0px 1px 3px 1px rgba(60, 64, 67, 0.15);\n",
              "      fill: #174EA6;\n",
              "    }\n",
              "\n",
              "    [theme=dark] .colab-df-convert {\n",
              "      background-color: #3B4455;\n",
              "      fill: #D2E3FC;\n",
              "    }\n",
              "\n",
              "    [theme=dark] .colab-df-convert:hover {\n",
              "      background-color: #434B5C;\n",
              "      box-shadow: 0px 1px 3px 1px rgba(0, 0, 0, 0.15);\n",
              "      filter: drop-shadow(0px 1px 2px rgba(0, 0, 0, 0.3));\n",
              "      fill: #FFFFFF;\n",
              "    }\n",
              "  </style>\n",
              "\n",
              "      <script>\n",
              "        const buttonEl =\n",
              "          document.querySelector('#df-e0690c99-8f0a-44ff-ab64-3b52d6ead027 button.colab-df-convert');\n",
              "        buttonEl.style.display =\n",
              "          google.colab.kernel.accessAllowed ? 'block' : 'none';\n",
              "\n",
              "        async function convertToInteractive(key) {\n",
              "          const element = document.querySelector('#df-e0690c99-8f0a-44ff-ab64-3b52d6ead027');\n",
              "          const dataTable =\n",
              "            await google.colab.kernel.invokeFunction('convertToInteractive',\n",
              "                                                     [key], {});\n",
              "          if (!dataTable) return;\n",
              "\n",
              "          const docLinkHtml = 'Like what you see? Visit the ' +\n",
              "            '<a target=\"_blank\" href=https://colab.research.google.com/notebooks/data_table.ipynb>data table notebook</a>'\n",
              "            + ' to learn more about interactive tables.';\n",
              "          element.innerHTML = '';\n",
              "          dataTable['output_type'] = 'display_data';\n",
              "          await google.colab.output.renderOutput(dataTable, element);\n",
              "          const docLink = document.createElement('div');\n",
              "          docLink.innerHTML = docLinkHtml;\n",
              "          element.appendChild(docLink);\n",
              "        }\n",
              "      </script>\n",
              "    </div>\n",
              "  </div>\n",
              "  "
            ],
            "text/plain": [
              "        region  Population  ... Daily_Confirmed  Incident_Rate\n",
              "18823  Wicklow      142425  ...           127.0   8.916974e-09\n",
              "\n",
              "[1 rows x 8 columns]"
            ]
          },
          "metadata": {},
          "execution_count": 117
        }
      ],
      "source": [
        "covid.tail(1)"
      ]
    },
    {
      "cell_type": "code",
      "execution_count": 39,
      "id": "958e0766",
      "metadata": {
        "colab": {
          "base_uri": "https://localhost:8080/"
        },
        "id": "958e0766",
        "outputId": "709b0e29-c662-499a-e594-347a9a5cf1e3"
      },
      "outputs": [
        {
          "output_type": "execute_result",
          "data": {
            "text/plain": [
              "region        0\n",
              "Population    0\n",
              "date          0\n",
              "Lat           0\n",
              "Long          0\n",
              "Confirmed     0\n",
              "dtype: int64"
            ]
          },
          "metadata": {},
          "execution_count": 39
        }
      ],
      "source": [
        "# NA in data\n",
        "covid.isna().sum()"
      ]
    },
    {
      "cell_type": "markdown",
      "id": "171b7f8f",
      "metadata": {
        "id": "171b7f8f"
      },
      "source": [
        "#### COVID-19 Incident + Confirmed Cases Feature creation for Counties in Ireland"
      ]
    },
    {
      "cell_type": "code",
      "execution_count": 40,
      "id": "ec15b3e4",
      "metadata": {
        "id": "ec15b3e4"
      },
      "outputs": [],
      "source": [
        "# Daily Positve Cases:\n",
        "# Daily- Confirmed_ cases\n",
        "covid ['Daily_Confirmed'] = covid.sort_values('date').groupby(['region', 'Population'])['Confirmed'].diff()\n",
        "\n",
        "#Incident Rate:\n",
        "# How many cases would appear annually for every 100,000 people in a population\n",
        "covid['Incident_Rate'] = (covid['Daily_Confirmed']/(covid['Population'] * 100000))"
      ]
    },
    {
      "cell_type": "code",
      "execution_count": 41,
      "id": "5e030e22",
      "metadata": {
        "colab": {
          "base_uri": "https://localhost:8080/",
          "height": 0
        },
        "id": "5e030e22",
        "outputId": "7d9e335d-7913-4ba3-d45c-db355b578d49"
      },
      "outputs": [
        {
          "output_type": "execute_result",
          "data": {
            "text/html": [
              "\n",
              "  <div id=\"df-750ef04e-8de2-4eab-8555-ad4ce8d57d72\">\n",
              "    <div class=\"colab-df-container\">\n",
              "      <div>\n",
              "<style scoped>\n",
              "    .dataframe tbody tr th:only-of-type {\n",
              "        vertical-align: middle;\n",
              "    }\n",
              "\n",
              "    .dataframe tbody tr th {\n",
              "        vertical-align: top;\n",
              "    }\n",
              "\n",
              "    .dataframe thead th {\n",
              "        text-align: right;\n",
              "    }\n",
              "</style>\n",
              "<table border=\"1\" class=\"dataframe\">\n",
              "  <thead>\n",
              "    <tr style=\"text-align: right;\">\n",
              "      <th></th>\n",
              "      <th>region</th>\n",
              "      <th>Population</th>\n",
              "      <th>date</th>\n",
              "      <th>Lat</th>\n",
              "      <th>Long</th>\n",
              "      <th>Confirmed</th>\n",
              "      <th>Daily_Confirmed</th>\n",
              "      <th>Incident_Rate</th>\n",
              "    </tr>\n",
              "  </thead>\n",
              "  <tbody>\n",
              "    <tr>\n",
              "      <th>0</th>\n",
              "      <td>Carlow</td>\n",
              "      <td>56932</td>\n",
              "      <td>2020-02-27</td>\n",
              "      <td>52.7168</td>\n",
              "      <td>-6.8367</td>\n",
              "      <td>0</td>\n",
              "      <td>NaN</td>\n",
              "      <td>NaN</td>\n",
              "    </tr>\n",
              "    <tr>\n",
              "      <th>1</th>\n",
              "      <td>Cavan</td>\n",
              "      <td>76176</td>\n",
              "      <td>2020-02-27</td>\n",
              "      <td>53.9878</td>\n",
              "      <td>-7.2937</td>\n",
              "      <td>0</td>\n",
              "      <td>NaN</td>\n",
              "      <td>NaN</td>\n",
              "    </tr>\n",
              "    <tr>\n",
              "      <th>2</th>\n",
              "      <td>Clare</td>\n",
              "      <td>118817</td>\n",
              "      <td>2020-02-27</td>\n",
              "      <td>52.8917</td>\n",
              "      <td>-8.9889</td>\n",
              "      <td>0</td>\n",
              "      <td>NaN</td>\n",
              "      <td>NaN</td>\n",
              "    </tr>\n",
              "    <tr>\n",
              "      <th>3</th>\n",
              "      <td>Cork</td>\n",
              "      <td>542868</td>\n",
              "      <td>2020-02-27</td>\n",
              "      <td>51.9517</td>\n",
              "      <td>-8.6372</td>\n",
              "      <td>0</td>\n",
              "      <td>NaN</td>\n",
              "      <td>NaN</td>\n",
              "    </tr>\n",
              "    <tr>\n",
              "      <th>4</th>\n",
              "      <td>Donegal</td>\n",
              "      <td>159192</td>\n",
              "      <td>2020-02-27</td>\n",
              "      <td>54.8989</td>\n",
              "      <td>-7.9600</td>\n",
              "      <td>0</td>\n",
              "      <td>NaN</td>\n",
              "      <td>NaN</td>\n",
              "    </tr>\n",
              "    <tr>\n",
              "      <th>5</th>\n",
              "      <td>Dublin</td>\n",
              "      <td>1347359</td>\n",
              "      <td>2020-02-27</td>\n",
              "      <td>53.3605</td>\n",
              "      <td>-6.2920</td>\n",
              "      <td>0</td>\n",
              "      <td>NaN</td>\n",
              "      <td>NaN</td>\n",
              "    </tr>\n",
              "    <tr>\n",
              "      <th>6</th>\n",
              "      <td>Galway</td>\n",
              "      <td>258058</td>\n",
              "      <td>2020-02-27</td>\n",
              "      <td>53.3705</td>\n",
              "      <td>-8.7362</td>\n",
              "      <td>0</td>\n",
              "      <td>NaN</td>\n",
              "      <td>NaN</td>\n",
              "    </tr>\n",
              "    <tr>\n",
              "      <th>7</th>\n",
              "      <td>Kerry</td>\n",
              "      <td>147707</td>\n",
              "      <td>2020-02-27</td>\n",
              "      <td>52.1689</td>\n",
              "      <td>-9.5650</td>\n",
              "      <td>0</td>\n",
              "      <td>NaN</td>\n",
              "      <td>NaN</td>\n",
              "    </tr>\n",
              "    <tr>\n",
              "      <th>8</th>\n",
              "      <td>Kildare</td>\n",
              "      <td>222504</td>\n",
              "      <td>2020-02-27</td>\n",
              "      <td>53.2380</td>\n",
              "      <td>-6.7837</td>\n",
              "      <td>0</td>\n",
              "      <td>NaN</td>\n",
              "      <td>NaN</td>\n",
              "    </tr>\n",
              "    <tr>\n",
              "      <th>9</th>\n",
              "      <td>Kilkenny</td>\n",
              "      <td>99232</td>\n",
              "      <td>2020-02-27</td>\n",
              "      <td>52.5816</td>\n",
              "      <td>-7.2175</td>\n",
              "      <td>0</td>\n",
              "      <td>NaN</td>\n",
              "      <td>NaN</td>\n",
              "    </tr>\n",
              "  </tbody>\n",
              "</table>\n",
              "</div>\n",
              "      <button class=\"colab-df-convert\" onclick=\"convertToInteractive('df-750ef04e-8de2-4eab-8555-ad4ce8d57d72')\"\n",
              "              title=\"Convert this dataframe to an interactive table.\"\n",
              "              style=\"display:none;\">\n",
              "        \n",
              "  <svg xmlns=\"http://www.w3.org/2000/svg\" height=\"24px\"viewBox=\"0 0 24 24\"\n",
              "       width=\"24px\">\n",
              "    <path d=\"M0 0h24v24H0V0z\" fill=\"none\"/>\n",
              "    <path d=\"M18.56 5.44l.94 2.06.94-2.06 2.06-.94-2.06-.94-.94-2.06-.94 2.06-2.06.94zm-11 1L8.5 8.5l.94-2.06 2.06-.94-2.06-.94L8.5 2.5l-.94 2.06-2.06.94zm10 10l.94 2.06.94-2.06 2.06-.94-2.06-.94-.94-2.06-.94 2.06-2.06.94z\"/><path d=\"M17.41 7.96l-1.37-1.37c-.4-.4-.92-.59-1.43-.59-.52 0-1.04.2-1.43.59L10.3 9.45l-7.72 7.72c-.78.78-.78 2.05 0 2.83L4 21.41c.39.39.9.59 1.41.59.51 0 1.02-.2 1.41-.59l7.78-7.78 2.81-2.81c.8-.78.8-2.07 0-2.86zM5.41 20L4 18.59l7.72-7.72 1.47 1.35L5.41 20z\"/>\n",
              "  </svg>\n",
              "      </button>\n",
              "      \n",
              "  <style>\n",
              "    .colab-df-container {\n",
              "      display:flex;\n",
              "      flex-wrap:wrap;\n",
              "      gap: 12px;\n",
              "    }\n",
              "\n",
              "    .colab-df-convert {\n",
              "      background-color: #E8F0FE;\n",
              "      border: none;\n",
              "      border-radius: 50%;\n",
              "      cursor: pointer;\n",
              "      display: none;\n",
              "      fill: #1967D2;\n",
              "      height: 32px;\n",
              "      padding: 0 0 0 0;\n",
              "      width: 32px;\n",
              "    }\n",
              "\n",
              "    .colab-df-convert:hover {\n",
              "      background-color: #E2EBFA;\n",
              "      box-shadow: 0px 1px 2px rgba(60, 64, 67, 0.3), 0px 1px 3px 1px rgba(60, 64, 67, 0.15);\n",
              "      fill: #174EA6;\n",
              "    }\n",
              "\n",
              "    [theme=dark] .colab-df-convert {\n",
              "      background-color: #3B4455;\n",
              "      fill: #D2E3FC;\n",
              "    }\n",
              "\n",
              "    [theme=dark] .colab-df-convert:hover {\n",
              "      background-color: #434B5C;\n",
              "      box-shadow: 0px 1px 3px 1px rgba(0, 0, 0, 0.15);\n",
              "      filter: drop-shadow(0px 1px 2px rgba(0, 0, 0, 0.3));\n",
              "      fill: #FFFFFF;\n",
              "    }\n",
              "  </style>\n",
              "\n",
              "      <script>\n",
              "        const buttonEl =\n",
              "          document.querySelector('#df-750ef04e-8de2-4eab-8555-ad4ce8d57d72 button.colab-df-convert');\n",
              "        buttonEl.style.display =\n",
              "          google.colab.kernel.accessAllowed ? 'block' : 'none';\n",
              "\n",
              "        async function convertToInteractive(key) {\n",
              "          const element = document.querySelector('#df-750ef04e-8de2-4eab-8555-ad4ce8d57d72');\n",
              "          const dataTable =\n",
              "            await google.colab.kernel.invokeFunction('convertToInteractive',\n",
              "                                                     [key], {});\n",
              "          if (!dataTable) return;\n",
              "\n",
              "          const docLinkHtml = 'Like what you see? Visit the ' +\n",
              "            '<a target=\"_blank\" href=https://colab.research.google.com/notebooks/data_table.ipynb>data table notebook</a>'\n",
              "            + ' to learn more about interactive tables.';\n",
              "          element.innerHTML = '';\n",
              "          dataTable['output_type'] = 'display_data';\n",
              "          await google.colab.output.renderOutput(dataTable, element);\n",
              "          const docLink = document.createElement('div');\n",
              "          docLink.innerHTML = docLinkHtml;\n",
              "          element.appendChild(docLink);\n",
              "        }\n",
              "      </script>\n",
              "    </div>\n",
              "  </div>\n",
              "  "
            ],
            "text/plain": [
              "     region  Population        date  ...  Confirmed  Daily_Confirmed  Incident_Rate\n",
              "0    Carlow       56932  2020-02-27  ...          0              NaN            NaN\n",
              "1     Cavan       76176  2020-02-27  ...          0              NaN            NaN\n",
              "2     Clare      118817  2020-02-27  ...          0              NaN            NaN\n",
              "3      Cork      542868  2020-02-27  ...          0              NaN            NaN\n",
              "4   Donegal      159192  2020-02-27  ...          0              NaN            NaN\n",
              "5    Dublin     1347359  2020-02-27  ...          0              NaN            NaN\n",
              "6    Galway      258058  2020-02-27  ...          0              NaN            NaN\n",
              "7     Kerry      147707  2020-02-27  ...          0              NaN            NaN\n",
              "8   Kildare      222504  2020-02-27  ...          0              NaN            NaN\n",
              "9  Kilkenny       99232  2020-02-27  ...          0              NaN            NaN\n",
              "\n",
              "[10 rows x 8 columns]"
            ]
          },
          "metadata": {},
          "execution_count": 41
        }
      ],
      "source": [
        "covid.head(10)"
      ]
    },
    {
      "cell_type": "markdown",
      "id": "28092a43",
      "metadata": {
        "id": "28092a43"
      },
      "source": [
        "## World COVID Data"
      ]
    },
    {
      "cell_type": "markdown",
      "id": "d7b463db",
      "metadata": {
        "id": "d7b463db"
      },
      "source": [
        "#### New Features:\n",
        "- Daily new confirmed cases\n",
        "- Daily new death cases\n",
        "- Growth confirmed cases\n",
        "- Growth death cases\n",
        "- Death Rate"
      ]
    },
    {
      "cell_type": "code",
      "execution_count": 42,
      "id": "c3656c13",
      "metadata": {
        "id": "c3656c13"
      },
      "outputs": [],
      "source": [
        "# Copying dataset to make sure that we would keep the main DF\n",
        "daily_confirmed = hopkings_confirmed.copy()\n",
        "daily_deaths = hopkings_deaths.copy()\n",
        "growth_confirmed = hopkings_confirmed.copy()\n",
        "growth_deaths = hopkings_deaths.copy()"
      ]
    },
    {
      "cell_type": "code",
      "execution_count": 43,
      "id": "dc6e97db",
      "metadata": {
        "id": "dc6e97db"
      },
      "outputs": [],
      "source": [
        "rows_len =len (hopkings_confirmed)\n",
        "\n",
        "# Calculating the daily number of confirmed cases & death + their growth rate\n",
        "for date in range (1,rows_len ):\n",
        "    #print (daily_confirmed.iloc[day])\n",
        "    # Comparin the date with a day before to see the number of new cases both deaths and confirmed\n",
        "    daily_confirmed.iloc[date] = hopkings_confirmed.iloc[date] - hopkings_confirmed.iloc[date-1]\n",
        "    daily_deaths.iloc[date] = hopkings_deaths.iloc[date] - hopkings_deaths.iloc[date-1]\n",
        "    # Calculating growth rate = COVID-19 growth rate = (number of new cases in new_day) / \n",
        "    #Total number of newcases till day before) *100\n",
        "    growth_confirmed.iloc[date] = (daily_confirmed.iloc[date] / hopkings_confirmed.iloc[date-1]) * 100\n",
        "    growth_deaths.iloc[date] = (daily_deaths.iloc[date] / hopkings_deaths.iloc[date-1]) * 100\n",
        "    #print (daily_confirmed.iloc[day-1])\n",
        "    #print (daily_confirmed.iloc[day])\n",
        "# Calculating growth rate for all countries (comparing death and confimed)\n",
        "death_rate = hopkings_deaths.copy()\n",
        "# Formula = dividing total number of death on each date based on total confirmed date\n",
        "for date in range (0, rows_len):\n",
        "    death_rate.iloc[date] = (hopkings_deaths.iloc[date] / hopkings_confirmed.iloc[date]) * 100"
      ]
    },
    {
      "cell_type": "markdown",
      "id": "87f20b08",
      "metadata": {
        "id": "87f20b08"
      },
      "source": [
        "## Google"
      ]
    },
    {
      "cell_type": "code",
      "execution_count": 45,
      "id": "0d2bd44b",
      "metadata": {
        "colab": {
          "base_uri": "https://localhost:8080/",
          "height": 300
        },
        "id": "0d2bd44b",
        "outputId": "54601d54-d054-40fc-c37e-7a1c5dfb38b4"
      },
      "outputs": [
        {
          "output_type": "execute_result",
          "data": {
            "text/html": [
              "\n",
              "  <div id=\"df-9f5b56a5-737f-4b7d-9d9d-2d50fc0a6245\">\n",
              "    <div class=\"colab-df-container\">\n",
              "      <div>\n",
              "<style scoped>\n",
              "    .dataframe tbody tr th:only-of-type {\n",
              "        vertical-align: middle;\n",
              "    }\n",
              "\n",
              "    .dataframe tbody tr th {\n",
              "        vertical-align: top;\n",
              "    }\n",
              "\n",
              "    .dataframe thead th {\n",
              "        text-align: right;\n",
              "    }\n",
              "</style>\n",
              "<table border=\"1\" class=\"dataframe\">\n",
              "  <thead>\n",
              "    <tr style=\"text-align: right;\">\n",
              "      <th></th>\n",
              "      <th>Retail and Recreation</th>\n",
              "      <th>Grocery and Pharmacy</th>\n",
              "      <th>Parks</th>\n",
              "      <th>Transit Stations</th>\n",
              "      <th>Workplaces</th>\n",
              "      <th>Residential</th>\n",
              "    </tr>\n",
              "  </thead>\n",
              "  <tbody>\n",
              "    <tr>\n",
              "      <th>count</th>\n",
              "      <td>17673.000000</td>\n",
              "      <td>17768.000000</td>\n",
              "      <td>10372.000000</td>\n",
              "      <td>13519.000000</td>\n",
              "      <td>18441.000000</td>\n",
              "      <td>15554.000000</td>\n",
              "    </tr>\n",
              "    <tr>\n",
              "      <th>mean</th>\n",
              "      <td>-22.585639</td>\n",
              "      <td>8.644192</td>\n",
              "      <td>14.254339</td>\n",
              "      <td>-31.835195</td>\n",
              "      <td>-29.074779</td>\n",
              "      <td>8.756719</td>\n",
              "    </tr>\n",
              "    <tr>\n",
              "      <th>std</th>\n",
              "      <td>29.153761</td>\n",
              "      <td>20.241040</td>\n",
              "      <td>49.134910</td>\n",
              "      <td>24.771661</td>\n",
              "      <td>18.920036</td>\n",
              "      <td>8.099369</td>\n",
              "    </tr>\n",
              "    <tr>\n",
              "      <th>min</th>\n",
              "      <td>-96.000000</td>\n",
              "      <td>-96.000000</td>\n",
              "      <td>-100.000000</td>\n",
              "      <td>-92.000000</td>\n",
              "      <td>-89.000000</td>\n",
              "      <td>-8.000000</td>\n",
              "    </tr>\n",
              "    <tr>\n",
              "      <th>25%</th>\n",
              "      <td>-45.000000</td>\n",
              "      <td>-3.000000</td>\n",
              "      <td>-18.000000</td>\n",
              "      <td>-50.000000</td>\n",
              "      <td>-41.000000</td>\n",
              "      <td>2.000000</td>\n",
              "    </tr>\n",
              "    <tr>\n",
              "      <th>50%</th>\n",
              "      <td>-20.000000</td>\n",
              "      <td>8.000000</td>\n",
              "      <td>7.000000</td>\n",
              "      <td>-33.000000</td>\n",
              "      <td>-28.000000</td>\n",
              "      <td>8.000000</td>\n",
              "    </tr>\n",
              "    <tr>\n",
              "      <th>75%</th>\n",
              "      <td>0.000000</td>\n",
              "      <td>21.000000</td>\n",
              "      <td>38.000000</td>\n",
              "      <td>-17.000000</td>\n",
              "      <td>-17.000000</td>\n",
              "      <td>14.000000</td>\n",
              "    </tr>\n",
              "    <tr>\n",
              "      <th>max</th>\n",
              "      <td>96.000000</td>\n",
              "      <td>107.000000</td>\n",
              "      <td>267.000000</td>\n",
              "      <td>111.000000</td>\n",
              "      <td>41.000000</td>\n",
              "      <td>38.000000</td>\n",
              "    </tr>\n",
              "  </tbody>\n",
              "</table>\n",
              "</div>\n",
              "      <button class=\"colab-df-convert\" onclick=\"convertToInteractive('df-9f5b56a5-737f-4b7d-9d9d-2d50fc0a6245')\"\n",
              "              title=\"Convert this dataframe to an interactive table.\"\n",
              "              style=\"display:none;\">\n",
              "        \n",
              "  <svg xmlns=\"http://www.w3.org/2000/svg\" height=\"24px\"viewBox=\"0 0 24 24\"\n",
              "       width=\"24px\">\n",
              "    <path d=\"M0 0h24v24H0V0z\" fill=\"none\"/>\n",
              "    <path d=\"M18.56 5.44l.94 2.06.94-2.06 2.06-.94-2.06-.94-.94-2.06-.94 2.06-2.06.94zm-11 1L8.5 8.5l.94-2.06 2.06-.94-2.06-.94L8.5 2.5l-.94 2.06-2.06.94zm10 10l.94 2.06.94-2.06 2.06-.94-2.06-.94-.94-2.06-.94 2.06-2.06.94z\"/><path d=\"M17.41 7.96l-1.37-1.37c-.4-.4-.92-.59-1.43-.59-.52 0-1.04.2-1.43.59L10.3 9.45l-7.72 7.72c-.78.78-.78 2.05 0 2.83L4 21.41c.39.39.9.59 1.41.59.51 0 1.02-.2 1.41-.59l7.78-7.78 2.81-2.81c.8-.78.8-2.07 0-2.86zM5.41 20L4 18.59l7.72-7.72 1.47 1.35L5.41 20z\"/>\n",
              "  </svg>\n",
              "      </button>\n",
              "      \n",
              "  <style>\n",
              "    .colab-df-container {\n",
              "      display:flex;\n",
              "      flex-wrap:wrap;\n",
              "      gap: 12px;\n",
              "    }\n",
              "\n",
              "    .colab-df-convert {\n",
              "      background-color: #E8F0FE;\n",
              "      border: none;\n",
              "      border-radius: 50%;\n",
              "      cursor: pointer;\n",
              "      display: none;\n",
              "      fill: #1967D2;\n",
              "      height: 32px;\n",
              "      padding: 0 0 0 0;\n",
              "      width: 32px;\n",
              "    }\n",
              "\n",
              "    .colab-df-convert:hover {\n",
              "      background-color: #E2EBFA;\n",
              "      box-shadow: 0px 1px 2px rgba(60, 64, 67, 0.3), 0px 1px 3px 1px rgba(60, 64, 67, 0.15);\n",
              "      fill: #174EA6;\n",
              "    }\n",
              "\n",
              "    [theme=dark] .colab-df-convert {\n",
              "      background-color: #3B4455;\n",
              "      fill: #D2E3FC;\n",
              "    }\n",
              "\n",
              "    [theme=dark] .colab-df-convert:hover {\n",
              "      background-color: #434B5C;\n",
              "      box-shadow: 0px 1px 3px 1px rgba(0, 0, 0, 0.15);\n",
              "      filter: drop-shadow(0px 1px 2px rgba(0, 0, 0, 0.3));\n",
              "      fill: #FFFFFF;\n",
              "    }\n",
              "  </style>\n",
              "\n",
              "      <script>\n",
              "        const buttonEl =\n",
              "          document.querySelector('#df-9f5b56a5-737f-4b7d-9d9d-2d50fc0a6245 button.colab-df-convert');\n",
              "        buttonEl.style.display =\n",
              "          google.colab.kernel.accessAllowed ? 'block' : 'none';\n",
              "\n",
              "        async function convertToInteractive(key) {\n",
              "          const element = document.querySelector('#df-9f5b56a5-737f-4b7d-9d9d-2d50fc0a6245');\n",
              "          const dataTable =\n",
              "            await google.colab.kernel.invokeFunction('convertToInteractive',\n",
              "                                                     [key], {});\n",
              "          if (!dataTable) return;\n",
              "\n",
              "          const docLinkHtml = 'Like what you see? Visit the ' +\n",
              "            '<a target=\"_blank\" href=https://colab.research.google.com/notebooks/data_table.ipynb>data table notebook</a>'\n",
              "            + ' to learn more about interactive tables.';\n",
              "          element.innerHTML = '';\n",
              "          dataTable['output_type'] = 'display_data';\n",
              "          await google.colab.output.renderOutput(dataTable, element);\n",
              "          const docLink = document.createElement('div');\n",
              "          docLink.innerHTML = docLinkHtml;\n",
              "          element.appendChild(docLink);\n",
              "        }\n",
              "      </script>\n",
              "    </div>\n",
              "  </div>\n",
              "  "
            ],
            "text/plain": [
              "       Retail and Recreation  Grocery and Pharmacy  ...    Workplaces   Residential\n",
              "count           17673.000000          17768.000000  ...  18441.000000  15554.000000\n",
              "mean              -22.585639              8.644192  ...    -29.074779      8.756719\n",
              "std                29.153761             20.241040  ...     18.920036      8.099369\n",
              "min               -96.000000            -96.000000  ...    -89.000000     -8.000000\n",
              "25%               -45.000000             -3.000000  ...    -41.000000      2.000000\n",
              "50%               -20.000000              8.000000  ...    -28.000000      8.000000\n",
              "75%                 0.000000             21.000000  ...    -17.000000     14.000000\n",
              "max                96.000000            107.000000  ...     41.000000     38.000000\n",
              "\n",
              "[8 rows x 6 columns]"
            ]
          },
          "metadata": {},
          "execution_count": 45
        }
      ],
      "source": [
        "google.describe()"
      ]
    },
    {
      "cell_type": "markdown",
      "id": "10a9f092",
      "metadata": {
        "id": "10a9f092"
      },
      "source": [
        "Mean Mobility Changes in Ireland"
      ]
    },
    {
      "cell_type": "code",
      "execution_count": 46,
      "id": "f2b4e13d",
      "metadata": {
        "colab": {
          "base_uri": "https://localhost:8080/",
          "height": 112
        },
        "id": "f2b4e13d",
        "outputId": "ed3daca7-9e15-481d-84e6-5f985540e5d9"
      },
      "outputs": [
        {
          "output_type": "execute_result",
          "data": {
            "text/html": [
              "\n",
              "  <div id=\"df-0765fe51-2ad3-42ad-a311-cf8dc599fabb\">\n",
              "    <div class=\"colab-df-container\">\n",
              "      <div>\n",
              "<style scoped>\n",
              "    .dataframe tbody tr th:only-of-type {\n",
              "        vertical-align: middle;\n",
              "    }\n",
              "\n",
              "    .dataframe tbody tr th {\n",
              "        vertical-align: top;\n",
              "    }\n",
              "\n",
              "    .dataframe thead th {\n",
              "        text-align: right;\n",
              "    }\n",
              "</style>\n",
              "<table border=\"1\" class=\"dataframe\">\n",
              "  <thead>\n",
              "    <tr style=\"text-align: right;\">\n",
              "      <th></th>\n",
              "      <th>Retail and Recreation</th>\n",
              "      <th>Grocery and Pharmacy</th>\n",
              "      <th>Parks</th>\n",
              "      <th>Transit Stations</th>\n",
              "      <th>Workplaces</th>\n",
              "      <th>Residential</th>\n",
              "    </tr>\n",
              "    <tr>\n",
              "      <th>country region</th>\n",
              "      <th></th>\n",
              "      <th></th>\n",
              "      <th></th>\n",
              "      <th></th>\n",
              "      <th></th>\n",
              "      <th></th>\n",
              "    </tr>\n",
              "  </thead>\n",
              "  <tbody>\n",
              "    <tr>\n",
              "      <th>Ireland</th>\n",
              "      <td>-22.585639</td>\n",
              "      <td>8.644192</td>\n",
              "      <td>14.254339</td>\n",
              "      <td>-31.835195</td>\n",
              "      <td>-29.074779</td>\n",
              "      <td>8.756719</td>\n",
              "    </tr>\n",
              "  </tbody>\n",
              "</table>\n",
              "</div>\n",
              "      <button class=\"colab-df-convert\" onclick=\"convertToInteractive('df-0765fe51-2ad3-42ad-a311-cf8dc599fabb')\"\n",
              "              title=\"Convert this dataframe to an interactive table.\"\n",
              "              style=\"display:none;\">\n",
              "        \n",
              "  <svg xmlns=\"http://www.w3.org/2000/svg\" height=\"24px\"viewBox=\"0 0 24 24\"\n",
              "       width=\"24px\">\n",
              "    <path d=\"M0 0h24v24H0V0z\" fill=\"none\"/>\n",
              "    <path d=\"M18.56 5.44l.94 2.06.94-2.06 2.06-.94-2.06-.94-.94-2.06-.94 2.06-2.06.94zm-11 1L8.5 8.5l.94-2.06 2.06-.94-2.06-.94L8.5 2.5l-.94 2.06-2.06.94zm10 10l.94 2.06.94-2.06 2.06-.94-2.06-.94-.94-2.06-.94 2.06-2.06.94z\"/><path d=\"M17.41 7.96l-1.37-1.37c-.4-.4-.92-.59-1.43-.59-.52 0-1.04.2-1.43.59L10.3 9.45l-7.72 7.72c-.78.78-.78 2.05 0 2.83L4 21.41c.39.39.9.59 1.41.59.51 0 1.02-.2 1.41-.59l7.78-7.78 2.81-2.81c.8-.78.8-2.07 0-2.86zM5.41 20L4 18.59l7.72-7.72 1.47 1.35L5.41 20z\"/>\n",
              "  </svg>\n",
              "      </button>\n",
              "      \n",
              "  <style>\n",
              "    .colab-df-container {\n",
              "      display:flex;\n",
              "      flex-wrap:wrap;\n",
              "      gap: 12px;\n",
              "    }\n",
              "\n",
              "    .colab-df-convert {\n",
              "      background-color: #E8F0FE;\n",
              "      border: none;\n",
              "      border-radius: 50%;\n",
              "      cursor: pointer;\n",
              "      display: none;\n",
              "      fill: #1967D2;\n",
              "      height: 32px;\n",
              "      padding: 0 0 0 0;\n",
              "      width: 32px;\n",
              "    }\n",
              "\n",
              "    .colab-df-convert:hover {\n",
              "      background-color: #E2EBFA;\n",
              "      box-shadow: 0px 1px 2px rgba(60, 64, 67, 0.3), 0px 1px 3px 1px rgba(60, 64, 67, 0.15);\n",
              "      fill: #174EA6;\n",
              "    }\n",
              "\n",
              "    [theme=dark] .colab-df-convert {\n",
              "      background-color: #3B4455;\n",
              "      fill: #D2E3FC;\n",
              "    }\n",
              "\n",
              "    [theme=dark] .colab-df-convert:hover {\n",
              "      background-color: #434B5C;\n",
              "      box-shadow: 0px 1px 3px 1px rgba(0, 0, 0, 0.15);\n",
              "      filter: drop-shadow(0px 1px 2px rgba(0, 0, 0, 0.3));\n",
              "      fill: #FFFFFF;\n",
              "    }\n",
              "  </style>\n",
              "\n",
              "      <script>\n",
              "        const buttonEl =\n",
              "          document.querySelector('#df-0765fe51-2ad3-42ad-a311-cf8dc599fabb button.colab-df-convert');\n",
              "        buttonEl.style.display =\n",
              "          google.colab.kernel.accessAllowed ? 'block' : 'none';\n",
              "\n",
              "        async function convertToInteractive(key) {\n",
              "          const element = document.querySelector('#df-0765fe51-2ad3-42ad-a311-cf8dc599fabb');\n",
              "          const dataTable =\n",
              "            await google.colab.kernel.invokeFunction('convertToInteractive',\n",
              "                                                     [key], {});\n",
              "          if (!dataTable) return;\n",
              "\n",
              "          const docLinkHtml = 'Like what you see? Visit the ' +\n",
              "            '<a target=\"_blank\" href=https://colab.research.google.com/notebooks/data_table.ipynb>data table notebook</a>'\n",
              "            + ' to learn more about interactive tables.';\n",
              "          element.innerHTML = '';\n",
              "          dataTable['output_type'] = 'display_data';\n",
              "          await google.colab.output.renderOutput(dataTable, element);\n",
              "          const docLink = document.createElement('div');\n",
              "          docLink.innerHTML = docLinkHtml;\n",
              "          element.appendChild(docLink);\n",
              "        }\n",
              "      </script>\n",
              "    </div>\n",
              "  </div>\n",
              "  "
            ],
            "text/plain": [
              "                Retail and Recreation  ...  Residential\n",
              "country region                         ...             \n",
              "Ireland                    -22.585639  ...     8.756719\n",
              "\n",
              "[1 rows x 6 columns]"
            ]
          },
          "metadata": {},
          "execution_count": 46
        }
      ],
      "source": [
        "google.groupby('country region').mean()"
      ]
    },
    {
      "cell_type": "markdown",
      "id": "b4167fbd",
      "metadata": {
        "id": "b4167fbd"
      },
      "source": [
        "## Handling Missing Values"
      ]
    },
    {
      "cell_type": "code",
      "execution_count": 48,
      "id": "ab8e39c5",
      "metadata": {
        "colab": {
          "base_uri": "https://localhost:8080/"
        },
        "id": "ab8e39c5",
        "outputId": "3c740777-5bbf-427b-c0a4-671da6aa9db5"
      },
      "outputs": [
        {
          "output_type": "stream",
          "name": "stdout",
          "text": [
            "total number of NA values is Google  19011\n"
          ]
        }
      ],
      "source": [
        "print ('total number of NA values is Google ' , google.isna().sum().sum())"
      ]
    },
    {
      "cell_type": "markdown",
      "id": "2e9fbd0f",
      "metadata": {
        "id": "2e9fbd0f"
      },
      "source": [
        "Parks, Transit Stations, Residential Shows the top 3 missed values in Ireland"
      ]
    },
    {
      "cell_type": "code",
      "execution_count": 49,
      "id": "0248b730",
      "metadata": {
        "colab": {
          "base_uri": "https://localhost:8080/"
        },
        "id": "0248b730",
        "outputId": "43e62b17-2096-4347-c941-a47f15ad3754"
      },
      "outputs": [
        {
          "output_type": "stream",
          "name": "stdout",
          "text": [
            "The missing value for each feature is:\n",
            " {'country region': 0, 'County': 696, 'Date': 0, 'Retail and Recreation': 934, 'Grocery and Pharmacy': 839, 'Parks': 8235, 'Transit Stations': 5088, 'Workplaces': 166, 'Residential': 3053}\n"
          ]
        }
      ],
      "source": [
        "nan_columns = []\n",
        "nan_mobility = []\n",
        "for column in google.columns:\n",
        "    nan_columns.append(column)\n",
        "    nan_mobility.append(google[column].isnull().sum())\n",
        "number_of_miss_values_features = dict(zip(nan_columns, nan_mobility))\n",
        "print('The missing value for each feature is:\\n', number_of_miss_values_features)"
      ]
    },
    {
      "cell_type": "code",
      "execution_count": 50,
      "id": "b0d49992",
      "metadata": {
        "id": "b0d49992"
      },
      "outputs": [],
      "source": [
        "google_IR = google.copy()"
      ]
    },
    {
      "cell_type": "code",
      "execution_count": 51,
      "id": "17cc205c",
      "metadata": {
        "id": "17cc205c"
      },
      "outputs": [],
      "source": [
        "# DF of the Ireland status withouth County level\n",
        "google_Ireland_status = google_IR[google_IR['County'].isna()].reset_index(drop=True)\n",
        "# DF of the Ireland status with County level\n",
        "google_county_status = google_IR[google_IR['County'].notna()].reset_index(drop=True)\n",
        "\n",
        "# Creating the array that saves the value for each day\n",
        "len_google_ireland = len(google_Ireland_status)\n",
        "# Empty arrays to store values\n",
        "daily_status_mob_val_r_r = np.array([])\n",
        "daily_status_mob_val_g_p = np.array([])\n",
        "daily_status_mob_val_p = np.array([])\n",
        "daily_status_mob_val_t = np.array([])\n",
        "daily_status_mob_val_w = np.array([])\n",
        "daily_status_mob_val_r = np.array([])\n",
        "\n",
        "for i in range (0, len_google_ireland):\n",
        "    \n",
        "    mob_val_r_r = google_Ireland_status.loc[i]['Retail and Recreation']\n",
        "    mob_val_g_p = google_Ireland_status.loc[i]['Grocery and Pharmacy']\n",
        "    mob_val_p = google_Ireland_status.loc[i]['Parks']\n",
        "    mob_val_t = google_Ireland_status.loc[i]['Transit Stations']\n",
        "    mob_val_w = google_Ireland_status.loc[i]['Workplaces']\n",
        "    mob_val_r = google_Ireland_status.loc[i]['Residential']\n",
        "    \n",
        "    # For all 26 Irish counties\n",
        "    for k in range (1, 27):\n",
        "        \n",
        "        daily_status_mob_val_r_r = np.append(daily_status_mob_val_r_r, mob_val_r_r)\n",
        "        daily_status_mob_val_g_p = np.append( daily_status_mob_val_g_p  , mob_val_g_p)\n",
        "        daily_status_mob_val_p = np.append( daily_status_mob_val_p , mob_val_p )\n",
        "        daily_status_mob_val_t = np.append( daily_status_mob_val_t  , mob_val_t )\n",
        "        daily_status_mob_val_w = np.append( daily_status_mob_val_w , mob_val_w)\n",
        "        daily_status_mob_val_r = np.append( daily_status_mob_val_r , mob_val_r)\n"
      ]
    },
    {
      "cell_type": "code",
      "source": [
        "# 1- Cleaning 'Retail and Recreation'\n",
        "for i, j in google_county_status['Retail and Recreation'].iteritems():\n",
        "    if pd.isnull(j):\n",
        "        google_county_status['Retail and Recreation'] = google_county_status['Retail and Recreation'].fillna(daily_status_mob_val_r_r[i]).to_frame()\n",
        "    else:\n",
        "        pass\n",
        "\n",
        "# 2- Cleaning 'Grocery and Pharmacy'   \n",
        "for i, j in google_county_status['Grocery and Pharmacy'].iteritems():\n",
        "    if pd.isnull(j):\n",
        "        google_county_status['Grocery and Pharmacy'] = google_county_status['Grocery and Pharmacy'].fillna(daily_status_mob_val_g_p[i]).to_frame()\n",
        "    else:\n",
        "        pass\n",
        "\n",
        "\n",
        "# 3- Cleaning 'Parks'   \n",
        "for i, j in google_county_status['Parks'].iteritems():\n",
        "    if pd.isnull(j):\n",
        "        google_county_status['Parks'] = google_county_status['Parks'].fillna(daily_status_mob_val_p[i]).to_frame()\n",
        "    else:\n",
        "        pass\n",
        "\n",
        "# 4- Cleaning 'Transit Stations'   \n",
        "for i, j in google_county_status['Transit Stations'].iteritems():\n",
        "    if pd.isnull(j):\n",
        "        google_county_status['Transit Stations'] = google_county_status['Transit Stations'].fillna(daily_status_mob_val_t[i]).to_frame()\n",
        "    else:\n",
        "        pass\n",
        "\n",
        "# 5- Cleaning 'Workplaces'   \n",
        "for i, j in google_county_status['Workplaces'].iteritems():\n",
        "    if pd.isnull(j):\n",
        "        google_county_status['Workplaces'] = google_county_status['Workplaces'].fillna(daily_status_mob_val_w[i]).to_frame()\n",
        "    else:\n",
        "        pass\n",
        "    \n",
        "# 6- Cleaning 'Residential'   \n",
        "for i, j in google_county_status['Residential'].iteritems():\n",
        "    if pd.isnull(j):\n",
        "        google_county_status['Residential'] = google_county_status['Residential'].fillna(daily_status_mob_val_r[i] ).to_frame()\n",
        "    else:\n",
        "        pass"
      ],
      "metadata": {
        "id": "BF_ORjP-Q9W2"
      },
      "id": "BF_ORjP-Q9W2",
      "execution_count": null,
      "outputs": []
    },
    {
      "cell_type": "code",
      "execution_count": 53,
      "id": "527a749e",
      "metadata": {
        "colab": {
          "base_uri": "https://localhost:8080/"
        },
        "id": "527a749e",
        "outputId": "85479a6e-9afd-4cd0-de95-6c0234621816"
      },
      "outputs": [
        {
          "output_type": "execute_result",
          "data": {
            "text/plain": [
              "country region           0\n",
              "County                   0\n",
              "Date                     0\n",
              "Retail and Recreation    0\n",
              "Grocery and Pharmacy     0\n",
              "Parks                    0\n",
              "Transit Stations         0\n",
              "Workplaces               0\n",
              "Residential              0\n",
              "dtype: int64"
            ]
          },
          "metadata": {},
          "execution_count": 53
        }
      ],
      "source": [
        "google_county_status.isna().sum()"
      ]
    },
    {
      "cell_type": "code",
      "execution_count": 54,
      "id": "3a8e076a",
      "metadata": {
        "id": "3a8e076a"
      },
      "outputs": [],
      "source": [
        "google_county_status.to_csv('google_clean.csv')"
      ]
    },
    {
      "cell_type": "code",
      "execution_count": 133,
      "id": "456a5f11",
      "metadata": {
        "id": "456a5f11"
      },
      "outputs": [],
      "source": [
        "# fig = px.histogram(google_county_status, \n",
        "#                    x=\"Parks\", \n",
        "#                    marginal=\"box\",\n",
        "#                    title='Mobility')\n",
        "# fig.show()"
      ]
    },
    {
      "cell_type": "markdown",
      "id": "6d5c07ee",
      "metadata": {
        "id": "6d5c07ee"
      },
      "source": [
        "## Deviation "
      ]
    },
    {
      "cell_type": "code",
      "execution_count": 59,
      "id": "20a821bd",
      "metadata": {
        "id": "20a821bd"
      },
      "outputs": [],
      "source": [
        "max_dev_county = google_county_status.groupby(['County', 'Date'])[['Retail and Recreation',\n",
        "                                   'Grocery and Pharmacy',\n",
        "                                    'Parks', \n",
        "                                    'Transit Stations',\n",
        "                                    'Workplaces',\n",
        "                                    'Residential']].max().reset_index()"
      ]
    },
    {
      "cell_type": "code",
      "execution_count": 134,
      "id": "976745f9",
      "metadata": {
        "id": "976745f9"
      },
      "outputs": [],
      "source": [
        "#max_dev_county.style.background_gradient(cmap = 'Reds')"
      ]
    },
    {
      "cell_type": "markdown",
      "id": "58143271",
      "metadata": {
        "id": "58143271"
      },
      "source": [
        "# Apple"
      ]
    },
    {
      "cell_type": "markdown",
      "id": "d1c13bae",
      "metadata": {
        "id": "d1c13bae"
      },
      "source": [
        "Since the number of NULL calues for transit and walk are high, so we decided to only use driving feature for analysing."
      ]
    },
    {
      "cell_type": "code",
      "execution_count": 61,
      "id": "04f50afe",
      "metadata": {
        "colab": {
          "base_uri": "https://localhost:8080/"
        },
        "id": "04f50afe",
        "outputId": "d2a3f35f-ff66-45c0-d466-4ad360825a08"
      },
      "outputs": [
        {
          "output_type": "execute_result",
          "data": {
            "text/plain": [
              "transportation_type\n",
              "country        0\n",
              "region         0\n",
              "date           0\n",
              "driving        4\n",
              "transit    13171\n",
              "walking    11781\n",
              "dtype: int64"
            ]
          },
          "metadata": {},
          "execution_count": 61
        }
      ],
      "source": [
        "apple.isna().sum()"
      ]
    },
    {
      "cell_type": "markdown",
      "id": "48c66d53",
      "metadata": {
        "id": "48c66d53"
      },
      "source": [
        "As we see, only four values are empty that id for Monday and Tuesday, so we decided to fill them with the day before."
      ]
    },
    {
      "cell_type": "code",
      "execution_count": 135,
      "id": "6758d112",
      "metadata": {
        "id": "6758d112"
      },
      "outputs": [],
      "source": [
        "apple_deiving_null = apple[apple['driving'].isnull()].reset_index()"
      ]
    },
    {
      "cell_type": "code",
      "execution_count": 63,
      "id": "6f293983",
      "metadata": {
        "id": "6f293983"
      },
      "outputs": [],
      "source": [
        "apple_clean = apple.drop (columns = ['transit','walking'] , axis = 1)"
      ]
    },
    {
      "cell_type": "code",
      "execution_count": 64,
      "id": "fbab370d",
      "metadata": {
        "colab": {
          "base_uri": "https://localhost:8080/"
        },
        "id": "fbab370d",
        "outputId": "aa57f78f-5960-4576-e32e-6b34059cc166"
      },
      "outputs": [
        {
          "output_type": "execute_result",
          "data": {
            "text/plain": [
              "[1386, 1387, 3467, 3468]"
            ]
          },
          "metadata": {},
          "execution_count": 64
        }
      ],
      "source": [
        "# indexes with Null Values\n",
        "apple_clean[apple_clean['driving'].isnull()].index.tolist()"
      ]
    },
    {
      "cell_type": "markdown",
      "id": "7c7cfc20",
      "metadata": {
        "id": "7c7cfc20"
      },
      "source": [
        "## Oxford"
      ]
    },
    {
      "cell_type": "code",
      "execution_count": 68,
      "id": "b34fb45f",
      "metadata": {
        "id": "b34fb45f"
      },
      "outputs": [],
      "source": [
        "oxford_clean = oxford.filter(['Date',\n",
        "                                      'C1_School closing',\n",
        "                                      'C2_Workplace closing',\n",
        "                                      'C3_Cancel public events', \n",
        "                                      'C4_Restrictions on gatherings',\n",
        "                                      'C5_Close public transport',\n",
        "                                      'C6_Stay at home requirements',\n",
        "                                      'C7_Restrictions on internal movement',\n",
        "                                      'C8_International travel controls'], axis = 1)"
      ]
    },
    {
      "cell_type": "code",
      "execution_count": 70,
      "id": "20cc2057",
      "metadata": {
        "colab": {
          "base_uri": "https://localhost:8080/"
        },
        "id": "20cc2057",
        "outputId": "4c970722-8913-425c-f087-72af1581d09e"
      },
      "outputs": [
        {
          "output_type": "execute_result",
          "data": {
            "text/plain": [
              "Date                                    0\n",
              "C1_School closing                       0\n",
              "C2_Workplace closing                    0\n",
              "C3_Cancel public events                 0\n",
              "C4_Restrictions on gatherings           0\n",
              "C5_Close public transport               0\n",
              "C6_Stay at home requirements            0\n",
              "C7_Restrictions on internal movement    0\n",
              "C8_International travel controls        0\n",
              "dtype: int64"
            ]
          },
          "metadata": {},
          "execution_count": 70
        }
      ],
      "source": [
        "oxford_clean.isna().sum()"
      ]
    },
    {
      "cell_type": "markdown",
      "id": "b468578a",
      "metadata": {
        "id": "b468578a"
      },
      "source": [
        "# 3: Data Understanding Phase :"
      ]
    },
    {
      "cell_type": "markdown",
      "id": "c6caba25",
      "metadata": {
        "id": "c6caba25"
      },
      "source": [
        "# COVID 19 : World"
      ]
    },
    {
      "cell_type": "markdown",
      "id": "cbc16e81",
      "metadata": {
        "id": "cbc16e81"
      },
      "source": [
        "## World Status (For Introduction Part)"
      ]
    },
    {
      "cell_type": "code",
      "execution_count": 74,
      "id": "0b145338",
      "metadata": {
        "id": "0b145338"
      },
      "outputs": [],
      "source": [
        "#Grouping by Date and Sum all the Confirmed numbers to have aggregarted version\n",
        "confirmed = df_confirmed.sort_values('Date').groupby('Date').sum()['Confirmed'].reset_index() #sum()['Confirmed'] to only have this cilumn\n",
        "recovered = df_recovered.sort_values('Date').groupby('Date').sum()['Recovered'].reset_index()\n",
        "deaths = df_deaths.sort_values('Date').groupby('Date').sum()['Deaths'].reset_index()"
      ]
    },
    {
      "cell_type": "code",
      "execution_count": 75,
      "id": "08c12e55",
      "metadata": {
        "id": "08c12e55"
      },
      "outputs": [],
      "source": [
        "# Sorting Date & change to datatime\n",
        "confirmed.Date = pd.to_datetime(confirmed.Date)\n",
        "recovered.Date = pd.to_datetime(recovered.Date)\n",
        "deaths.Date = pd.to_datetime(deaths.Date)"
      ]
    },
    {
      "cell_type": "code",
      "execution_count": 136,
      "id": "3c017a41",
      "metadata": {
        "id": "3c017a41"
      },
      "outputs": [],
      "source": [
        "# fig = go.Figure()\n",
        "# fig.add_trace(go.Scatter(x=confirmed['Date'], y=confirmed['Confirmed'], mode='lines+markers', name='Confirmed',line=dict(color='blue', width=1)))\n",
        "# fig.add_trace(go.Scatter(x=deaths['Date'], y=deaths['Deaths'], mode='lines+markers', name='Deaths', line=dict(color='Red', width=1)))\n",
        "# fig.add_trace(go.Scatter(x=recovered['Date'], y=recovered['Recovered'], mode='lines+markers', name='Recovered', line=dict(color='Green', width=1)))\n",
        "# fig.update_layout(title='COVID-19 Wordwide Status', xaxis_tickfont_size=14,yaxis=dict(title='Number of Cases'))\n",
        "# fig.show()"
      ]
    },
    {
      "cell_type": "markdown",
      "id": "07cead59",
      "metadata": {
        "id": "07cead59"
      },
      "source": [
        "## Ireland"
      ]
    },
    {
      "cell_type": "code",
      "execution_count": 77,
      "id": "7b2a5e07",
      "metadata": {
        "id": "7b2a5e07"
      },
      "outputs": [],
      "source": [
        "df_confirmed_Ireland =df_confirmed[ df_confirmed['Country'].isin(countries)].reset_index()\n",
        "df_recovered_Ireland = df_recovered[df_recovered['Country'].isin(countries)].reset_index()\n",
        "df_deaths_Ireland = df_deaths[df_deaths['Country'].isin(countries)].reset_index()"
      ]
    },
    {
      "cell_type": "code",
      "execution_count": 78,
      "id": "8414c815",
      "metadata": {
        "id": "8414c815"
      },
      "outputs": [],
      "source": [
        "pd.options.mode.chained_assignment = None  # default='warn\n",
        "df_confirmed_Ireland ['Daily_Confirmed'] = df_confirmed_Ireland.groupby(['Country', 'Latitude', 'Longitude'])['Confirmed'].diff()\n",
        "df_recovered_Ireland ['Daily_Recovered'] = df_recovered_Ireland.groupby(['Country', 'Latitude', 'Longitude'])['Recovered'].diff()\n",
        "df_deaths_Ireland['Daily_Deaths'] = df_deaths_Ireland.groupby(['Country', 'Latitude', 'Longitude'])['Deaths'].diff()"
      ]
    },
    {
      "cell_type": "code",
      "execution_count": 79,
      "id": "0ba91eb1",
      "metadata": {
        "colab": {
          "base_uri": "https://localhost:8080/"
        },
        "id": "0ba91eb1",
        "outputId": "a08fd980-bba5-45af-adf4-a0cfea95cf4f"
      },
      "outputs": [
        {
          "output_type": "stream",
          "name": "stdout",
          "text": [
            "Current Status of COVID 19 in Ireland:\n",
            "\n",
            "Total Number of Confirmed Cases in Ireland till\n",
            " 2022-02-23 20:11:03.713091 1280058.0\n",
            "Total Number of Death Cases in Ireland till\n",
            " 2022-02-23 20:11:03.713091 6452.0\n",
            "Total Number of Recovered Cases in Ireland till\n",
            " 2022-02-23 20:11:03.713091 0.0\n"
          ]
        }
      ],
      "source": [
        "today = pd.to_datetime(\"now\")\n",
        "\n",
        "print ('Current Status of COVID 19 in Ireland:\\n')\n",
        "print ('Total Number of Confirmed Cases in Ireland till\\n', today, df_confirmed_Ireland.Daily_Confirmed.sum())\n",
        "print ('Total Number of Death Cases in Ireland till\\n', today, df_deaths_Ireland.Daily_Deaths.sum())\n",
        "print ('Total Number of Recovered Cases in Ireland till\\n', today, df_recovered_Ireland.Daily_Recovered.sum())"
      ]
    },
    {
      "cell_type": "code",
      "execution_count": 80,
      "id": "e5f0bd56",
      "metadata": {
        "colab": {
          "base_uri": "https://localhost:8080/"
        },
        "id": "e5f0bd56",
        "outputId": "00af01ec-4393-4e6d-cbf3-3530f5206d29"
      },
      "outputs": [
        {
          "output_type": "stream",
          "name": "stdout",
          "text": [
            "Current Status of COVID 19 in Ireland:\n",
            "Total Number of Confirmed Cases in Ireland till 2022-02-23 20:11:03.735317 1280058\n",
            "Total Number of Death Cases in Ireland till 2022-02-23 20:11:03.735317 6452\n"
          ]
        }
      ],
      "source": [
        "# reading today from system\n",
        "today = pd.to_datetime(\"now\")\n",
        "\n",
        "print ('Current Status of COVID 19 in Ireland:')\n",
        "print ('Total Number of Confirmed Cases in Ireland till', today, daily_confirmed['Ireland'].sum())\n",
        "print ('Total Number of Death Cases in Ireland till', today, daily_deaths['Ireland'].sum())"
      ]
    },
    {
      "cell_type": "markdown",
      "id": "de5c7ed8",
      "metadata": {
        "id": "de5c7ed8"
      },
      "source": [
        "Ireland witness the highest daily death numbers on 24th April 2020 and 2nd Feberary 2021. Below the top 20 days with the highest daily death toll are highlighted"
      ]
    },
    {
      "cell_type": "markdown",
      "id": "ab07a776",
      "metadata": {
        "id": "ab07a776"
      },
      "source": [
        "## Death in Ireland"
      ]
    },
    {
      "cell_type": "code",
      "execution_count": 138,
      "id": "15dd5418",
      "metadata": {
        "colab": {
          "base_uri": "https://localhost:8080/",
          "height": 206
        },
        "id": "15dd5418",
        "outputId": "8cc7da2a-1703-466f-cef3-56cfed7587ef"
      },
      "outputs": [
        {
          "output_type": "execute_result",
          "data": {
            "text/html": [
              "<style type=\"text/css\">\n",
              "#T_1a2aa_row0_col0 {\n",
              "  background-color: #67000d;\n",
              "  color: #f1f1f1;\n",
              "}\n",
              "#T_1a2aa_row1_col0 {\n",
              "  background-color: #fee9df;\n",
              "  color: #000000;\n",
              "}\n",
              "#T_1a2aa_row2_col0 {\n",
              "  background-color: #ffece3;\n",
              "  color: #000000;\n",
              "}\n",
              "#T_1a2aa_row3_col0 {\n",
              "  background-color: #fff2ec;\n",
              "  color: #000000;\n",
              "}\n",
              "#T_1a2aa_row4_col0 {\n",
              "  background-color: #fff5f0;\n",
              "  color: #000000;\n",
              "}\n",
              "</style>\n",
              "<table id=\"T_1a2aa_\" class=\"dataframe\">\n",
              "  <thead>\n",
              "    <tr>\n",
              "      <th class=\"blank level0\" >&nbsp;</th>\n",
              "      <th class=\"col_heading level0 col0\" >Ireland</th>\n",
              "    </tr>\n",
              "  </thead>\n",
              "  <tbody>\n",
              "    <tr>\n",
              "      <th id=\"T_1a2aa_level0_row0\" class=\"row_heading level0 row0\" >4/24/20</th>\n",
              "      <td id=\"T_1a2aa_row0_col0\" class=\"data row0 col0\" >220</td>\n",
              "    </tr>\n",
              "    <tr>\n",
              "      <th id=\"T_1a2aa_level0_row1\" class=\"row_heading level0 row1\" >2/2/21</th>\n",
              "      <td id=\"T_1a2aa_row1_col0\" class=\"data row1 col0\" >101</td>\n",
              "    </tr>\n",
              "    <tr>\n",
              "      <th id=\"T_1a2aa_level0_row2\" class=\"row_heading level0 row2\" >2/15/22</th>\n",
              "      <td id=\"T_1a2aa_row2_col0\" class=\"data row2 col0\" >99</td>\n",
              "    </tr>\n",
              "    <tr>\n",
              "      <th id=\"T_1a2aa_level0_row3\" class=\"row_heading level0 row3\" >2/3/21</th>\n",
              "      <td id=\"T_1a2aa_row3_col0\" class=\"data row3 col0\" >94</td>\n",
              "    </tr>\n",
              "    <tr>\n",
              "      <th id=\"T_1a2aa_level0_row4\" class=\"row_heading level0 row4\" >2/2/22</th>\n",
              "      <td id=\"T_1a2aa_row4_col0\" class=\"data row4 col0\" >92</td>\n",
              "    </tr>\n",
              "  </tbody>\n",
              "</table>\n"
            ],
            "text/plain": [
              "<pandas.io.formats.style.Styler at 0x7f516c37dbd0>"
            ]
          },
          "metadata": {},
          "execution_count": 138
        }
      ],
      "source": [
        "# Most Daily Death in Ireland\n",
        "Ireland_death = pd.DataFrame(daily_deaths['Ireland'])\n",
        "Ireland_death.sort_values('Ireland', ascending=False).head(5). style.background_gradient(cmap = 'Reds')  # Highlighting DF"
      ]
    },
    {
      "cell_type": "markdown",
      "id": "d1406deb",
      "metadata": {
        "id": "d1406deb"
      },
      "source": [
        "## Confirmed Cases in Ireland"
      ]
    },
    {
      "cell_type": "markdown",
      "id": "9133821f",
      "metadata": {
        "id": "9133821f"
      },
      "source": [
        "Ireland expereienced the highest daily confiemd cases in January 2021. The numbers are extremily high comparing to the total population. "
      ]
    },
    {
      "cell_type": "code",
      "execution_count": 137,
      "id": "837607e3",
      "metadata": {
        "colab": {
          "base_uri": "https://localhost:8080/",
          "height": 206
        },
        "id": "837607e3",
        "outputId": "ebbb554e-4e8c-438e-acae-245aa985f7ac"
      },
      "outputs": [
        {
          "output_type": "execute_result",
          "data": {
            "text/html": [
              "<style type=\"text/css\">\n",
              "#T_216e7_row0_col0 {\n",
              "  background-color: #67000d;\n",
              "  color: #f1f1f1;\n",
              "}\n",
              "#T_216e7_row1_col0 {\n",
              "  background-color: #f75b40;\n",
              "  color: #f1f1f1;\n",
              "}\n",
              "#T_216e7_row2_col0 {\n",
              "  background-color: #fedbcc;\n",
              "  color: #000000;\n",
              "}\n",
              "#T_216e7_row3_col0 {\n",
              "  background-color: #fff1ea;\n",
              "  color: #000000;\n",
              "}\n",
              "#T_216e7_row4_col0 {\n",
              "  background-color: #fff5f0;\n",
              "  color: #000000;\n",
              "}\n",
              "</style>\n",
              "<table id=\"T_216e7_\" class=\"dataframe\">\n",
              "  <thead>\n",
              "    <tr>\n",
              "      <th class=\"blank level0\" >&nbsp;</th>\n",
              "      <th class=\"col_heading level0 col0\" >Ireland</th>\n",
              "    </tr>\n",
              "  </thead>\n",
              "  <tbody>\n",
              "    <tr>\n",
              "      <th id=\"T_216e7_level0_row0\" class=\"row_heading level0 row0\" >1/11/22</th>\n",
              "      <td id=\"T_216e7_row0_col0\" class=\"data row0 col0\" >43199</td>\n",
              "    </tr>\n",
              "    <tr>\n",
              "      <th id=\"T_216e7_level0_row1\" class=\"row_heading level0 row1\" >1/3/22</th>\n",
              "      <td id=\"T_216e7_row1_col0\" class=\"data row1 col0\" >34057</td>\n",
              "    </tr>\n",
              "    <tr>\n",
              "      <th id=\"T_216e7_level0_row2\" class=\"row_heading level0 row2\" >1/8/22</th>\n",
              "      <td id=\"T_216e7_row2_col0\" class=\"data row2 col0\" >26122</td>\n",
              "    </tr>\n",
              "    <tr>\n",
              "      <th id=\"T_216e7_level0_row3\" class=\"row_heading level0 row3\" >1/6/22</th>\n",
              "      <td id=\"T_216e7_row3_col0\" class=\"data row3 col0\" >23817</td>\n",
              "    </tr>\n",
              "    <tr>\n",
              "      <th id=\"T_216e7_level0_row4\" class=\"row_heading level0 row4\" >1/1/22</th>\n",
              "      <td id=\"T_216e7_row4_col0\" class=\"data row4 col0\" >23281</td>\n",
              "    </tr>\n",
              "  </tbody>\n",
              "</table>\n"
            ],
            "text/plain": [
              "<pandas.io.formats.style.Styler at 0x7f516c49fd10>"
            ]
          },
          "metadata": {},
          "execution_count": 137
        }
      ],
      "source": [
        "# Most Daily Confirmed in Ireland\n",
        "Ireland_Confirmed = pd.DataFrame(daily_confirmed['Ireland'])\n",
        "Ireland_Confirmed.sort_values('Ireland', ascending=False).head(5). style.background_gradient(cmap = 'Reds')  # Highlighting DF"
      ]
    },
    {
      "cell_type": "code",
      "execution_count": 83,
      "id": "f11a7c81",
      "metadata": {
        "colab": {
          "base_uri": "https://localhost:8080/",
          "height": 617
        },
        "id": "f11a7c81",
        "outputId": "7a99594f-cc2c-4131-99f3-28bb9cc559fe"
      },
      "outputs": [
        {
          "output_type": "display_data",
          "data": {
            "image/png": "[encoded data removed]",
            "text/plain": [
              "<Figure size 1440x720 with 2 Axes>"
            ]
          },
          "metadata": {
            "needs_background": "light"
          }
        }
      ],
      "source": [
        "# Ploting subplots of Cumulative Confirmed and Death Cases in Ireland\n",
        "fig, axes = plt.subplots(nrows=1, ncols=2)\n",
        "plt.style.use ('dark_background')\n",
        "hopkings_confirmed['Ireland'].plot(ax=axes[0], color = \"lightblue\", figsize = (20,10))\n",
        "# Add Label & Title   \n",
        "axes[0].set ( title = \"Cumulative Confirmed Cases\", \n",
        "         xlabel = 'Day',\n",
        "         ylabel = 'Confirmed cases')\n",
        "#Make the legend Visible\n",
        "axes[0].legend().set_visible (True)\n",
        "\n",
        "hopkings_deaths['Ireland'].plot(ax=axes[1], color = \"salmon\")\n",
        "# Add Label & Title   \n",
        "axes[1].set ( title = \"Cumulative Death Cases\", \n",
        "         xlabel = 'Day',\n",
        "         ylabel = 'Death cases')\n",
        "#Make the legend Visible\n",
        "axes[1].legend().set_visible (True)"
      ]
    },
    {
      "cell_type": "markdown",
      "id": "14e7d55d",
      "metadata": {
        "id": "14e7d55d"
      },
      "source": [
        "## Relating Confirmed Cases with Death Toll (Scatter Plot)"
      ]
    },
    {
      "cell_type": "code",
      "execution_count": 84,
      "id": "d365d36b",
      "metadata": {
        "colab": {
          "base_uri": "https://localhost:8080/",
          "height": 295
        },
        "id": "d365d36b",
        "outputId": "c8a7e0f0-d0a0-4e6b-b05e-bbea5bef773a"
      },
      "outputs": [
        {
          "output_type": "display_data",
          "data": {
            "image/png": "[encoded data removed]",
            "text/plain": [
              "<Figure size 432x288 with 1 Axes>"
            ]
          },
          "metadata": {}
        }
      ],
      "source": [
        "sns.regplot(x =hopkings_confirmed['Ireland'] , y = hopkings_deaths['Ireland'])\n",
        "plt.xlabel(\"Cumulative Confirmed Cases (Ireland)\")\n",
        "plt.ylabel(\"Cumulative Death Cases (Ireland)\")\n",
        "plt.title(\"Relationship between Confirmed Cases and Death\");"
      ]
    },
    {
      "cell_type": "code",
      "execution_count": 139,
      "id": "2e00ca60",
      "metadata": {
        "id": "2e00ca60"
      },
      "outputs": [],
      "source": [
        "# # Ploting subplots of Daily Confirmed and Death Cases in Ireland in Past two months\n",
        "# fig, axes = plt.subplots(nrows=2, ncols=1)\n",
        "# plt.style.use ('seaborn-poster')\n",
        "\n",
        "# # Space between subplots\n",
        "# plt.subplots_adjust(wspace=0.5, hspace=0.5) # the amount of width and height reserved for blank space between subplots\n",
        "\n",
        "# daily_confirmed['Ireland'][400:].plot(ax=axes[0], color = \"lightblue\", figsize = (20,10), kind = 'bar')\n",
        "# # Add Label & Title   \n",
        "# axes[0].set ( title = \"daily Confirmed Cases\", \n",
        "#          xlabel = 'Day',\n",
        "#          ylabel = 'Confirmed cases')\n",
        "# #Make the legend Visible\n",
        "# axes[0].legend().set_visible (True)\n",
        "\n",
        "# daily_deaths['Ireland'][400:].plot(ax=axes[1], color = \"salmon\", figsize = (20,10), kind = 'bar')\n",
        "# # Add Label & Title   \n",
        "# axes[1].set ( title = \"daily Death Cases\", \n",
        "#          xlabel = 'Day',\n",
        "#          ylabel = 'Death cases')\n",
        "# #Make the legend Visible\n",
        "# axes[1].legend().set_visible (True)"
      ]
    },
    {
      "cell_type": "code",
      "execution_count": 140,
      "id": "9c33a0a9",
      "metadata": {
        "id": "9c33a0a9"
      },
      "outputs": [],
      "source": [
        "# # Ploting subplots of growth of deaths and confirmed numbers in Ireland in Past two months\n",
        "# fig, axes = plt.subplots(nrows=2, ncols=1)\n",
        "# plt.style.use ('classic')\n",
        "\n",
        "# # Space between subplots\n",
        "# plt.subplots_adjust(wspace=0.5, hspace=0.5) # the amount of width and height reserved for blank space between subplots\n",
        "\n",
        "# growth_confirmed['Ireland'][400:].plot(ax=axes[0], color = \"lightblue\", figsize = (20,10), kind = 'bar')\n",
        "# # Add Label & Title   \n",
        "# axes[0].set ( title = \"Growth Confirmed Cases\", \n",
        "#          xlabel = 'Day',\n",
        "#          ylabel = 'Confirmed cases')\n",
        "# #Make the legend Visible\n",
        "# axes[0].legend().set_visible (True)\n",
        "\n",
        "# growth_deaths['Ireland'][400:].plot(ax=axes[1], color = \"salmon\", figsize = (20,10), kind = 'bar')\n",
        "# # Add Label & Title   \n",
        "# axes[1].set ( title = \"Growths Death Cases\", \n",
        "#          xlabel = 'Day',\n",
        "#          ylabel = 'Death cases')\n",
        "# #Make the legend Visible\n",
        "# axes[1].legend().set_visible (True)"
      ]
    },
    {
      "cell_type": "code",
      "execution_count": 87,
      "id": "26d7060a",
      "metadata": {
        "id": "26d7060a"
      },
      "outputs": [],
      "source": [
        "Final_data_Johnhopkings = df_confirmed_Ireland .merge(df_deaths_Ireland , how = 'outer', on = None)\n",
        "Final_data_Johnhopkings.to_csv('Final_data_Johnhopkings.csv')"
      ]
    },
    {
      "cell_type": "markdown",
      "id": "14ff60ae",
      "metadata": {
        "id": "14ff60ae"
      },
      "source": [
        "## Covid-19: Ireland Counties"
      ]
    },
    {
      "cell_type": "code",
      "execution_count": 88,
      "id": "1220551d",
      "metadata": {
        "colab": {
          "base_uri": "https://localhost:8080/"
        },
        "id": "1220551d",
        "outputId": "f443ae18-1d40-4844-b613-18ef2df9fe03"
      },
      "outputs": [
        {
          "output_type": "stream",
          "name": "stdout",
          "text": [
            "Current Status of COVID 19 in Ireland:\n",
            "Total Number of Confirmed Cases in Ireland till 2022-01-31 1280058.0\n"
          ]
        }
      ],
      "source": [
        "print ('Current Status of COVID 19 in Ireland:')\n",
        "print ('Total Number of Confirmed Cases in Ireland till', enddate- timedelta(days=1), covid['Daily_Confirmed'].sum())"
      ]
    },
    {
      "cell_type": "code",
      "execution_count": 89,
      "id": "0f2d9ee9",
      "metadata": {
        "colab": {
          "base_uri": "https://localhost:8080/",
          "height": 300
        },
        "id": "0f2d9ee9",
        "outputId": "bbdb2c99-04ea-4a89-a4ea-19256514137a"
      },
      "outputs": [
        {
          "output_type": "execute_result",
          "data": {
            "text/html": [
              "\n",
              "  <div id=\"df-2bb8f720-d4cf-4124-af84-5b15003b6e42\">\n",
              "    <div class=\"colab-df-container\">\n",
              "      <div>\n",
              "<style scoped>\n",
              "    .dataframe tbody tr th:only-of-type {\n",
              "        vertical-align: middle;\n",
              "    }\n",
              "\n",
              "    .dataframe tbody tr th {\n",
              "        vertical-align: top;\n",
              "    }\n",
              "\n",
              "    .dataframe thead th {\n",
              "        text-align: right;\n",
              "    }\n",
              "</style>\n",
              "<table border=\"1\" class=\"dataframe\">\n",
              "  <thead>\n",
              "    <tr style=\"text-align: right;\">\n",
              "      <th></th>\n",
              "      <th>Population</th>\n",
              "      <th>Lat</th>\n",
              "      <th>Long</th>\n",
              "      <th>Confirmed</th>\n",
              "      <th>Daily_Confirmed</th>\n",
              "      <th>Incident_Rate</th>\n",
              "    </tr>\n",
              "  </thead>\n",
              "  <tbody>\n",
              "    <tr>\n",
              "      <th>count</th>\n",
              "      <td>1.882400e+04</td>\n",
              "      <td>18824.000000</td>\n",
              "      <td>18824.000000</td>\n",
              "      <td>18824.000000</td>\n",
              "      <td>18798.000000</td>\n",
              "      <td>1.879800e+04</td>\n",
              "    </tr>\n",
              "    <tr>\n",
              "      <th>mean</th>\n",
              "      <td>1.831487e+05</td>\n",
              "      <td>53.284896</td>\n",
              "      <td>-7.678346</td>\n",
              "      <td>9880.982150</td>\n",
              "      <td>68.095436</td>\n",
              "      <td>3.679673e-09</td>\n",
              "    </tr>\n",
              "    <tr>\n",
              "      <th>std</th>\n",
              "      <td>2.528070e+05</td>\n",
              "      <td>0.728441</td>\n",
              "      <td>0.926157</td>\n",
              "      <td>25595.619712</td>\n",
              "      <td>239.306616</td>\n",
              "      <td>7.830926e-09</td>\n",
              "    </tr>\n",
              "    <tr>\n",
              "      <th>min</th>\n",
              "      <td>3.204400e+04</td>\n",
              "      <td>51.951700</td>\n",
              "      <td>-9.565000</td>\n",
              "      <td>0.000000</td>\n",
              "      <td>0.000000</td>\n",
              "      <td>0.000000e+00</td>\n",
              "    </tr>\n",
              "    <tr>\n",
              "      <th>25%</th>\n",
              "      <td>7.617600e+04</td>\n",
              "      <td>52.640700</td>\n",
              "      <td>-8.534500</td>\n",
              "      <td>670.000000</td>\n",
              "      <td>2.000000</td>\n",
              "      <td>2.015479e-10</td>\n",
              "    </tr>\n",
              "    <tr>\n",
              "      <th>50%</th>\n",
              "      <td>1.238505e+05</td>\n",
              "      <td>53.311850</td>\n",
              "      <td>-7.577100</td>\n",
              "      <td>3601.500000</td>\n",
              "      <td>12.000000</td>\n",
              "      <td>9.829735e-10</td>\n",
              "    </tr>\n",
              "    <tr>\n",
              "      <th>75%</th>\n",
              "      <td>1.595530e+05</td>\n",
              "      <td>53.916100</td>\n",
              "      <td>-6.836700</td>\n",
              "      <td>9586.250000</td>\n",
              "      <td>46.000000</td>\n",
              "      <td>3.356985e-09</td>\n",
              "    </tr>\n",
              "    <tr>\n",
              "      <th>max</th>\n",
              "      <td>1.347359e+06</td>\n",
              "      <td>54.898900</td>\n",
              "      <td>-6.292000</td>\n",
              "      <td>391210.000000</td>\n",
              "      <td>6202.000000</td>\n",
              "      <td>1.136443e-07</td>\n",
              "    </tr>\n",
              "  </tbody>\n",
              "</table>\n",
              "</div>\n",
              "      <button class=\"colab-df-convert\" onclick=\"convertToInteractive('df-2bb8f720-d4cf-4124-af84-5b15003b6e42')\"\n",
              "              title=\"Convert this dataframe to an interactive table.\"\n",
              "              style=\"display:none;\">\n",
              "        \n",
              "  <svg xmlns=\"http://www.w3.org/2000/svg\" height=\"24px\"viewBox=\"0 0 24 24\"\n",
              "       width=\"24px\">\n",
              "    <path d=\"M0 0h24v24H0V0z\" fill=\"none\"/>\n",
              "    <path d=\"M18.56 5.44l.94 2.06.94-2.06 2.06-.94-2.06-.94-.94-2.06-.94 2.06-2.06.94zm-11 1L8.5 8.5l.94-2.06 2.06-.94-2.06-.94L8.5 2.5l-.94 2.06-2.06.94zm10 10l.94 2.06.94-2.06 2.06-.94-2.06-.94-.94-2.06-.94 2.06-2.06.94z\"/><path d=\"M17.41 7.96l-1.37-1.37c-.4-.4-.92-.59-1.43-.59-.52 0-1.04.2-1.43.59L10.3 9.45l-7.72 7.72c-.78.78-.78 2.05 0 2.83L4 21.41c.39.39.9.59 1.41.59.51 0 1.02-.2 1.41-.59l7.78-7.78 2.81-2.81c.8-.78.8-2.07 0-2.86zM5.41 20L4 18.59l7.72-7.72 1.47 1.35L5.41 20z\"/>\n",
              "  </svg>\n",
              "      </button>\n",
              "      \n",
              "  <style>\n",
              "    .colab-df-container {\n",
              "      display:flex;\n",
              "      flex-wrap:wrap;\n",
              "      gap: 12px;\n",
              "    }\n",
              "\n",
              "    .colab-df-convert {\n",
              "      background-color: #E8F0FE;\n",
              "      border: none;\n",
              "      border-radius: 50%;\n",
              "      cursor: pointer;\n",
              "      display: none;\n",
              "      fill: #1967D2;\n",
              "      height: 32px;\n",
              "      padding: 0 0 0 0;\n",
              "      width: 32px;\n",
              "    }\n",
              "\n",
              "    .colab-df-convert:hover {\n",
              "      background-color: #E2EBFA;\n",
              "      box-shadow: 0px 1px 2px rgba(60, 64, 67, 0.3), 0px 1px 3px 1px rgba(60, 64, 67, 0.15);\n",
              "      fill: #174EA6;\n",
              "    }\n",
              "\n",
              "    [theme=dark] .colab-df-convert {\n",
              "      background-color: #3B4455;\n",
              "      fill: #D2E3FC;\n",
              "    }\n",
              "\n",
              "    [theme=dark] .colab-df-convert:hover {\n",
              "      background-color: #434B5C;\n",
              "      box-shadow: 0px 1px 3px 1px rgba(0, 0, 0, 0.15);\n",
              "      filter: drop-shadow(0px 1px 2px rgba(0, 0, 0, 0.3));\n",
              "      fill: #FFFFFF;\n",
              "    }\n",
              "  </style>\n",
              "\n",
              "      <script>\n",
              "        const buttonEl =\n",
              "          document.querySelector('#df-2bb8f720-d4cf-4124-af84-5b15003b6e42 button.colab-df-convert');\n",
              "        buttonEl.style.display =\n",
              "          google.colab.kernel.accessAllowed ? 'block' : 'none';\n",
              "\n",
              "        async function convertToInteractive(key) {\n",
              "          const element = document.querySelector('#df-2bb8f720-d4cf-4124-af84-5b15003b6e42');\n",
              "          const dataTable =\n",
              "            await google.colab.kernel.invokeFunction('convertToInteractive',\n",
              "                                                     [key], {});\n",
              "          if (!dataTable) return;\n",
              "\n",
              "          const docLinkHtml = 'Like what you see? Visit the ' +\n",
              "            '<a target=\"_blank\" href=https://colab.research.google.com/notebooks/data_table.ipynb>data table notebook</a>'\n",
              "            + ' to learn more about interactive tables.';\n",
              "          element.innerHTML = '';\n",
              "          dataTable['output_type'] = 'display_data';\n",
              "          await google.colab.output.renderOutput(dataTable, element);\n",
              "          const docLink = document.createElement('div');\n",
              "          docLink.innerHTML = docLinkHtml;\n",
              "          element.appendChild(docLink);\n",
              "        }\n",
              "      </script>\n",
              "    </div>\n",
              "  </div>\n",
              "  "
            ],
            "text/plain": [
              "         Population           Lat  ...  Daily_Confirmed  Incident_Rate\n",
              "count  1.882400e+04  18824.000000  ...     18798.000000   1.879800e+04\n",
              "mean   1.831487e+05     53.284896  ...        68.095436   3.679673e-09\n",
              "std    2.528070e+05      0.728441  ...       239.306616   7.830926e-09\n",
              "min    3.204400e+04     51.951700  ...         0.000000   0.000000e+00\n",
              "25%    7.617600e+04     52.640700  ...         2.000000   2.015479e-10\n",
              "50%    1.238505e+05     53.311850  ...        12.000000   9.829735e-10\n",
              "75%    1.595530e+05     53.916100  ...        46.000000   3.356985e-09\n",
              "max    1.347359e+06     54.898900  ...      6202.000000   1.136443e-07\n",
              "\n",
              "[8 rows x 6 columns]"
            ]
          },
          "metadata": {},
          "execution_count": 89
        }
      ],
      "source": [
        "covid.describe()"
      ]
    },
    {
      "cell_type": "code",
      "execution_count": 142,
      "id": "51a6b93e",
      "metadata": {
        "id": "51a6b93e"
      },
      "outputs": [],
      "source": [
        "# #set up plot\n",
        "# fig , ax = plt.subplots(figsize = (20,10))\n",
        "# #plot data\n",
        "# ax.plot(covid.date, covid.Daily_Confirmed)\n",
        "# # Customize Plot\n",
        "# ax.set(title = 'Daily Number of Confirmed Cases in Ireland',\n",
        "#        xlabel = 'Date',\n",
        "#        ylabel = 'Daily Positve Cases')\n",
        "# #styling the plot\n",
        "# plt.style.use ('tableau-colorblind10')"
      ]
    },
    {
      "cell_type": "markdown",
      "id": "c00dee22",
      "metadata": {
        "id": "c00dee22"
      },
      "source": [
        "## Situation in Counties"
      ]
    },
    {
      "cell_type": "markdown",
      "id": "9d999bfe",
      "metadata": {
        "id": "9d999bfe"
      },
      "source": [
        "#### Situatio per day per county"
      ]
    },
    {
      "cell_type": "code",
      "execution_count": 141,
      "id": "745ae701",
      "metadata": {
        "id": "745ae701"
      },
      "outputs": [],
      "source": [
        "covid_county = covid.drop(columns = ['Confirmed','Incident_Rate' , 'Lat', 'Long'] )\n",
        "#covid_county.style.background_gradient(cmap = 'Reds')"
      ]
    },
    {
      "cell_type": "markdown",
      "id": "9caa59de",
      "metadata": {
        "id": "9caa59de"
      },
      "source": [
        "#### Total Confirmed per County till now"
      ]
    },
    {
      "cell_type": "code",
      "execution_count": 92,
      "id": "21311eae",
      "metadata": {
        "colab": {
          "base_uri": "https://localhost:8080/",
          "height": 896
        },
        "id": "21311eae",
        "outputId": "50fb0d0a-1463-4d1e-ad7d-413281668253"
      },
      "outputs": [
        {
          "output_type": "execute_result",
          "data": {
            "text/html": [
              "<style type=\"text/css\">\n",
              "#T_e132f_row0_col0 {\n",
              "  background-color: #67000d;\n",
              "  color: #f1f1f1;\n",
              "}\n",
              "#T_e132f_row1_col0 {\n",
              "  background-color: #fca78b;\n",
              "  color: #000000;\n",
              "}\n",
              "#T_e132f_row2_col0 {\n",
              "  background-color: #fdd7c6;\n",
              "  color: #000000;\n",
              "}\n",
              "#T_e132f_row3_col0 {\n",
              "  background-color: #fedaca;\n",
              "  color: #000000;\n",
              "}\n",
              "#T_e132f_row4_col0, #T_e132f_row5_col0 {\n",
              "  background-color: #fee1d4;\n",
              "  color: #000000;\n",
              "}\n",
              "#T_e132f_row6_col0 {\n",
              "  background-color: #fee3d7;\n",
              "  color: #000000;\n",
              "}\n",
              "#T_e132f_row7_col0 {\n",
              "  background-color: #fee6da;\n",
              "  color: #000000;\n",
              "}\n",
              "#T_e132f_row8_col0 {\n",
              "  background-color: #fee8dd;\n",
              "  color: #000000;\n",
              "}\n",
              "#T_e132f_row9_col0 {\n",
              "  background-color: #feeae0;\n",
              "  color: #000000;\n",
              "}\n",
              "#T_e132f_row10_col0 {\n",
              "  background-color: #feeae1;\n",
              "  color: #000000;\n",
              "}\n",
              "#T_e132f_row11_col0, #T_e132f_row12_col0, #T_e132f_row13_col0, #T_e132f_row14_col0 {\n",
              "  background-color: #ffebe2;\n",
              "  color: #000000;\n",
              "}\n",
              "#T_e132f_row15_col0 {\n",
              "  background-color: #ffece4;\n",
              "  color: #000000;\n",
              "}\n",
              "#T_e132f_row16_col0 {\n",
              "  background-color: #ffeee7;\n",
              "  color: #000000;\n",
              "}\n",
              "#T_e132f_row17_col0 {\n",
              "  background-color: #ffefe8;\n",
              "  color: #000000;\n",
              "}\n",
              "#T_e132f_row18_col0 {\n",
              "  background-color: #fff0e8;\n",
              "  color: #000000;\n",
              "}\n",
              "#T_e132f_row19_col0, #T_e132f_row20_col0, #T_e132f_row21_col0 {\n",
              "  background-color: #fff0e9;\n",
              "  color: #000000;\n",
              "}\n",
              "#T_e132f_row22_col0 {\n",
              "  background-color: #fff1ea;\n",
              "  color: #000000;\n",
              "}\n",
              "#T_e132f_row23_col0 {\n",
              "  background-color: #fff2ec;\n",
              "  color: #000000;\n",
              "}\n",
              "#T_e132f_row24_col0 {\n",
              "  background-color: #fff4ee;\n",
              "  color: #000000;\n",
              "}\n",
              "#T_e132f_row25_col0 {\n",
              "  background-color: #fff5f0;\n",
              "  color: #000000;\n",
              "}\n",
              "</style>\n",
              "<table id=\"T_e132f_\" class=\"dataframe\">\n",
              "  <thead>\n",
              "    <tr>\n",
              "      <th class=\"blank\" >&nbsp;</th>\n",
              "      <th class=\"blank level0\" >&nbsp;</th>\n",
              "      <th class=\"col_heading level0 col0\" >Daily_Confirmed</th>\n",
              "    </tr>\n",
              "    <tr>\n",
              "      <th class=\"index_name level0\" >region</th>\n",
              "      <th class=\"index_name level1\" >Population</th>\n",
              "      <th class=\"blank col0\" >&nbsp;</th>\n",
              "    </tr>\n",
              "  </thead>\n",
              "  <tbody>\n",
              "    <tr>\n",
              "      <th id=\"T_e132f_level0_row0\" class=\"row_heading level0 row0\" >Dublin</th>\n",
              "      <th id=\"T_e132f_level1_row0\" class=\"row_heading level1 row0\" >1347359</th>\n",
              "      <td id=\"T_e132f_row0_col0\" class=\"data row0 col0\" >391210.000000</td>\n",
              "    </tr>\n",
              "    <tr>\n",
              "      <th id=\"T_e132f_level0_row1\" class=\"row_heading level0 row1\" >Cork</th>\n",
              "      <th id=\"T_e132f_level1_row1\" class=\"row_heading level1 row1\" >542868</th>\n",
              "      <td id=\"T_e132f_row1_col0\" class=\"data row1 col0\" >127331.000000</td>\n",
              "    </tr>\n",
              "    <tr>\n",
              "      <th id=\"T_e132f_level0_row2\" class=\"row_heading level0 row2\" >Galway</th>\n",
              "      <th id=\"T_e132f_level1_row2\" class=\"row_heading level1 row2\" >258058</th>\n",
              "      <td id=\"T_e132f_row2_col0\" class=\"data row2 col0\" >68074.000000</td>\n",
              "    </tr>\n",
              "    <tr>\n",
              "      <th id=\"T_e132f_level0_row3\" class=\"row_heading level0 row3\" >Kildare</th>\n",
              "      <th id=\"T_e132f_level1_row3\" class=\"row_heading level1 row3\" >222504</th>\n",
              "      <td id=\"T_e132f_row3_col0\" class=\"data row3 col0\" >63349.000000</td>\n",
              "    </tr>\n",
              "    <tr>\n",
              "      <th id=\"T_e132f_level0_row4\" class=\"row_heading level0 row4\" >Limerick</th>\n",
              "      <th id=\"T_e132f_level1_row4\" class=\"row_heading level1 row4\" >194899</th>\n",
              "      <td id=\"T_e132f_row4_col0\" class=\"data row4 col0\" >53585.000000</td>\n",
              "    </tr>\n",
              "    <tr>\n",
              "      <th id=\"T_e132f_level0_row5\" class=\"row_heading level0 row5\" >Meath</th>\n",
              "      <th id=\"T_e132f_level1_row5\" class=\"row_heading level1 row5\" >195044</th>\n",
              "      <td id=\"T_e132f_row5_col0\" class=\"data row5 col0\" >53430.000000</td>\n",
              "    </tr>\n",
              "    <tr>\n",
              "      <th id=\"T_e132f_level0_row6\" class=\"row_heading level0 row6\" >Donegal</th>\n",
              "      <th id=\"T_e132f_level1_row6\" class=\"row_heading level1 row6\" >159192</th>\n",
              "      <td id=\"T_e132f_row6_col0\" class=\"data row6 col0\" >48567.000000</td>\n",
              "    </tr>\n",
              "    <tr>\n",
              "      <th id=\"T_e132f_level0_row7\" class=\"row_heading level0 row7\" >Louth</th>\n",
              "      <th id=\"T_e132f_level1_row7\" class=\"row_heading level1 row7\" >128884</th>\n",
              "      <td id=\"T_e132f_row7_col0\" class=\"data row7 col0\" >43208.000000</td>\n",
              "    </tr>\n",
              "    <tr>\n",
              "      <th id=\"T_e132f_level0_row8\" class=\"row_heading level0 row8\" >Tipperary</th>\n",
              "      <th id=\"T_e132f_level1_row8\" class=\"row_heading level1 row8\" >159553</th>\n",
              "      <td id=\"T_e132f_row8_col0\" class=\"data row8 col0\" >38311.000000</td>\n",
              "    </tr>\n",
              "    <tr>\n",
              "      <th id=\"T_e132f_level0_row9\" class=\"row_heading level0 row9\" >Wexford</th>\n",
              "      <th id=\"T_e132f_level1_row9\" class=\"row_heading level1 row9\" >149722</th>\n",
              "      <td id=\"T_e132f_row9_col0\" class=\"data row9 col0\" >33835.000000</td>\n",
              "    </tr>\n",
              "    <tr>\n",
              "      <th id=\"T_e132f_level0_row10\" class=\"row_heading level0 row10\" >Clare</th>\n",
              "      <th id=\"T_e132f_level1_row10\" class=\"row_heading level1 row10\" >118817</th>\n",
              "      <td id=\"T_e132f_row10_col0\" class=\"data row10 col0\" >33052.000000</td>\n",
              "    </tr>\n",
              "    <tr>\n",
              "      <th id=\"T_e132f_level0_row11\" class=\"row_heading level0 row11\" >Mayo</th>\n",
              "      <th id=\"T_e132f_level1_row11\" class=\"row_heading level1 row11\" >130507</th>\n",
              "      <td id=\"T_e132f_row11_col0\" class=\"data row11 col0\" >31395.000000</td>\n",
              "    </tr>\n",
              "    <tr>\n",
              "      <th id=\"T_e132f_level0_row12\" class=\"row_heading level0 row12\" >Wicklow</th>\n",
              "      <th id=\"T_e132f_level1_row12\" class=\"row_heading level1 row12\" >142425</th>\n",
              "      <td id=\"T_e132f_row12_col0\" class=\"data row12 col0\" >31193.000000</td>\n",
              "    </tr>\n",
              "    <tr>\n",
              "      <th id=\"T_e132f_level0_row13\" class=\"row_heading level0 row13\" >Waterford</th>\n",
              "      <th id=\"T_e132f_level1_row13\" class=\"row_heading level1 row13\" >116176</th>\n",
              "      <td id=\"T_e132f_row13_col0\" class=\"data row13 col0\" >30778.000000</td>\n",
              "    </tr>\n",
              "    <tr>\n",
              "      <th id=\"T_e132f_level0_row14\" class=\"row_heading level0 row14\" >Kerry</th>\n",
              "      <th id=\"T_e132f_level1_row14\" class=\"row_heading level1 row14\" >147707</th>\n",
              "      <td id=\"T_e132f_row14_col0\" class=\"data row14 col0\" >30594.000000</td>\n",
              "    </tr>\n",
              "    <tr>\n",
              "      <th id=\"T_e132f_level0_row15\" class=\"row_heading level0 row15\" >Westmeath</th>\n",
              "      <th id=\"T_e132f_level1_row15\" class=\"row_heading level1 row15\" >88770</th>\n",
              "      <td id=\"T_e132f_row15_col0\" class=\"data row15 col0\" >28260.000000</td>\n",
              "    </tr>\n",
              "    <tr>\n",
              "      <th id=\"T_e132f_level0_row16\" class=\"row_heading level0 row16\" >Kilkenny</th>\n",
              "      <th id=\"T_e132f_level1_row16\" class=\"row_heading level1 row16\" >99232</th>\n",
              "      <td id=\"T_e132f_row16_col0\" class=\"data row16 col0\" >23480.000000</td>\n",
              "    </tr>\n",
              "    <tr>\n",
              "      <th id=\"T_e132f_level0_row17\" class=\"row_heading level0 row17\" >Laois</th>\n",
              "      <th id=\"T_e132f_level1_row17\" class=\"row_heading level1 row17\" >84697</th>\n",
              "      <td id=\"T_e132f_row17_col0\" class=\"data row17 col0\" >21362.000000</td>\n",
              "    </tr>\n",
              "    <tr>\n",
              "      <th id=\"T_e132f_level0_row18\" class=\"row_heading level0 row18\" >Cavan</th>\n",
              "      <th id=\"T_e132f_level1_row18\" class=\"row_heading level1 row18\" >76176</th>\n",
              "      <td id=\"T_e132f_row18_col0\" class=\"data row18 col0\" >21076.000000</td>\n",
              "    </tr>\n",
              "    <tr>\n",
              "      <th id=\"T_e132f_level0_row19\" class=\"row_heading level0 row19\" >Offaly</th>\n",
              "      <th id=\"T_e132f_level1_row19\" class=\"row_heading level1 row19\" >77961</th>\n",
              "      <td id=\"T_e132f_row19_col0\" class=\"data row19 col0\" >19638.000000</td>\n",
              "    </tr>\n",
              "    <tr>\n",
              "      <th id=\"T_e132f_level0_row20\" class=\"row_heading level0 row20\" >Monaghan</th>\n",
              "      <th id=\"T_e132f_level1_row20\" class=\"row_heading level1 row20\" >61386</th>\n",
              "      <td id=\"T_e132f_row20_col0\" class=\"data row20 col0\" >19233.000000</td>\n",
              "    </tr>\n",
              "    <tr>\n",
              "      <th id=\"T_e132f_level0_row21\" class=\"row_heading level0 row21\" >Carlow</th>\n",
              "      <th id=\"T_e132f_level1_row21\" class=\"row_heading level1 row21\" >56932</th>\n",
              "      <td id=\"T_e132f_row21_col0\" class=\"data row21 col0\" >18186.000000</td>\n",
              "    </tr>\n",
              "    <tr>\n",
              "      <th id=\"T_e132f_level0_row22\" class=\"row_heading level0 row22\" >Roscommon</th>\n",
              "      <th id=\"T_e132f_level1_row22\" class=\"row_heading level1 row22\" >64544</th>\n",
              "      <td id=\"T_e132f_row22_col0\" class=\"data row22 col0\" >16900.000000</td>\n",
              "    </tr>\n",
              "    <tr>\n",
              "      <th id=\"T_e132f_level0_row23\" class=\"row_heading level0 row23\" >Sligo</th>\n",
              "      <th id=\"T_e132f_level1_row23\" class=\"row_heading level1 row23\" >65535</th>\n",
              "      <td id=\"T_e132f_row23_col0\" class=\"data row23 col0\" >14730.000000</td>\n",
              "    </tr>\n",
              "    <tr>\n",
              "      <th id=\"T_e132f_level0_row24\" class=\"row_heading level0 row24\" >Longford</th>\n",
              "      <th id=\"T_e132f_level1_row24\" class=\"row_heading level1 row24\" >40873</th>\n",
              "      <td id=\"T_e132f_row24_col0\" class=\"data row24 col0\" >11612.000000</td>\n",
              "    </tr>\n",
              "    <tr>\n",
              "      <th id=\"T_e132f_level0_row25\" class=\"row_heading level0 row25\" >Leitrim</th>\n",
              "      <th id=\"T_e132f_level1_row25\" class=\"row_heading level1 row25\" >32044</th>\n",
              "      <td id=\"T_e132f_row25_col0\" class=\"data row25 col0\" >7669.000000</td>\n",
              "    </tr>\n",
              "  </tbody>\n",
              "</table>\n"
            ],
            "text/plain": [
              "<pandas.io.formats.style.Styler at 0x7f5171e67dd0>"
            ]
          },
          "metadata": {},
          "execution_count": 92
        }
      ],
      "source": [
        "# Grouping by pupulation and  region and then sum the confirmed cases and change to DF\n",
        "total_cases_county = covid_county.groupby(['region', 'Population'])['Daily_Confirmed'].sum().sort_values(ascending = False).to_frame()\n",
        "total_cases_county.style.background_gradient(cmap = 'Reds')"
      ]
    },
    {
      "cell_type": "markdown",
      "id": "10f12b54",
      "metadata": {
        "id": "10f12b54"
      },
      "source": [
        "#### Situation in Captial (Dublin)"
      ]
    },
    {
      "cell_type": "markdown",
      "id": "df5b2f12",
      "metadata": {
        "id": "df5b2f12"
      },
      "source": [
        "Dublin is a captial of Ireland with the population of 1,347,359. On 3rd January, this city has expereienced the highest Confirmed cases (3,654)"
      ]
    },
    {
      "cell_type": "code",
      "execution_count": 93,
      "id": "ad15141b",
      "metadata": {
        "id": "ad15141b"
      },
      "outputs": [],
      "source": [
        "covid_Dublin = covid[covid['region'] == 'Dublin']\n",
        "covid_Dublin = covid_Dublin.drop(columns= ['region', 'Confirmed', 'Population','Incident_Rate'] )"
      ]
    },
    {
      "cell_type": "code",
      "execution_count": 130,
      "id": "2887a4fe",
      "metadata": {
        "id": "2887a4fe"
      },
      "outputs": [],
      "source": [
        "#covid_Dublin.style.background_gradient(cmap = 'Reds')"
      ]
    },
    {
      "cell_type": "code",
      "execution_count": 95,
      "id": "b8215d5d",
      "metadata": {
        "colab": {
          "base_uri": "https://localhost:8080/",
          "height": 542
        },
        "id": "b8215d5d",
        "outputId": "470bdb61-4944-4088-e883-7033520bdefa"
      },
      "outputs": [
        {
          "output_type": "display_data",
          "data": {
            "text/html": [
              "<html>\n",
              "<head><meta charset=\"utf-8\" /></head>\n",
              "<body>\n",
              "    <div>            <script src=\"https://cdnjs.cloudflare.com/ajax/libs/mathjax/2.7.5/MathJax.js?config=TeX-AMS-MML_SVG\"></script><script type=\"text/javascript\">if (window.MathJax) {MathJax.Hub.Config({SVG: {font: \"STIX-Web\"}});}</script>                <script type=\"text/javascript\">window.PlotlyConfig = {MathJaxConfig: 'local'};</script>\n",
              "        <script src=\"https://cdn.plot.ly/plotly-2.8.3.min.js\"></script>                <div id=\"b2c711da-4b01-4787-af5f-7a9e98fe2691\" class=\"plotly-graph-div\" style=\"height:525px; width:100%;\"></div>            <script type=\"text/javascript\">                                    window.PLOTLYENV=window.PLOTLYENV || {};                                    if (document.getElementById(\"b2c711da-4b01-4787-af5f-7a9e98fe2691\")) {                    Plotly.newPlot(                        \"b2c711da-4b01-4787-af5f-7a9e98fe2691\",                        [{\"mode\":\"lines+markers\",\"name\":\"Total Positve Cases\",\"x\":[\"2020-02-27\",\"2020-03-01\",\"2020-03-02\",\"2020-03-03\",\"2020-03-04\",\"2020-03-05\",\"2020-03-06\",\"2020-03-07\",\"2020-03-08\",\"2020-03-09\",\"2020-03-10\",\"2020-03-11\",\"2020-03-12\",\"2020-03-13\",\"2020-03-14\",\"2020-03-15\",\"2020-03-16\",\"2020-03-17\",\"2020-03-18\",\"2020-03-19\",\"2020-03-20\",\"2020-03-21\",\"2020-03-22\",\"2020-03-23\",\"2020-03-24\",\"2020-03-25\",\"2020-03-26\",\"2020-03-27\",\"2020-03-28\",\"2020-03-29\",\"2020-03-30\",\"2020-03-31\",\"2020-04-01\",\"2020-04-02\",\"2020-04-03\",\"2020-04-04\",\"2020-04-05\",\"2020-04-06\",\"2020-04-07\",\"2020-04-08\",\"2020-04-09\",\"2020-04-10\",\"2020-04-11\",\"2020-04-12\",\"2020-04-13\",\"2020-04-14\",\"2020-04-15\",\"2020-04-16\",\"2020-04-17\",\"2020-04-18\",\"2020-04-19\",\"2020-04-20\",\"2020-04-21\",\"2020-04-22\",\"2020-04-23\",\"2020-04-24\",\"2020-04-25\",\"2020-04-26\",\"2020-04-27\",\"2020-04-28\",\"2020-04-29\",\"2020-04-30\",\"2020-05-01\",\"2020-05-02\",\"2020-05-03\",\"2020-05-04\",\"2020-05-05\",\"2020-05-06\",\"2020-05-07\",\"2020-05-08\",\"2020-05-09\",\"2020-05-10\",\"2020-05-11\",\"2020-05-12\",\"2020-05-13\",\"2020-05-14\",\"2020-05-15\",\"2020-05-16\",\"2020-05-17\",\"2020-05-18\",\"2020-05-19\",\"2020-05-20\",\"2020-05-21\",\"2020-05-22\",\"2020-05-23\",\"2020-05-24\",\"2020-05-25\",\"2020-05-26\",\"2020-05-27\",\"2020-05-28\",\"2020-05-29\",\"2020-05-30\",\"2020-05-31\",\"2020-06-01\",\"2020-06-02\",\"2020-06-03\",\"2020-06-04\",\"2020-06-05\",\"2020-06-06\",\"2020-06-07\",\"2020-06-08\",\"2020-06-09\",\"2020-06-10\",\"2020-06-11\",\"2020-06-12\",\"2020-06-13\",\"2020-06-14\",\"2020-06-15\",\"2020-06-16\",\"2020-06-17\",\"2020-06-18\",\"2020-06-19\",\"2020-06-20\",\"2020-06-21\",\"2020-06-22\",\"2020-06-23\",\"2020-06-24\",\"2020-06-25\",\"2020-06-26\",\"2020-06-27\",\"2020-06-28\",\"2020-06-29\",\"2020-06-30\",\"2020-07-01\",\"2020-07-02\",\"2020-07-03\",\"2020-07-04\",\"2020-07-05\",\"2020-07-06\",\"2020-07-07\",\"2020-07-08\",\"2020-07-09\",\"2020-07-10\",\"2020-07-11\",\"2020-07-12\",\"2020-07-13\",\"2020-07-14\",\"2020-07-15\",\"2020-07-16\",\"2020-07-17\",\"2020-07-18\",\"2020-07-19\",\"2020-07-20\",\"2020-07-21\",\"2020-07-22\",\"2020-07-23\",\"2020-07-24\",\"2020-07-25\",\"2020-07-26\",\"2020-07-27\",\"2020-07-28\",\"2020-07-29\",\"2020-07-30\",\"2020-07-31\",\"2020-08-01\",\"2020-08-02\",\"2020-08-03\",\"2020-08-04\",\"2020-08-05\",\"2020-08-06\",\"2020-08-07\",\"2020-08-08\",\"2020-08-09\",\"2020-08-10\",\"2020-08-11\",\"2020-08-12\",\"2020-08-13\",\"2020-08-14\",\"2020-08-15\",\"2020-08-16\",\"2020-08-17\",\"2020-08-18\",\"2020-08-19\",\"2020-08-20\",\"2020-08-21\",\"2020-08-22\",\"2020-08-23\",\"2020-08-24\",\"2020-08-25\",\"2020-08-26\",\"2020-08-27\",\"2020-08-28\",\"2020-08-29\",\"2020-08-30\",\"2020-08-31\",\"2020-09-01\",\"2020-09-02\",\"2020-09-03\",\"2020-09-04\",\"2020-09-05\",\"2020-09-06\",\"2020-09-07\",\"2020-09-08\",\"2020-09-09\",\"2020-09-10\",\"2020-09-11\",\"2020-09-12\",\"2020-09-13\",\"2020-09-14\",\"2020-09-15\",\"2020-09-16\",\"2020-09-17\",\"2020-09-18\",\"2020-09-19\",\"2020-09-20\",\"2020-09-21\",\"2020-09-22\",\"2020-09-23\",\"2020-09-24\",\"2020-09-25\",\"2020-09-26\",\"2020-09-27\",\"2020-09-28\",\"2020-09-29\",\"2020-09-30\",\"2020-10-01\",\"2020-10-02\",\"2020-10-03\",\"2020-10-04\",\"2020-10-05\",\"2020-10-06\",\"2020-10-07\",\"2020-10-08\",\"2020-10-09\",\"2020-10-10\",\"2020-10-11\",\"2020-10-12\",\"2020-10-13\",\"2020-10-14\",\"2020-10-15\",\"2020-10-16\",\"2020-10-17\",\"2020-10-18\",\"2020-10-19\",\"2020-10-20\",\"2020-10-21\",\"2020-10-22\",\"2020-10-23\",\"2020-10-24\",\"2020-10-25\",\"2020-10-26\",\"2020-10-27\",\"2020-10-28\",\"2020-10-29\",\"2020-10-30\",\"2020-10-31\",\"2020-11-01\",\"2020-11-02\",\"2020-11-03\",\"2020-11-04\",\"2020-11-05\",\"2020-11-06\",\"2020-11-07\",\"2020-11-08\",\"2020-11-09\",\"2020-11-10\",\"2020-11-11\",\"2020-11-12\",\"2020-11-13\",\"2020-11-14\",\"2020-11-15\",\"2020-11-16\",\"2020-11-17\",\"2020-11-18\",\"2020-11-19\",\"2020-11-20\",\"2020-11-21\",\"2020-11-22\",\"2020-11-23\",\"2020-11-24\",\"2020-11-25\",\"2020-11-26\",\"2020-11-27\",\"2020-11-28\",\"2020-11-29\",\"2020-11-30\",\"2020-12-01\",\"2020-12-02\",\"2020-12-03\",\"2020-12-04\",\"2020-12-05\",\"2020-12-06\",\"2020-12-07\",\"2020-12-08\",\"2020-12-09\",\"2020-12-10\",\"2020-12-11\",\"2020-12-12\",\"2020-12-13\",\"2020-12-14\",\"2020-12-15\",\"2020-12-16\",\"2020-12-17\",\"2020-12-18\",\"2020-12-19\",\"2020-12-20\",\"2020-12-21\",\"2020-12-22\",\"2020-12-23\",\"2020-12-24\",\"2020-12-25\",\"2020-12-26\",\"2020-12-27\",\"2020-12-28\",\"2020-12-29\",\"2020-12-30\",\"2020-12-31\",\"2021-01-01\",\"2021-01-02\",\"2021-01-03\",\"2021-01-04\",\"2021-01-05\",\"2021-01-06\",\"2021-01-07\",\"2021-01-08\",\"2021-01-09\",\"2021-01-10\",\"2021-01-11\",\"2021-01-12\",\"2021-01-13\",\"2021-01-14\",\"2021-01-15\",\"2021-01-16\",\"2021-01-17\",\"2021-01-18\",\"2021-01-19\",\"2021-01-20\",\"2021-01-21\",\"2021-01-22\",\"2021-01-23\",\"2021-01-24\",\"2021-01-25\",\"2021-01-26\",\"2021-01-27\",\"2021-01-28\",\"2021-01-29\",\"2021-01-30\",\"2021-01-31\",\"2021-02-01\",\"2021-02-02\",\"2021-02-03\",\"2021-02-04\",\"2021-02-05\",\"2021-02-06\",\"2021-02-07\",\"2021-02-08\",\"2021-02-09\",\"2021-02-10\",\"2021-02-11\",\"2021-02-12\",\"2021-02-13\",\"2021-02-14\",\"2021-02-15\",\"2021-02-16\",\"2021-02-17\",\"2021-02-18\",\"2021-02-19\",\"2021-02-20\",\"2021-02-21\",\"2021-02-22\",\"2021-02-23\",\"2021-02-24\",\"2021-02-25\",\"2021-02-26\",\"2021-02-27\",\"2021-02-28\",\"2021-03-01\",\"2021-03-02\",\"2021-03-03\",\"2021-03-04\",\"2021-03-05\",\"2021-03-06\",\"2021-03-07\",\"2021-03-08\",\"2021-03-09\",\"2021-03-10\",\"2021-03-11\",\"2021-03-12\",\"2021-03-13\",\"2021-03-14\",\"2021-03-15\",\"2021-03-16\",\"2021-03-17\",\"2021-03-18\",\"2021-03-19\",\"2021-03-20\",\"2021-03-21\",\"2021-03-22\",\"2021-03-23\",\"2021-03-24\",\"2021-03-25\",\"2021-03-26\",\"2021-03-27\",\"2021-03-28\",\"2021-03-29\",\"2021-03-30\",\"2021-03-31\",\"2021-04-01\",\"2021-04-02\",\"2021-04-03\",\"2021-04-04\",\"2021-04-05\",\"2021-04-06\",\"2021-04-07\",\"2021-04-08\",\"2021-04-09\",\"2021-04-10\",\"2021-04-11\",\"2021-04-12\",\"2021-04-13\",\"2021-04-14\",\"2021-04-15\",\"2021-04-16\",\"2021-04-17\",\"2021-04-18\",\"2021-04-19\",\"2021-04-20\",\"2021-04-21\",\"2021-04-22\",\"2021-04-23\",\"2021-04-24\",\"2021-04-25\",\"2021-04-26\",\"2021-04-27\",\"2021-04-28\",\"2021-04-29\",\"2021-04-30\",\"2021-05-01\",\"2021-05-02\",\"2021-05-03\",\"2021-05-04\",\"2021-05-05\",\"2021-05-06\",\"2021-05-07\",\"2021-05-08\",\"2021-05-09\",\"2021-05-10\",\"2021-05-11\",\"2021-05-12\",\"2021-05-13\",\"2021-05-14\",\"2021-05-15\",\"2021-05-16\",\"2021-05-17\",\"2021-05-18\",\"2021-05-19\",\"2021-05-20\",\"2021-05-21\",\"2021-05-22\",\"2021-05-23\",\"2021-05-24\",\"2021-05-25\",\"2021-05-26\",\"2021-05-27\",\"2021-05-28\",\"2021-05-29\",\"2021-05-30\",\"2021-05-31\",\"2021-06-01\",\"2021-06-02\",\"2021-06-03\",\"2021-06-04\",\"2021-06-05\",\"2021-06-06\",\"2021-06-07\",\"2021-06-08\",\"2021-06-09\",\"2021-06-10\",\"2021-06-11\",\"2021-06-12\",\"2021-06-13\",\"2021-06-14\",\"2021-06-15\",\"2021-06-16\",\"2021-06-17\",\"2021-06-18\",\"2021-06-19\",\"2021-06-20\",\"2021-06-21\",\"2021-06-22\",\"2021-06-23\",\"2021-06-24\",\"2021-06-25\",\"2021-06-26\",\"2021-06-27\",\"2021-06-28\",\"2021-06-29\",\"2021-06-30\",\"2021-07-01\",\"2021-07-02\",\"2021-07-03\",\"2021-07-04\",\"2021-07-05\",\"2021-07-06\",\"2021-07-07\",\"2021-07-08\",\"2021-07-09\",\"2021-07-10\",\"2021-07-11\",\"2021-07-12\",\"2021-07-13\",\"2021-07-14\",\"2021-07-15\",\"2021-07-16\",\"2021-07-17\",\"2021-07-18\",\"2021-07-19\",\"2021-07-20\",\"2021-07-21\",\"2021-07-22\",\"2021-07-23\",\"2021-07-24\",\"2021-07-25\",\"2021-07-26\",\"2021-07-27\",\"2021-07-28\",\"2021-07-29\",\"2021-07-30\",\"2021-07-31\",\"2021-08-01\",\"2021-08-02\",\"2021-08-03\",\"2021-08-04\",\"2021-08-05\",\"2021-08-06\",\"2021-08-07\",\"2021-08-08\",\"2021-08-09\",\"2021-08-10\",\"2021-08-11\",\"2021-08-12\",\"2021-08-13\",\"2021-08-14\",\"2021-08-15\",\"2021-08-16\",\"2021-08-17\",\"2021-08-18\",\"2021-08-19\",\"2021-08-20\",\"2021-08-21\",\"2021-08-22\",\"2021-08-23\",\"2021-08-24\",\"2021-08-25\",\"2021-08-26\",\"2021-08-27\",\"2021-08-28\",\"2021-08-29\",\"2021-08-30\",\"2021-08-31\",\"2021-09-01\",\"2021-09-02\",\"2021-09-03\",\"2021-09-04\",\"2021-09-05\",\"2021-09-06\",\"2021-09-07\",\"2021-09-08\",\"2021-09-09\",\"2021-09-10\",\"2021-09-11\",\"2021-09-12\",\"2021-09-13\",\"2021-09-14\",\"2021-09-15\",\"2021-09-16\",\"2021-09-17\",\"2021-09-18\",\"2021-09-19\",\"2021-09-20\",\"2021-09-21\",\"2021-09-22\",\"2021-09-23\",\"2021-09-24\",\"2021-09-25\",\"2021-09-26\",\"2021-09-27\",\"2021-09-28\",\"2021-09-29\",\"2021-09-30\",\"2021-10-01\",\"2021-10-02\",\"2021-10-03\",\"2021-10-04\",\"2021-10-05\",\"2021-10-06\",\"2021-10-07\",\"2021-10-08\",\"2021-10-09\",\"2021-10-10\",\"2021-10-11\",\"2021-10-12\",\"2021-10-13\",\"2021-10-14\",\"2021-10-15\",\"2021-10-16\",\"2021-10-17\",\"2021-10-18\",\"2021-10-19\",\"2021-10-20\",\"2021-10-21\",\"2021-10-22\",\"2021-10-23\",\"2021-10-24\",\"2021-10-25\",\"2021-10-26\",\"2021-10-27\",\"2021-10-28\",\"2021-10-29\",\"2021-10-30\",\"2021-10-31\",\"2021-11-01\",\"2021-11-02\",\"2021-11-03\",\"2021-11-04\",\"2021-11-05\",\"2021-11-06\",\"2021-11-07\",\"2021-11-08\",\"2021-11-09\",\"2021-11-10\",\"2021-11-11\",\"2021-11-12\",\"2021-11-13\",\"2021-11-14\",\"2021-11-15\",\"2021-11-16\",\"2021-11-17\",\"2021-11-18\",\"2021-11-19\",\"2021-11-20\",\"2021-11-21\",\"2021-11-22\",\"2021-11-23\",\"2021-11-24\",\"2021-11-25\",\"2021-11-26\",\"2021-11-27\",\"2021-11-28\",\"2021-11-29\",\"2021-11-30\",\"2021-12-01\",\"2021-12-02\",\"2021-12-03\",\"2021-12-04\",\"2021-12-05\",\"2021-12-06\",\"2021-12-07\",\"2021-12-08\",\"2021-12-09\",\"2021-12-10\",\"2021-12-11\",\"2021-12-12\",\"2021-12-13\",\"2021-12-14\",\"2021-12-15\",\"2021-12-16\",\"2021-12-17\",\"2021-12-18\",\"2021-12-19\",\"2021-12-20\",\"2021-12-21\",\"2021-12-22\",\"2021-12-23\",\"2021-12-24\",\"2021-12-25\",\"2021-12-26\",\"2021-12-27\",\"2021-12-28\",\"2021-12-29\",\"2021-12-30\",\"2021-12-31\",\"2022-01-01\",\"2022-01-02\",\"2022-01-03\",\"2022-01-04\",\"2022-01-05\",\"2022-01-06\",\"2022-01-07\",\"2022-01-08\",\"2022-01-09\",\"2022-01-10\",\"2022-01-11\",\"2022-01-12\",\"2022-01-13\",\"2022-01-14\",\"2022-01-15\",\"2022-01-16\",\"2022-01-17\",\"2022-01-18\",\"2022-01-19\",\"2022-01-20\",\"2022-01-21\",\"2022-01-22\",\"2022-01-23\",\"2022-01-24\",\"2022-01-25\",\"2022-01-26\",\"2022-01-27\",\"2022-01-28\",\"2022-01-29\",\"2022-01-30\",\"2022-01-31\",\"2022-02-01\",\"2022-02-02\",\"2022-02-03\",\"2022-02-04\",\"2022-02-05\",\"2022-02-06\",\"2022-02-07\",\"2022-02-08\",\"2022-02-09\",\"2022-02-10\",\"2022-02-11\",\"2022-02-12\",\"2022-02-13\",\"2022-02-14\",\"2022-02-15\",\"2022-02-16\",\"2022-02-17\",\"2022-02-18\",\"2022-02-19\",\"2022-02-20\",\"2022-02-21\"],\"y\":[null,0.0,1.0,0.0,0.0,0.0,1.0,0.0,1.0,1.0,2.0,4.0,21.0,8.0,14.0,14.0,59.0,42.0,50.0,90.0,82.0,67.0,62.0,122.0,114.0,143.0,145.0,155.0,155.0,87.0,153.0,190.0,235.0,172.0,235.0,195.0,369.0,200.0,283.0,306.0,277.0,345.0,480.0,425.0,405.0,476.0,226.0,361.0,435.0,277.0,104.0,129.0,273.0,486.0,260.0,195.0,311.0,170.0,148.0,199.0,199.0,136.0,145.0,156.0,83.0,63.0,112.0,54.0,58.0,105.0,141.0,50.0,32.0,72.0,242.0,82.0,37.0,26.0,57.0,8.0,42.0,24.0,34.0,41.0,16.0,20.0,70.0,33.0,22.0,12.0,15.0,11.0,39.0,5.0,16.0,8.0,11.0,14.0,16.0,2.0,4.0,4.0,6.0,8.0,30.0,5.0,15.0,7.0,4.0,9.0,9.0,7.0,3.0,1.0,5.0,1.0,8.0,8.0,12.0,0.0,5.0,5.0,2.0,6.0,1.0,5.0,8.0,1.0,12.0,3.0,10.0,12.0,7.0,14.0,4.0,15.0,10.0,13.0,26.0,11.0,6.0,5.0,21.0,11.0,2.0,15.0,11.0,9.0,5.0,16.0,7.0,18.0,16.0,4.0,20.0,2.0,7.0,4.0,5.0,5.0,25.0,16.0,9.0,1.0,12.0,22.0,18.0,55.0,15.0,12.0,44.0,19.0,51.0,41.0,51.0,39.0,78.0,17.0,92.0,34.0,51.0,60.0,23.0,26.0,100.0,55.0,50.0,24.0,129.0,68.0,54.0,182.0,49.0,108.0,121.0,75.0,154.0,106.0,211.0,133.0,120.0,111.0,159.0,238.0,74.0,169.0,97.0,164.0,150.0,103.0,212.0,201.0,152.0,178.0,167.0,189.0,219.0,101.0,130.0,109.0,213.0,89.0,122.0,239.0,217.0,248.0,188.0,235.0,281.0,251.0,275.0,396.0,229.0,198.0,257.0,236.0,181.0,188.0,252.0,260.0,223.0,194.0,233.0,225.0,79.0,161.0,306.0,92.0,156.0,114.0,171.0,71.0,168.0,99.0,75.0,87.0,130.0,124.0,150.0,117.0,102.0,84.0,115.0,166.0,100.0,125.0,114.0,87.0,65.0,77.0,117.0,62.0,87.0,93.0,107.0,72.0,57.0,57.0,82.0,192.0,119.0,72.0,68.0,67.0,78.0,70.0,97.0,116.0,77.0,80.0,132.0,148.0,192.0,192.0,280.0,311.0,349.0,299.0,336.0,359.0,343.0,247.0,292.0,444.0,360.0,496.0,523.0,354.0,1251.0,3647.0,1930.0,2261.0,2176.0,3000.0,1047.0,2045.0,1488.0,571.0,1116.0,1206.0,1179.0,924.0,1063.0,750.0,685.0,719.0,1015.0,752.0,709.0,376.0,485.0,255.0,435.0,469.0,438.0,558.0,423.0,335.0,382.0,336.0,427.0,289.0,297.0,378.0,382.0,162.0,516.0,280.0,414.0,428.0,310.0,333.0,299.0,189.0,437.0,252.0,376.0,228.0,277.0,218.0,173.0,223.0,277.0,310.0,288.0,238.0,159.0,232.0,206.0,279.0,244.0,213.0,183.0,135.0,249.0,252.0,243.0,234.0,145.0,230.0,157.0,228.0,260.0,215.0,264.0,283.0,242.0,152.0,301.0,247.0,212.0,302.0,220.0,250.0,125.0,144.0,364.0,280.0,243.0,173.0,152.0,207.0,193.0,162.0,227.0,197.0,137.0,175.0,163.0,159.0,106.0,147.0,157.0,111.0,172.0,171.0,178.0,233.0,213.0,203.0,168.0,160.0,153.0,127.0,167.0,263.0,162.0,173.0,212.0,130.0,165.0,171.0,193.0,203.0,253.0,180.0,166.0,228.0,197.0,242.0,217.0,109.0,109.0,131.0,189.0,154.0,203.0,143.0,169.0,121.0,113.0,160.0,120.0,155.0,155.0,130.0,114.0,113.0,124.0,168.0,164.0,148.0,93.0,86.0,74.0,80.0,89.0,77.0,98.0,86.0,80.0,83.0,114.0,107.0,125.0,119.0,94.0,75.0,105.0,131.0,99.0,117.0,156.0,121.0,121.0,157.0,168.0,180.0,211.0,205.0,165.0,138.0,146.0,214.0,186.0,219.0,225.0,167.0,163.0,143.0,295.0,327.0,440.0,443.0,426.0,303.0,380.0,289.0,412.0,414.0,454.0,328.0,360.0,276.0,495.0,438.0,508.0,477.0,415.0,338.0,299.0,221.0,381.0,884.0,559.0,533.0,395.0,175.0,301.0,821.0,583.0,500.0,562.0,188.0,287.0,609.0,522.0,475.0,870.0,461.0,192.0,365.0,305.0,536.0,405.0,625.0,468.0,179.0,316.0,478.0,548.0,478.0,481.0,316.0,258.0,626.0,555.0,476.0,437.0,191.0,467.0,419.0,393.0,377.0,435.0,378.0,437.0,404.0,336.0,557.0,539.0,441.0,371.0,430.0,482.0,332.0,507.0,460.0,365.0,343.0,440.0,259.0,160.0,345.0,283.0,342.0,549.0,627.0,321.0,308.0,401.0,580.0,515.0,445.0,571.0,367.0,336.0,659.0,583.0,632.0,527.0,615.0,424.0,539.0,455.0,465.0,883.0,712.0,598.0,314.0,931.0,972.0,248.0,1460.0,1368.0,1234.0,777.0,1146.0,1157.0,844.0,926.0,1452.0,1270.0,1219.0,1384.0,1376.0,1212.0,1223.0,1090.0,1709.0,1241.0,1752.0,1436.0,1255.0,1447.0,1322.0,1858.0,1156.0,1299.0,2013.0,972.0,1347.0,1181.0,1743.0,1631.0,1107.0,1778.0,1470.0,1460.0,1401.0,1547.0,1294.0,1568.0,1487.0,1768.0,1469.0,1148.0,2838.0,2015.0,1536.0,2013.0,2467.0,1811.0,3210.0,2815.0,1036.0,379.0,2063.0,3782.0,4041.0,3160.0,4141.0,1741.0,2394.0,2820.0,4505.0,3747.0,6119.0,5507.0,3035.0,1628.0,2992.0,4584.0,3590.0,1487.0,4644.0,2902.0,2573.0,2857.0,5145.0,4713.0,4303.0,3612.0,3172.0,3382.0,5426.0,5593.0,6202.0,4045.0,5319.0,4364.0,1051.0,2275.0,1693.0,748.0,1587.0,2562.0,796.0,1460.0,1677.0,814.0,1651.0,2273.0,1678.0,775.0,1393.0,1291.0,1412.0,1302.0,1282.0,1336.0,770.0,1115.0,872.0],\"type\":\"scatter\"}],                        {\"template\":{\"data\":{\"bar\":[{\"error_x\":{\"color\":\"#2a3f5f\"},\"error_y\":{\"color\":\"#2a3f5f\"},\"marker\":{\"line\":{\"color\":\"#E5ECF6\",\"width\":0.5},\"pattern\":{\"fillmode\":\"overlay\",\"size\":10,\"solidity\":0.2}},\"type\":\"bar\"}],\"barpolar\":[{\"marker\":{\"line\":{\"color\":\"#E5ECF6\",\"width\":0.5},\"pattern\":{\"fillmode\":\"overlay\",\"size\":10,\"solidity\":0.2}},\"type\":\"barpolar\"}],\"carpet\":[{\"aaxis\":{\"endlinecolor\":\"#2a3f5f\",\"gridcolor\":\"white\",\"linecolor\":\"white\",\"minorgridcolor\":\"white\",\"startlinecolor\":\"#2a3f5f\"},\"baxis\":{\"endlinecolor\":\"#2a3f5f\",\"gridcolor\":\"white\",\"linecolor\":\"white\",\"minorgridcolor\":\"white\",\"startlinecolor\":\"#2a3f5f\"},\"type\":\"carpet\"}],\"choropleth\":[{\"colorbar\":{\"outlinewidth\":0,\"ticks\":\"\"},\"type\":\"choropleth\"}],\"contour\":[{\"colorbar\":{\"outlinewidth\":0,\"ticks\":\"\"},\"colorscale\":[[0.0,\"#0d0887\"],[0.1111111111111111,\"#46039f\"],[0.2222222222222222,\"#7201a8\"],[0.3333333333333333,\"#9c179e\"],[0.4444444444444444,\"#bd3786\"],[0.5555555555555556,\"#d8576b\"],[0.6666666666666666,\"#ed7953\"],[0.7777777777777778,\"#fb9f3a\"],[0.8888888888888888,\"#fdca26\"],[1.0,\"#f0f921\"]],\"type\":\"contour\"}],\"contourcarpet\":[{\"colorbar\":{\"outlinewidth\":0,\"ticks\":\"\"},\"type\":\"contourcarpet\"}],\"heatmap\":[{\"colorbar\":{\"outlinewidth\":0,\"ticks\":\"\"},\"colorscale\":[[0.0,\"#0d0887\"],[0.1111111111111111,\"#46039f\"],[0.2222222222222222,\"#7201a8\"],[0.3333333333333333,\"#9c179e\"],[0.4444444444444444,\"#bd3786\"],[0.5555555555555556,\"#d8576b\"],[0.6666666666666666,\"#ed7953\"],[0.7777777777777778,\"#fb9f3a\"],[0.8888888888888888,\"#fdca26\"],[1.0,\"#f0f921\"]],\"type\":\"heatmap\"}],\"heatmapgl\":[{\"colorbar\":{\"outlinewidth\":0,\"ticks\":\"\"},\"colorscale\":[[0.0,\"#0d0887\"],[0.1111111111111111,\"#46039f\"],[0.2222222222222222,\"#7201a8\"],[0.3333333333333333,\"#9c179e\"],[0.4444444444444444,\"#bd3786\"],[0.5555555555555556,\"#d8576b\"],[0.6666666666666666,\"#ed7953\"],[0.7777777777777778,\"#fb9f3a\"],[0.8888888888888888,\"#fdca26\"],[1.0,\"#f0f921\"]],\"type\":\"heatmapgl\"}],\"histogram\":[{\"marker\":{\"pattern\":{\"fillmode\":\"overlay\",\"size\":10,\"solidity\":0.2}},\"type\":\"histogram\"}],\"histogram2d\":[{\"colorbar\":{\"outlinewidth\":0,\"ticks\":\"\"},\"colorscale\":[[0.0,\"#0d0887\"],[0.1111111111111111,\"#46039f\"],[0.2222222222222222,\"#7201a8\"],[0.3333333333333333,\"#9c179e\"],[0.4444444444444444,\"#bd3786\"],[0.5555555555555556,\"#d8576b\"],[0.6666666666666666,\"#ed7953\"],[0.7777777777777778,\"#fb9f3a\"],[0.8888888888888888,\"#fdca26\"],[1.0,\"#f0f921\"]],\"type\":\"histogram2d\"}],\"histogram2dcontour\":[{\"colorbar\":{\"outlinewidth\":0,\"ticks\":\"\"},\"colorscale\":[[0.0,\"#0d0887\"],[0.1111111111111111,\"#46039f\"],[0.2222222222222222,\"#7201a8\"],[0.3333333333333333,\"#9c179e\"],[0.4444444444444444,\"#bd3786\"],[0.5555555555555556,\"#d8576b\"],[0.6666666666666666,\"#ed7953\"],[0.7777777777777778,\"#fb9f3a\"],[0.8888888888888888,\"#fdca26\"],[1.0,\"#f0f921\"]],\"type\":\"histogram2dcontour\"}],\"mesh3d\":[{\"colorbar\":{\"outlinewidth\":0,\"ticks\":\"\"},\"type\":\"mesh3d\"}],\"parcoords\":[{\"line\":{\"colorbar\":{\"outlinewidth\":0,\"ticks\":\"\"}},\"type\":\"parcoords\"}],\"pie\":[{\"automargin\":true,\"type\":\"pie\"}],\"scatter\":[{\"marker\":{\"colorbar\":{\"outlinewidth\":0,\"ticks\":\"\"}},\"type\":\"scatter\"}],\"scatter3d\":[{\"line\":{\"colorbar\":{\"outlinewidth\":0,\"ticks\":\"\"}},\"marker\":{\"colorbar\":{\"outlinewidth\":0,\"ticks\":\"\"}},\"type\":\"scatter3d\"}],\"scattercarpet\":[{\"marker\":{\"colorbar\":{\"outlinewidth\":0,\"ticks\":\"\"}},\"type\":\"scattercarpet\"}],\"scattergeo\":[{\"marker\":{\"colorbar\":{\"outlinewidth\":0,\"ticks\":\"\"}},\"type\":\"scattergeo\"}],\"scattergl\":[{\"marker\":{\"colorbar\":{\"outlinewidth\":0,\"ticks\":\"\"}},\"type\":\"scattergl\"}],\"scattermapbox\":[{\"marker\":{\"colorbar\":{\"outlinewidth\":0,\"ticks\":\"\"}},\"type\":\"scattermapbox\"}],\"scatterpolar\":[{\"marker\":{\"colorbar\":{\"outlinewidth\":0,\"ticks\":\"\"}},\"type\":\"scatterpolar\"}],\"scatterpolargl\":[{\"marker\":{\"colorbar\":{\"outlinewidth\":0,\"ticks\":\"\"}},\"type\":\"scatterpolargl\"}],\"scatterternary\":[{\"marker\":{\"colorbar\":{\"outlinewidth\":0,\"ticks\":\"\"}},\"type\":\"scatterternary\"}],\"surface\":[{\"colorbar\":{\"outlinewidth\":0,\"ticks\":\"\"},\"colorscale\":[[0.0,\"#0d0887\"],[0.1111111111111111,\"#46039f\"],[0.2222222222222222,\"#7201a8\"],[0.3333333333333333,\"#9c179e\"],[0.4444444444444444,\"#bd3786\"],[0.5555555555555556,\"#d8576b\"],[0.6666666666666666,\"#ed7953\"],[0.7777777777777778,\"#fb9f3a\"],[0.8888888888888888,\"#fdca26\"],[1.0,\"#f0f921\"]],\"type\":\"surface\"}],\"table\":[{\"cells\":{\"fill\":{\"color\":\"#EBF0F8\"},\"line\":{\"color\":\"white\"}},\"header\":{\"fill\":{\"color\":\"#C8D4E3\"},\"line\":{\"color\":\"white\"}},\"type\":\"table\"}]},\"layout\":{\"annotationdefaults\":{\"arrowcolor\":\"#2a3f5f\",\"arrowhead\":0,\"arrowwidth\":1},\"autotypenumbers\":\"strict\",\"coloraxis\":{\"colorbar\":{\"outlinewidth\":0,\"ticks\":\"\"}},\"colorscale\":{\"diverging\":[[0,\"#8e0152\"],[0.1,\"#c51b7d\"],[0.2,\"#de77ae\"],[0.3,\"#f1b6da\"],[0.4,\"#fde0ef\"],[0.5,\"#f7f7f7\"],[0.6,\"#e6f5d0\"],[0.7,\"#b8e186\"],[0.8,\"#7fbc41\"],[0.9,\"#4d9221\"],[1,\"#276419\"]],\"sequential\":[[0.0,\"#0d0887\"],[0.1111111111111111,\"#46039f\"],[0.2222222222222222,\"#7201a8\"],[0.3333333333333333,\"#9c179e\"],[0.4444444444444444,\"#bd3786\"],[0.5555555555555556,\"#d8576b\"],[0.6666666666666666,\"#ed7953\"],[0.7777777777777778,\"#fb9f3a\"],[0.8888888888888888,\"#fdca26\"],[1.0,\"#f0f921\"]],\"sequentialminus\":[[0.0,\"#0d0887\"],[0.1111111111111111,\"#46039f\"],[0.2222222222222222,\"#7201a8\"],[0.3333333333333333,\"#9c179e\"],[0.4444444444444444,\"#bd3786\"],[0.5555555555555556,\"#d8576b\"],[0.6666666666666666,\"#ed7953\"],[0.7777777777777778,\"#fb9f3a\"],[0.8888888888888888,\"#fdca26\"],[1.0,\"#f0f921\"]]},\"colorway\":[\"#636efa\",\"#EF553B\",\"#00cc96\",\"#ab63fa\",\"#FFA15A\",\"#19d3f3\",\"#FF6692\",\"#B6E880\",\"#FF97FF\",\"#FECB52\"],\"font\":{\"color\":\"#2a3f5f\"},\"geo\":{\"bgcolor\":\"white\",\"lakecolor\":\"white\",\"landcolor\":\"#E5ECF6\",\"showlakes\":true,\"showland\":true,\"subunitcolor\":\"white\"},\"hoverlabel\":{\"align\":\"left\"},\"hovermode\":\"closest\",\"mapbox\":{\"style\":\"light\"},\"paper_bgcolor\":\"white\",\"plot_bgcolor\":\"#E5ECF6\",\"polar\":{\"angularaxis\":{\"gridcolor\":\"white\",\"linecolor\":\"white\",\"ticks\":\"\"},\"bgcolor\":\"#E5ECF6\",\"radialaxis\":{\"gridcolor\":\"white\",\"linecolor\":\"white\",\"ticks\":\"\"}},\"scene\":{\"xaxis\":{\"backgroundcolor\":\"#E5ECF6\",\"gridcolor\":\"white\",\"gridwidth\":2,\"linecolor\":\"white\",\"showbackground\":true,\"ticks\":\"\",\"zerolinecolor\":\"white\"},\"yaxis\":{\"backgroundcolor\":\"#E5ECF6\",\"gridcolor\":\"white\",\"gridwidth\":2,\"linecolor\":\"white\",\"showbackground\":true,\"ticks\":\"\",\"zerolinecolor\":\"white\"},\"zaxis\":{\"backgroundcolor\":\"#E5ECF6\",\"gridcolor\":\"white\",\"gridwidth\":2,\"linecolor\":\"white\",\"showbackground\":true,\"ticks\":\"\",\"zerolinecolor\":\"white\"}},\"shapedefaults\":{\"line\":{\"color\":\"#2a3f5f\"}},\"ternary\":{\"aaxis\":{\"gridcolor\":\"white\",\"linecolor\":\"white\",\"ticks\":\"\"},\"baxis\":{\"gridcolor\":\"white\",\"linecolor\":\"white\",\"ticks\":\"\"},\"bgcolor\":\"#E5ECF6\",\"caxis\":{\"gridcolor\":\"white\",\"linecolor\":\"white\",\"ticks\":\"\"}},\"title\":{\"x\":0.05},\"xaxis\":{\"automargin\":true,\"gridcolor\":\"white\",\"linecolor\":\"white\",\"ticks\":\"\",\"title\":{\"standoff\":15},\"zerolinecolor\":\"white\",\"zerolinewidth\":2},\"yaxis\":{\"automargin\":true,\"gridcolor\":\"white\",\"linecolor\":\"white\",\"ticks\":\"\",\"title\":{\"standoff\":15},\"zerolinecolor\":\"white\",\"zerolinewidth\":2}}},\"title\":{\"text\":\" Daily Number of COVID-19 Cases in Dublin\"},\"plot_bgcolor\":\"rgb(230,230,230)\"},                        {\"responsive\": true}                    ).then(function(){\n",
              "                            \n",
              "var gd = document.getElementById('b2c711da-4b01-4787-af5f-7a9e98fe2691');\n",
              "var x = new MutationObserver(function (mutations, observer) {{\n",
              "        var display = window.getComputedStyle(gd).display;\n",
              "        if (!display || display === 'none') {{\n",
              "            console.log([gd, 'removed!']);\n",
              "            Plotly.purge(gd);\n",
              "            observer.disconnect();\n",
              "        }}\n",
              "}});\n",
              "\n",
              "// Listen for the removal of the full notebook cells\n",
              "var notebookContainer = gd.closest('#notebook-container');\n",
              "if (notebookContainer) {{\n",
              "    x.observe(notebookContainer, {childList: true});\n",
              "}}\n",
              "\n",
              "// Listen for the clearing of the current output cell\n",
              "var outputEl = gd.closest('.output');\n",
              "if (outputEl) {{\n",
              "    x.observe(outputEl, {childList: true});\n",
              "}}\n",
              "\n",
              "                        })                };                            </script>        </div>\n",
              "</body>\n",
              "</html>"
            ]
          },
          "metadata": {}
        }
      ],
      "source": [
        "fig = go.Figure()\n",
        "fig.add_trace (go.Scatter(x = covid_Dublin['date'], y= covid_Dublin['Daily_Confirmed'], mode = 'lines+markers', name = 'Total Positve Cases'))\n",
        "fig.update_layout(title_text = ' Daily Number of COVID-19 Cases in Dublin', plot_bgcolor = 'rgb(230,230,230)')\n",
        "fig.show()"
      ]
    },
    {
      "cell_type": "code",
      "execution_count": 96,
      "id": "508e3cb7",
      "metadata": {
        "id": "508e3cb7"
      },
      "outputs": [],
      "source": [
        "covid_county = covid.copy()"
      ]
    },
    {
      "cell_type": "code",
      "execution_count": 97,
      "id": "2df4f625",
      "metadata": {
        "id": "2df4f625"
      },
      "outputs": [],
      "source": [
        "covid_county = covid_county.drop (columns = ['Population', 'Lat', 'Long'])"
      ]
    },
    {
      "cell_type": "code",
      "execution_count": 98,
      "id": "108e2c67",
      "metadata": {
        "id": "108e2c67"
      },
      "outputs": [],
      "source": [
        "covid_county = covid_county.groupby(covid_county.region).sum()\n",
        "covid_county = covid_county.drop (columns= ['Confirmed', 'Incident_Rate'])\n",
        "covid_county = covid_county.sort_values(by = 'Daily_Confirmed', ascending= False)"
      ]
    },
    {
      "cell_type": "code",
      "execution_count": 129,
      "id": "d986b9ec",
      "metadata": {
        "colab": {
          "base_uri": "https://localhost:8080/",
          "height": 542
        },
        "id": "d986b9ec",
        "outputId": "2e7c3e7f-abd4-4d76-bad0-e11bd98991c3"
      },
      "outputs": [
        {
          "output_type": "display_data",
          "data": {
            "text/html": [
              "<html>\n",
              "<head><meta charset=\"utf-8\" /></head>\n",
              "<body>\n",
              "    <div>            <script src=\"https://cdnjs.cloudflare.com/ajax/libs/mathjax/2.7.5/MathJax.js?config=TeX-AMS-MML_SVG\"></script><script type=\"text/javascript\">if (window.MathJax) {MathJax.Hub.Config({SVG: {font: \"STIX-Web\"}});}</script>                <script type=\"text/javascript\">window.PlotlyConfig = {MathJaxConfig: 'local'};</script>\n",
              "        <script src=\"https://cdn.plot.ly/plotly-2.8.3.min.js\"></script>                <div id=\"40713d9a-3f96-4aae-8af0-f0439a33fa18\" class=\"plotly-graph-div\" style=\"height:525px; width:100%;\"></div>            <script type=\"text/javascript\">                                    window.PLOTLYENV=window.PLOTLYENV || {};                                    if (document.getElementById(\"40713d9a-3f96-4aae-8af0-f0439a33fa18\")) {                    Plotly.newPlot(                        \"40713d9a-3f96-4aae-8af0-f0439a33fa18\",                        [{\"alignmentgroup\":\"True\",\"hovertemplate\":\"region=%{x}<br>Daily_Confirmed=%{marker.color}<extra></extra>\",\"legendgroup\":\"\",\"marker\":{\"color\":[391210.0,127331.0,68074.0,63349.0,53585.0,53430.0,48567.0,43208.0,38311.0,33835.0,33052.0,31395.0,31193.0,30778.0,30594.0,28260.0,23480.0,21362.0,21076.0,19638.0,19233.0,18186.0,16900.0,14730.0,11612.0,7669.0],\"coloraxis\":\"coloraxis\",\"pattern\":{\"shape\":\"\"}},\"name\":\"\",\"offsetgroup\":\"\",\"orientation\":\"v\",\"showlegend\":false,\"textposition\":\"auto\",\"x\":[\"Dublin\",\"Cork\",\"Galway\",\"Kildare\",\"Limerick\",\"Meath\",\"Donegal\",\"Louth\",\"Tipperary\",\"Wexford\",\"Clare\",\"Mayo\",\"Wicklow\",\"Waterford\",\"Kerry\",\"Westmeath\",\"Kilkenny\",\"Laois\",\"Cavan\",\"Offaly\",\"Monaghan\",\"Carlow\",\"Roscommon\",\"Sligo\",\"Longford\",\"Leitrim\"],\"xaxis\":\"x\",\"y\":[391210.0,127331.0,68074.0,63349.0,53585.0,53430.0,48567.0,43208.0,38311.0,33835.0,33052.0,31395.0,31193.0,30778.0,30594.0,28260.0,23480.0,21362.0,21076.0,19638.0,19233.0,18186.0,16900.0,14730.0,11612.0,7669.0],\"yaxis\":\"y\",\"type\":\"bar\"}],                        {\"template\":{\"data\":{\"bar\":[{\"error_x\":{\"color\":\"#2a3f5f\"},\"error_y\":{\"color\":\"#2a3f5f\"},\"marker\":{\"line\":{\"color\":\"#E5ECF6\",\"width\":0.5},\"pattern\":{\"fillmode\":\"overlay\",\"size\":10,\"solidity\":0.2}},\"type\":\"bar\"}],\"barpolar\":[{\"marker\":{\"line\":{\"color\":\"#E5ECF6\",\"width\":0.5},\"pattern\":{\"fillmode\":\"overlay\",\"size\":10,\"solidity\":0.2}},\"type\":\"barpolar\"}],\"carpet\":[{\"aaxis\":{\"endlinecolor\":\"#2a3f5f\",\"gridcolor\":\"white\",\"linecolor\":\"white\",\"minorgridcolor\":\"white\",\"startlinecolor\":\"#2a3f5f\"},\"baxis\":{\"endlinecolor\":\"#2a3f5f\",\"gridcolor\":\"white\",\"linecolor\":\"white\",\"minorgridcolor\":\"white\",\"startlinecolor\":\"#2a3f5f\"},\"type\":\"carpet\"}],\"choropleth\":[{\"colorbar\":{\"outlinewidth\":0,\"ticks\":\"\"},\"type\":\"choropleth\"}],\"contour\":[{\"colorbar\":{\"outlinewidth\":0,\"ticks\":\"\"},\"colorscale\":[[0.0,\"#0d0887\"],[0.1111111111111111,\"#46039f\"],[0.2222222222222222,\"#7201a8\"],[0.3333333333333333,\"#9c179e\"],[0.4444444444444444,\"#bd3786\"],[0.5555555555555556,\"#d8576b\"],[0.6666666666666666,\"#ed7953\"],[0.7777777777777778,\"#fb9f3a\"],[0.8888888888888888,\"#fdca26\"],[1.0,\"#f0f921\"]],\"type\":\"contour\"}],\"contourcarpet\":[{\"colorbar\":{\"outlinewidth\":0,\"ticks\":\"\"},\"type\":\"contourcarpet\"}],\"heatmap\":[{\"colorbar\":{\"outlinewidth\":0,\"ticks\":\"\"},\"colorscale\":[[0.0,\"#0d0887\"],[0.1111111111111111,\"#46039f\"],[0.2222222222222222,\"#7201a8\"],[0.3333333333333333,\"#9c179e\"],[0.4444444444444444,\"#bd3786\"],[0.5555555555555556,\"#d8576b\"],[0.6666666666666666,\"#ed7953\"],[0.7777777777777778,\"#fb9f3a\"],[0.8888888888888888,\"#fdca26\"],[1.0,\"#f0f921\"]],\"type\":\"heatmap\"}],\"heatmapgl\":[{\"colorbar\":{\"outlinewidth\":0,\"ticks\":\"\"},\"colorscale\":[[0.0,\"#0d0887\"],[0.1111111111111111,\"#46039f\"],[0.2222222222222222,\"#7201a8\"],[0.3333333333333333,\"#9c179e\"],[0.4444444444444444,\"#bd3786\"],[0.5555555555555556,\"#d8576b\"],[0.6666666666666666,\"#ed7953\"],[0.7777777777777778,\"#fb9f3a\"],[0.8888888888888888,\"#fdca26\"],[1.0,\"#f0f921\"]],\"type\":\"heatmapgl\"}],\"histogram\":[{\"marker\":{\"pattern\":{\"fillmode\":\"overlay\",\"size\":10,\"solidity\":0.2}},\"type\":\"histogram\"}],\"histogram2d\":[{\"colorbar\":{\"outlinewidth\":0,\"ticks\":\"\"},\"colorscale\":[[0.0,\"#0d0887\"],[0.1111111111111111,\"#46039f\"],[0.2222222222222222,\"#7201a8\"],[0.3333333333333333,\"#9c179e\"],[0.4444444444444444,\"#bd3786\"],[0.5555555555555556,\"#d8576b\"],[0.6666666666666666,\"#ed7953\"],[0.7777777777777778,\"#fb9f3a\"],[0.8888888888888888,\"#fdca26\"],[1.0,\"#f0f921\"]],\"type\":\"histogram2d\"}],\"histogram2dcontour\":[{\"colorbar\":{\"outlinewidth\":0,\"ticks\":\"\"},\"colorscale\":[[0.0,\"#0d0887\"],[0.1111111111111111,\"#46039f\"],[0.2222222222222222,\"#7201a8\"],[0.3333333333333333,\"#9c179e\"],[0.4444444444444444,\"#bd3786\"],[0.5555555555555556,\"#d8576b\"],[0.6666666666666666,\"#ed7953\"],[0.7777777777777778,\"#fb9f3a\"],[0.8888888888888888,\"#fdca26\"],[1.0,\"#f0f921\"]],\"type\":\"histogram2dcontour\"}],\"mesh3d\":[{\"colorbar\":{\"outlinewidth\":0,\"ticks\":\"\"},\"type\":\"mesh3d\"}],\"parcoords\":[{\"line\":{\"colorbar\":{\"outlinewidth\":0,\"ticks\":\"\"}},\"type\":\"parcoords\"}],\"pie\":[{\"automargin\":true,\"type\":\"pie\"}],\"scatter\":[{\"marker\":{\"colorbar\":{\"outlinewidth\":0,\"ticks\":\"\"}},\"type\":\"scatter\"}],\"scatter3d\":[{\"line\":{\"colorbar\":{\"outlinewidth\":0,\"ticks\":\"\"}},\"marker\":{\"colorbar\":{\"outlinewidth\":0,\"ticks\":\"\"}},\"type\":\"scatter3d\"}],\"scattercarpet\":[{\"marker\":{\"colorbar\":{\"outlinewidth\":0,\"ticks\":\"\"}},\"type\":\"scattercarpet\"}],\"scattergeo\":[{\"marker\":{\"colorbar\":{\"outlinewidth\":0,\"ticks\":\"\"}},\"type\":\"scattergeo\"}],\"scattergl\":[{\"marker\":{\"colorbar\":{\"outlinewidth\":0,\"ticks\":\"\"}},\"type\":\"scattergl\"}],\"scattermapbox\":[{\"marker\":{\"colorbar\":{\"outlinewidth\":0,\"ticks\":\"\"}},\"type\":\"scattermapbox\"}],\"scatterpolar\":[{\"marker\":{\"colorbar\":{\"outlinewidth\":0,\"ticks\":\"\"}},\"type\":\"scatterpolar\"}],\"scatterpolargl\":[{\"marker\":{\"colorbar\":{\"outlinewidth\":0,\"ticks\":\"\"}},\"type\":\"scatterpolargl\"}],\"scatterternary\":[{\"marker\":{\"colorbar\":{\"outlinewidth\":0,\"ticks\":\"\"}},\"type\":\"scatterternary\"}],\"surface\":[{\"colorbar\":{\"outlinewidth\":0,\"ticks\":\"\"},\"colorscale\":[[0.0,\"#0d0887\"],[0.1111111111111111,\"#46039f\"],[0.2222222222222222,\"#7201a8\"],[0.3333333333333333,\"#9c179e\"],[0.4444444444444444,\"#bd3786\"],[0.5555555555555556,\"#d8576b\"],[0.6666666666666666,\"#ed7953\"],[0.7777777777777778,\"#fb9f3a\"],[0.8888888888888888,\"#fdca26\"],[1.0,\"#f0f921\"]],\"type\":\"surface\"}],\"table\":[{\"cells\":{\"fill\":{\"color\":\"#EBF0F8\"},\"line\":{\"color\":\"white\"}},\"header\":{\"fill\":{\"color\":\"#C8D4E3\"},\"line\":{\"color\":\"white\"}},\"type\":\"table\"}]},\"layout\":{\"annotationdefaults\":{\"arrowcolor\":\"#2a3f5f\",\"arrowhead\":0,\"arrowwidth\":1},\"autotypenumbers\":\"strict\",\"coloraxis\":{\"colorbar\":{\"outlinewidth\":0,\"ticks\":\"\"}},\"colorscale\":{\"diverging\":[[0,\"#8e0152\"],[0.1,\"#c51b7d\"],[0.2,\"#de77ae\"],[0.3,\"#f1b6da\"],[0.4,\"#fde0ef\"],[0.5,\"#f7f7f7\"],[0.6,\"#e6f5d0\"],[0.7,\"#b8e186\"],[0.8,\"#7fbc41\"],[0.9,\"#4d9221\"],[1,\"#276419\"]],\"sequential\":[[0.0,\"#0d0887\"],[0.1111111111111111,\"#46039f\"],[0.2222222222222222,\"#7201a8\"],[0.3333333333333333,\"#9c179e\"],[0.4444444444444444,\"#bd3786\"],[0.5555555555555556,\"#d8576b\"],[0.6666666666666666,\"#ed7953\"],[0.7777777777777778,\"#fb9f3a\"],[0.8888888888888888,\"#fdca26\"],[1.0,\"#f0f921\"]],\"sequentialminus\":[[0.0,\"#0d0887\"],[0.1111111111111111,\"#46039f\"],[0.2222222222222222,\"#7201a8\"],[0.3333333333333333,\"#9c179e\"],[0.4444444444444444,\"#bd3786\"],[0.5555555555555556,\"#d8576b\"],[0.6666666666666666,\"#ed7953\"],[0.7777777777777778,\"#fb9f3a\"],[0.8888888888888888,\"#fdca26\"],[1.0,\"#f0f921\"]]},\"colorway\":[\"#636efa\",\"#EF553B\",\"#00cc96\",\"#ab63fa\",\"#FFA15A\",\"#19d3f3\",\"#FF6692\",\"#B6E880\",\"#FF97FF\",\"#FECB52\"],\"font\":{\"color\":\"#2a3f5f\"},\"geo\":{\"bgcolor\":\"white\",\"lakecolor\":\"white\",\"landcolor\":\"#E5ECF6\",\"showlakes\":true,\"showland\":true,\"subunitcolor\":\"white\"},\"hoverlabel\":{\"align\":\"left\"},\"hovermode\":\"closest\",\"mapbox\":{\"style\":\"light\"},\"paper_bgcolor\":\"white\",\"plot_bgcolor\":\"#E5ECF6\",\"polar\":{\"angularaxis\":{\"gridcolor\":\"white\",\"linecolor\":\"white\",\"ticks\":\"\"},\"bgcolor\":\"#E5ECF6\",\"radialaxis\":{\"gridcolor\":\"white\",\"linecolor\":\"white\",\"ticks\":\"\"}},\"scene\":{\"xaxis\":{\"backgroundcolor\":\"#E5ECF6\",\"gridcolor\":\"white\",\"gridwidth\":2,\"linecolor\":\"white\",\"showbackground\":true,\"ticks\":\"\",\"zerolinecolor\":\"white\"},\"yaxis\":{\"backgroundcolor\":\"#E5ECF6\",\"gridcolor\":\"white\",\"gridwidth\":2,\"linecolor\":\"white\",\"showbackground\":true,\"ticks\":\"\",\"zerolinecolor\":\"white\"},\"zaxis\":{\"backgroundcolor\":\"#E5ECF6\",\"gridcolor\":\"white\",\"gridwidth\":2,\"linecolor\":\"white\",\"showbackground\":true,\"ticks\":\"\",\"zerolinecolor\":\"white\"}},\"shapedefaults\":{\"line\":{\"color\":\"#2a3f5f\"}},\"ternary\":{\"aaxis\":{\"gridcolor\":\"white\",\"linecolor\":\"white\",\"ticks\":\"\"},\"baxis\":{\"gridcolor\":\"white\",\"linecolor\":\"white\",\"ticks\":\"\"},\"bgcolor\":\"#E5ECF6\",\"caxis\":{\"gridcolor\":\"white\",\"linecolor\":\"white\",\"ticks\":\"\"}},\"title\":{\"x\":0.05},\"xaxis\":{\"automargin\":true,\"gridcolor\":\"white\",\"linecolor\":\"white\",\"ticks\":\"\",\"title\":{\"standoff\":15},\"zerolinecolor\":\"white\",\"zerolinewidth\":2},\"yaxis\":{\"automargin\":true,\"gridcolor\":\"white\",\"linecolor\":\"white\",\"ticks\":\"\",\"title\":{\"standoff\":15},\"zerolinecolor\":\"white\",\"zerolinewidth\":2}}},\"xaxis\":{\"anchor\":\"y\",\"domain\":[0.0,1.0],\"title\":{\"text\":\"region\"}},\"yaxis\":{\"anchor\":\"x\",\"domain\":[0.0,1.0],\"title\":{\"text\":\"Daily_Confirmed\"}},\"coloraxis\":{\"colorbar\":{\"title\":{\"text\":\"Daily_Confirmed\"}},\"colorscale\":[[0.0,\"rgb(237, 229, 207)\"],[0.16666666666666666,\"rgb(224, 194, 162)\"],[0.3333333333333333,\"rgb(211, 156, 131)\"],[0.5,\"rgb(193, 118, 111)\"],[0.6666666666666666,\"rgb(166, 84, 97)\"],[0.8333333333333334,\"rgb(129, 55, 83)\"],[1.0,\"rgb(84, 31, 63)\"]]},\"legend\":{\"tracegroupgap\":0},\"margin\":{\"t\":60},\"barmode\":\"relative\",\"title\":{\"text\":\"Confirmed COVID-19 cases by counties\"},\"paper_bgcolor\":\"white\"},                        {\"responsive\": true}                    ).then(function(){\n",
              "                            \n",
              "var gd = document.getElementById('40713d9a-3f96-4aae-8af0-f0439a33fa18');\n",
              "var x = new MutationObserver(function (mutations, observer) {{\n",
              "        var display = window.getComputedStyle(gd).display;\n",
              "        if (!display || display === 'none') {{\n",
              "            console.log([gd, 'removed!']);\n",
              "            Plotly.purge(gd);\n",
              "            observer.disconnect();\n",
              "        }}\n",
              "}});\n",
              "\n",
              "// Listen for the removal of the full notebook cells\n",
              "var notebookContainer = gd.closest('#notebook-container');\n",
              "if (notebookContainer) {{\n",
              "    x.observe(notebookContainer, {childList: true});\n",
              "}}\n",
              "\n",
              "// Listen for the clearing of the current output cell\n",
              "var outputEl = gd.closest('.output');\n",
              "if (outputEl) {{\n",
              "    x.observe(outputEl, {childList: true});\n",
              "}}\n",
              "\n",
              "                        })                };                            </script>        </div>\n",
              "</body>\n",
              "</html>"
            ]
          },
          "metadata": {}
        }
      ],
      "source": [
        "import plotly.express as px\n",
        "# Plots Styles\n",
        "plt.rcdefaults() \n",
        "sns.set_style(\"whitegrid\")\n",
        "sns.set_style('ticks')\n",
        "fig = px.bar(covid_county, x=covid_county.index, y='Daily_Confirmed', labels={'x':'County'},\n",
        "             color=\"Daily_Confirmed\", color_continuous_scale=px.colors.sequential.Brwnyl)\n",
        "plt.rcdefaults() \n",
        "sns.set_style(\"whitegrid\")\n",
        "sns.set_style('ticks')\n",
        "fig.update_layout(title_text='Confirmed COVID-19 cases by counties')\n",
        "fig.update_layout(paper_bgcolor=\"white\")\n",
        "fig.show()\n"
      ]
    },
    {
      "cell_type": "markdown",
      "id": "0e1edc67",
      "metadata": {
        "id": "0e1edc67"
      },
      "source": [
        "## Google\n"
      ]
    },
    {
      "cell_type": "code",
      "execution_count": 101,
      "id": "da9608ac",
      "metadata": {
        "id": "da9608ac"
      },
      "outputs": [],
      "source": [
        "ireland_google = google[google['County'].isnull()].reset_index()\n",
        "ireland_google = ireland_google.drop(columns = ['country region',\n",
        "                                      'County',\n",
        "                                      'index'])"
      ]
    },
    {
      "cell_type": "markdown",
      "id": "c22d77f9",
      "metadata": {
        "id": "c22d77f9"
      },
      "source": [
        "As we see, Residential has the highest increase with an average of 15.24%. Then we are seeing Parks with 12.60% increase. Transit Satation has witnees the highst decrease -50% and then Retail and Recreation with -42.92% in average."
      ]
    },
    {
      "cell_type": "code",
      "execution_count": 103,
      "id": "1bc62618",
      "metadata": {
        "colab": {
          "base_uri": "https://localhost:8080/",
          "height": 237
        },
        "id": "1bc62618",
        "outputId": "c43abe44-34f2-42e5-cfe8-7a04c62f9476"
      },
      "outputs": [
        {
          "output_type": "execute_result",
          "data": {
            "text/html": [
              "\n",
              "  <div id=\"df-da8c0aaa-e5e3-4c24-9c68-130bee4f0e31\">\n",
              "    <div class=\"colab-df-container\">\n",
              "      <div>\n",
              "<style scoped>\n",
              "    .dataframe tbody tr th:only-of-type {\n",
              "        vertical-align: middle;\n",
              "    }\n",
              "\n",
              "    .dataframe tbody tr th {\n",
              "        vertical-align: top;\n",
              "    }\n",
              "\n",
              "    .dataframe thead th {\n",
              "        text-align: right;\n",
              "    }\n",
              "</style>\n",
              "<table border=\"1\" class=\"dataframe\">\n",
              "  <thead>\n",
              "    <tr style=\"text-align: right;\">\n",
              "      <th></th>\n",
              "      <th>count</th>\n",
              "      <th>mean</th>\n",
              "      <th>std</th>\n",
              "      <th>min</th>\n",
              "      <th>25%</th>\n",
              "      <th>50%</th>\n",
              "      <th>75%</th>\n",
              "      <th>max</th>\n",
              "    </tr>\n",
              "  </thead>\n",
              "  <tbody>\n",
              "    <tr>\n",
              "      <th>Retail and Recreation</th>\n",
              "      <td>696.0</td>\n",
              "      <td>-29.501437</td>\n",
              "      <td>24.442209</td>\n",
              "      <td>-94.0</td>\n",
              "      <td>-48.0</td>\n",
              "      <td>-25.0</td>\n",
              "      <td>-8.00</td>\n",
              "      <td>36.0</td>\n",
              "    </tr>\n",
              "    <tr>\n",
              "      <th>Grocery and Pharmacy</th>\n",
              "      <td>696.0</td>\n",
              "      <td>4.251437</td>\n",
              "      <td>15.508596</td>\n",
              "      <td>-92.0</td>\n",
              "      <td>-3.0</td>\n",
              "      <td>4.0</td>\n",
              "      <td>16.00</td>\n",
              "      <td>65.0</td>\n",
              "    </tr>\n",
              "    <tr>\n",
              "      <th>Parks</th>\n",
              "      <td>696.0</td>\n",
              "      <td>29.558908</td>\n",
              "      <td>44.644521</td>\n",
              "      <td>-69.0</td>\n",
              "      <td>-1.0</td>\n",
              "      <td>23.0</td>\n",
              "      <td>56.00</td>\n",
              "      <td>193.0</td>\n",
              "    </tr>\n",
              "    <tr>\n",
              "      <th>Transit Stations</th>\n",
              "      <td>696.0</td>\n",
              "      <td>-43.969828</td>\n",
              "      <td>15.468063</td>\n",
              "      <td>-86.0</td>\n",
              "      <td>-56.0</td>\n",
              "      <td>-41.0</td>\n",
              "      <td>-32.00</td>\n",
              "      <td>-3.0</td>\n",
              "    </tr>\n",
              "    <tr>\n",
              "      <th>Workplaces</th>\n",
              "      <td>696.0</td>\n",
              "      <td>-33.711207</td>\n",
              "      <td>19.248431</td>\n",
              "      <td>-86.0</td>\n",
              "      <td>-45.0</td>\n",
              "      <td>-34.0</td>\n",
              "      <td>-24.75</td>\n",
              "      <td>13.0</td>\n",
              "    </tr>\n",
              "    <tr>\n",
              "      <th>Residential</th>\n",
              "      <td>696.0</td>\n",
              "      <td>11.520115</td>\n",
              "      <td>7.790948</td>\n",
              "      <td>-3.0</td>\n",
              "      <td>6.0</td>\n",
              "      <td>10.0</td>\n",
              "      <td>16.00</td>\n",
              "      <td>35.0</td>\n",
              "    </tr>\n",
              "  </tbody>\n",
              "</table>\n",
              "</div>\n",
              "      <button class=\"colab-df-convert\" onclick=\"convertToInteractive('df-da8c0aaa-e5e3-4c24-9c68-130bee4f0e31')\"\n",
              "              title=\"Convert this dataframe to an interactive table.\"\n",
              "              style=\"display:none;\">\n",
              "        \n",
              "  <svg xmlns=\"http://www.w3.org/2000/svg\" height=\"24px\"viewBox=\"0 0 24 24\"\n",
              "       width=\"24px\">\n",
              "    <path d=\"M0 0h24v24H0V0z\" fill=\"none\"/>\n",
              "    <path d=\"M18.56 5.44l.94 2.06.94-2.06 2.06-.94-2.06-.94-.94-2.06-.94 2.06-2.06.94zm-11 1L8.5 8.5l.94-2.06 2.06-.94-2.06-.94L8.5 2.5l-.94 2.06-2.06.94zm10 10l.94 2.06.94-2.06 2.06-.94-2.06-.94-.94-2.06-.94 2.06-2.06.94z\"/><path d=\"M17.41 7.96l-1.37-1.37c-.4-.4-.92-.59-1.43-.59-.52 0-1.04.2-1.43.59L10.3 9.45l-7.72 7.72c-.78.78-.78 2.05 0 2.83L4 21.41c.39.39.9.59 1.41.59.51 0 1.02-.2 1.41-.59l7.78-7.78 2.81-2.81c.8-.78.8-2.07 0-2.86zM5.41 20L4 18.59l7.72-7.72 1.47 1.35L5.41 20z\"/>\n",
              "  </svg>\n",
              "      </button>\n",
              "      \n",
              "  <style>\n",
              "    .colab-df-container {\n",
              "      display:flex;\n",
              "      flex-wrap:wrap;\n",
              "      gap: 12px;\n",
              "    }\n",
              "\n",
              "    .colab-df-convert {\n",
              "      background-color: #E8F0FE;\n",
              "      border: none;\n",
              "      border-radius: 50%;\n",
              "      cursor: pointer;\n",
              "      display: none;\n",
              "      fill: #1967D2;\n",
              "      height: 32px;\n",
              "      padding: 0 0 0 0;\n",
              "      width: 32px;\n",
              "    }\n",
              "\n",
              "    .colab-df-convert:hover {\n",
              "      background-color: #E2EBFA;\n",
              "      box-shadow: 0px 1px 2px rgba(60, 64, 67, 0.3), 0px 1px 3px 1px rgba(60, 64, 67, 0.15);\n",
              "      fill: #174EA6;\n",
              "    }\n",
              "\n",
              "    [theme=dark] .colab-df-convert {\n",
              "      background-color: #3B4455;\n",
              "      fill: #D2E3FC;\n",
              "    }\n",
              "\n",
              "    [theme=dark] .colab-df-convert:hover {\n",
              "      background-color: #434B5C;\n",
              "      box-shadow: 0px 1px 3px 1px rgba(0, 0, 0, 0.15);\n",
              "      filter: drop-shadow(0px 1px 2px rgba(0, 0, 0, 0.3));\n",
              "      fill: #FFFFFF;\n",
              "    }\n",
              "  </style>\n",
              "\n",
              "      <script>\n",
              "        const buttonEl =\n",
              "          document.querySelector('#df-da8c0aaa-e5e3-4c24-9c68-130bee4f0e31 button.colab-df-convert');\n",
              "        buttonEl.style.display =\n",
              "          google.colab.kernel.accessAllowed ? 'block' : 'none';\n",
              "\n",
              "        async function convertToInteractive(key) {\n",
              "          const element = document.querySelector('#df-da8c0aaa-e5e3-4c24-9c68-130bee4f0e31');\n",
              "          const dataTable =\n",
              "            await google.colab.kernel.invokeFunction('convertToInteractive',\n",
              "                                                     [key], {});\n",
              "          if (!dataTable) return;\n",
              "\n",
              "          const docLinkHtml = 'Like what you see? Visit the ' +\n",
              "            '<a target=\"_blank\" href=https://colab.research.google.com/notebooks/data_table.ipynb>data table notebook</a>'\n",
              "            + ' to learn more about interactive tables.';\n",
              "          element.innerHTML = '';\n",
              "          dataTable['output_type'] = 'display_data';\n",
              "          await google.colab.output.renderOutput(dataTable, element);\n",
              "          const docLink = document.createElement('div');\n",
              "          docLink.innerHTML = docLinkHtml;\n",
              "          element.appendChild(docLink);\n",
              "        }\n",
              "      </script>\n",
              "    </div>\n",
              "  </div>\n",
              "  "
            ],
            "text/plain": [
              "                       count       mean        std  ...   50%    75%    max\n",
              "Retail and Recreation  696.0 -29.501437  24.442209  ... -25.0  -8.00   36.0\n",
              "Grocery and Pharmacy   696.0   4.251437  15.508596  ...   4.0  16.00   65.0\n",
              "Parks                  696.0  29.558908  44.644521  ...  23.0  56.00  193.0\n",
              "Transit Stations       696.0 -43.969828  15.468063  ... -41.0 -32.00   -3.0\n",
              "Workplaces             696.0 -33.711207  19.248431  ... -34.0 -24.75   13.0\n",
              "Residential            696.0  11.520115   7.790948  ...  10.0  16.00   35.0\n",
              "\n",
              "[6 rows x 8 columns]"
            ]
          },
          "metadata": {},
          "execution_count": 103
        }
      ],
      "source": [
        "ireland_google.describe().transpose()"
      ]
    },
    {
      "cell_type": "code",
      "execution_count": 104,
      "id": "47e87f5b",
      "metadata": {
        "colab": {
          "base_uri": "https://localhost:8080/",
          "height": 542
        },
        "id": "47e87f5b",
        "outputId": "68cb7924-11ee-4097-8c94-54275627c386"
      },
      "outputs": [
        {
          "output_type": "display_data",
          "data": {
            "text/html": [
              "<html>\n",
              "<head><meta charset=\"utf-8\" /></head>\n",
              "<body>\n",
              "    <div>            <script src=\"https://cdnjs.cloudflare.com/ajax/libs/mathjax/2.7.5/MathJax.js?config=TeX-AMS-MML_SVG\"></script><script type=\"text/javascript\">if (window.MathJax) {MathJax.Hub.Config({SVG: {font: \"STIX-Web\"}});}</script>                <script type=\"text/javascript\">window.PlotlyConfig = {MathJaxConfig: 'local'};</script>\n",
              "        <script src=\"https://cdn.plot.ly/plotly-2.8.3.min.js\"></script>                <div id=\"e68ace59-166f-41af-a720-27fe566533e1\" class=\"plotly-graph-div\" style=\"height:525px; width:100%;\"></div>            <script type=\"text/javascript\">                                    window.PLOTLYENV=window.PLOTLYENV || {};                                    if (document.getElementById(\"e68ace59-166f-41af-a720-27fe566533e1\")) {                    Plotly.newPlot(                        \"e68ace59-166f-41af-a720-27fe566533e1\",                        [{\"mode\":\"lines+markers\",\"name\":\"Total Positve Cases\",\"x\":[\"2020-03-07\",\"2020-03-08\",\"2020-03-09\",\"2020-03-10\",\"2020-03-11\",\"2020-03-12\",\"2020-03-13\",\"2020-03-14\",\"2020-03-15\",\"2020-03-16\",\"2020-03-17\",\"2020-03-18\",\"2020-03-19\",\"2020-03-20\",\"2020-03-21\",\"2020-03-22\",\"2020-03-23\",\"2020-03-24\",\"2020-03-25\",\"2020-03-26\",\"2020-03-27\",\"2020-03-28\",\"2020-03-29\",\"2020-03-30\",\"2020-03-31\",\"2020-04-01\",\"2020-04-02\",\"2020-04-03\",\"2020-04-04\",\"2020-04-05\",\"2020-04-06\",\"2020-04-07\",\"2020-04-08\",\"2020-04-09\",\"2020-04-10\",\"2020-04-11\",\"2020-04-12\",\"2020-04-13\",\"2020-04-14\",\"2020-04-15\",\"2020-04-16\",\"2020-04-17\",\"2020-04-18\",\"2020-04-19\",\"2020-04-20\",\"2020-04-21\",\"2020-04-22\",\"2020-04-23\",\"2020-04-24\",\"2020-04-25\",\"2020-04-26\",\"2020-04-27\",\"2020-04-28\",\"2020-04-29\",\"2020-04-30\",\"2020-05-01\",\"2020-05-02\",\"2020-05-03\",\"2020-05-04\",\"2020-05-05\",\"2020-05-06\",\"2020-05-07\",\"2020-05-08\",\"2020-05-09\",\"2020-05-10\",\"2020-05-11\",\"2020-05-12\",\"2020-05-13\",\"2020-05-14\",\"2020-05-15\",\"2020-05-16\",\"2020-05-17\",\"2020-05-18\",\"2020-05-19\",\"2020-05-20\",\"2020-05-21\",\"2020-05-22\",\"2020-05-23\",\"2020-05-24\",\"2020-05-25\",\"2020-05-26\",\"2020-05-27\",\"2020-05-28\",\"2020-05-29\",\"2020-05-30\",\"2020-05-31\",\"2020-06-01\",\"2020-06-02\",\"2020-06-03\",\"2020-06-04\",\"2020-06-05\",\"2020-06-06\",\"2020-06-07\",\"2020-06-08\",\"2020-06-09\",\"2020-06-10\",\"2020-06-11\",\"2020-06-12\",\"2020-06-13\",\"2020-06-14\",\"2020-06-15\",\"2020-06-16\",\"2020-06-17\",\"2020-06-18\",\"2020-06-19\",\"2020-06-20\",\"2020-06-21\",\"2020-06-22\",\"2020-06-23\",\"2020-06-24\",\"2020-06-25\",\"2020-06-26\",\"2020-06-27\",\"2020-06-28\",\"2020-06-29\",\"2020-06-30\",\"2020-07-01\",\"2020-07-02\",\"2020-07-03\",\"2020-07-04\",\"2020-07-05\",\"2020-07-06\",\"2020-07-07\",\"2020-07-08\",\"2020-07-09\",\"2020-07-10\",\"2020-07-11\",\"2020-07-12\",\"2020-07-13\",\"2020-07-14\",\"2020-07-15\",\"2020-07-16\",\"2020-07-17\",\"2020-07-18\",\"2020-07-19\",\"2020-07-20\",\"2020-07-21\",\"2020-07-22\",\"2020-07-23\",\"2020-07-24\",\"2020-07-25\",\"2020-07-26\",\"2020-07-27\",\"2020-07-28\",\"2020-07-29\",\"2020-07-30\",\"2020-07-31\",\"2020-08-01\",\"2020-08-02\",\"2020-08-03\",\"2020-08-04\",\"2020-08-05\",\"2020-08-06\",\"2020-08-07\",\"2020-08-08\",\"2020-08-09\",\"2020-08-10\",\"2020-08-11\",\"2020-08-12\",\"2020-08-13\",\"2020-08-14\",\"2020-08-15\",\"2020-08-16\",\"2020-08-17\",\"2020-08-18\",\"2020-08-19\",\"2020-08-20\",\"2020-08-21\",\"2020-08-22\",\"2020-08-23\",\"2020-08-24\",\"2020-08-25\",\"2020-08-26\",\"2020-08-27\",\"2020-08-28\",\"2020-08-29\",\"2020-08-30\",\"2020-08-31\",\"2020-09-01\",\"2020-09-02\",\"2020-09-03\",\"2020-09-04\",\"2020-09-05\",\"2020-09-06\",\"2020-09-07\",\"2020-09-08\",\"2020-09-09\",\"2020-09-10\",\"2020-09-11\",\"2020-09-12\",\"2020-09-13\",\"2020-09-14\",\"2020-09-15\",\"2020-09-16\",\"2020-09-17\",\"2020-09-18\",\"2020-09-19\",\"2020-09-20\",\"2020-09-21\",\"2020-09-22\",\"2020-09-23\",\"2020-09-24\",\"2020-09-25\",\"2020-09-26\",\"2020-09-27\",\"2020-09-28\",\"2020-09-29\",\"2020-09-30\",\"2020-10-01\",\"2020-10-02\",\"2020-10-03\",\"2020-10-04\",\"2020-10-05\",\"2020-10-06\",\"2020-10-07\",\"2020-10-08\",\"2020-10-09\",\"2020-10-10\",\"2020-10-11\",\"2020-10-12\",\"2020-10-13\",\"2020-10-14\",\"2020-10-15\",\"2020-10-16\",\"2020-10-17\",\"2020-10-18\",\"2020-10-19\",\"2020-10-20\",\"2020-10-21\",\"2020-10-22\",\"2020-10-23\",\"2020-10-24\",\"2020-10-25\",\"2020-10-26\",\"2020-10-27\",\"2020-10-28\",\"2020-10-29\",\"2020-10-30\",\"2020-10-31\",\"2020-11-01\",\"2020-11-02\",\"2020-11-03\",\"2020-11-04\",\"2020-11-05\",\"2020-11-06\",\"2020-11-07\",\"2020-11-08\",\"2020-11-09\",\"2020-11-10\",\"2020-11-11\",\"2020-11-12\",\"2020-11-13\",\"2020-11-14\",\"2020-11-15\",\"2020-11-16\",\"2020-11-17\",\"2020-11-18\",\"2020-11-19\",\"2020-11-20\",\"2020-11-21\",\"2020-11-22\",\"2020-11-23\",\"2020-11-24\",\"2020-11-25\",\"2020-11-26\",\"2020-11-27\",\"2020-11-28\",\"2020-11-29\",\"2020-11-30\",\"2020-12-01\",\"2020-12-02\",\"2020-12-03\",\"2020-12-04\",\"2020-12-05\",\"2020-12-06\",\"2020-12-07\",\"2020-12-08\",\"2020-12-09\",\"2020-12-10\",\"2020-12-11\",\"2020-12-12\",\"2020-12-13\",\"2020-12-14\",\"2020-12-15\",\"2020-12-16\",\"2020-12-17\",\"2020-12-18\",\"2020-12-19\",\"2020-12-20\",\"2020-12-21\",\"2020-12-22\",\"2020-12-23\",\"2020-12-24\",\"2020-12-25\",\"2020-12-26\",\"2020-12-27\",\"2020-12-28\",\"2020-12-29\",\"2020-12-30\",\"2020-12-31\",\"2021-01-01\",\"2021-01-02\",\"2021-01-03\",\"2021-01-04\",\"2021-01-05\",\"2021-01-06\",\"2021-01-07\",\"2021-01-08\",\"2021-01-09\",\"2021-01-10\",\"2021-01-11\",\"2021-01-12\",\"2021-01-13\",\"2021-01-14\",\"2021-01-15\",\"2021-01-16\",\"2021-01-17\",\"2021-01-18\",\"2021-01-19\",\"2021-01-20\",\"2021-01-21\",\"2021-01-22\",\"2021-01-23\",\"2021-01-24\",\"2021-01-25\",\"2021-01-26\",\"2021-01-27\",\"2021-01-28\",\"2021-01-29\",\"2021-01-30\",\"2021-01-31\",\"2021-02-01\",\"2021-02-02\",\"2021-02-03\",\"2021-02-04\",\"2021-02-05\",\"2021-02-06\",\"2021-02-07\",\"2021-02-08\",\"2021-02-09\",\"2021-02-10\",\"2021-02-11\",\"2021-02-12\",\"2021-02-13\",\"2021-02-14\",\"2021-02-15\",\"2021-02-16\",\"2021-02-17\",\"2021-02-18\",\"2021-02-19\",\"2021-02-20\",\"2021-02-21\",\"2021-02-22\",\"2021-02-23\",\"2021-02-24\",\"2021-02-25\",\"2021-02-26\",\"2021-02-27\",\"2021-02-28\",\"2021-03-01\",\"2021-03-02\",\"2021-03-03\",\"2021-03-04\",\"2021-03-05\",\"2021-03-06\",\"2021-03-07\",\"2021-03-08\",\"2021-03-09\",\"2021-03-10\",\"2021-03-11\",\"2021-03-12\",\"2021-03-13\",\"2021-03-14\",\"2021-03-15\",\"2021-03-16\",\"2021-03-17\",\"2021-03-18\",\"2021-03-19\",\"2021-03-20\",\"2021-03-21\",\"2021-03-22\",\"2021-03-23\",\"2021-03-24\",\"2021-03-25\",\"2021-03-26\",\"2021-03-27\",\"2021-03-28\",\"2021-03-29\",\"2021-03-30\",\"2021-03-31\",\"2021-04-01\",\"2021-04-02\",\"2021-04-03\",\"2021-04-04\",\"2021-04-05\",\"2021-04-06\",\"2021-04-07\",\"2021-04-08\",\"2021-04-09\",\"2021-04-10\",\"2021-04-11\",\"2021-04-12\",\"2021-04-13\",\"2021-04-14\",\"2021-04-15\",\"2021-04-16\",\"2021-04-17\",\"2021-04-18\",\"2021-04-19\",\"2021-04-20\",\"2021-04-21\",\"2021-04-22\",\"2021-04-23\",\"2021-04-24\",\"2021-04-25\",\"2021-04-26\",\"2021-04-27\",\"2021-04-28\",\"2021-04-29\",\"2021-04-30\",\"2021-05-01\",\"2021-05-02\",\"2021-05-03\",\"2021-05-04\",\"2021-05-05\",\"2021-05-06\",\"2021-05-07\",\"2021-05-08\",\"2021-05-09\",\"2021-05-10\",\"2021-05-11\",\"2021-05-12\",\"2021-05-13\",\"2021-05-14\",\"2021-05-15\",\"2021-05-16\",\"2021-05-17\",\"2021-05-18\",\"2021-05-19\",\"2021-05-20\",\"2021-05-21\",\"2021-05-22\",\"2021-05-23\",\"2021-05-24\",\"2021-05-25\",\"2021-05-26\",\"2021-05-27\",\"2021-05-28\",\"2021-05-29\",\"2021-05-30\",\"2021-05-31\",\"2021-06-01\",\"2021-06-02\",\"2021-06-03\",\"2021-06-04\",\"2021-06-05\",\"2021-06-06\",\"2021-06-07\",\"2021-06-08\",\"2021-06-09\",\"2021-06-10\",\"2021-06-11\",\"2021-06-12\",\"2021-06-13\",\"2021-06-14\",\"2021-06-15\",\"2021-06-16\",\"2021-06-17\",\"2021-06-18\",\"2021-06-19\",\"2021-06-20\",\"2021-06-21\",\"2021-06-22\",\"2021-06-23\",\"2021-06-24\",\"2021-06-25\",\"2021-06-26\",\"2021-06-27\",\"2021-06-28\",\"2021-06-29\",\"2021-06-30\",\"2021-07-01\",\"2021-07-02\",\"2021-07-03\",\"2021-07-04\",\"2021-07-05\",\"2021-07-06\",\"2021-07-07\",\"2021-07-08\",\"2021-07-09\",\"2021-07-10\",\"2021-07-11\",\"2021-07-12\",\"2021-07-13\",\"2021-07-14\",\"2021-07-15\",\"2021-07-16\",\"2021-07-17\",\"2021-07-18\",\"2021-07-19\",\"2021-07-20\",\"2021-07-21\",\"2021-07-22\",\"2021-07-23\",\"2021-07-24\",\"2021-07-25\",\"2021-07-26\",\"2021-07-27\",\"2021-07-28\",\"2021-07-29\",\"2021-07-30\",\"2021-07-31\",\"2021-08-01\",\"2021-08-02\",\"2021-08-03\",\"2021-08-04\",\"2021-08-05\",\"2021-08-06\",\"2021-08-07\",\"2021-08-08\",\"2021-08-09\",\"2021-08-10\",\"2021-08-11\",\"2021-08-12\",\"2021-08-13\",\"2021-08-14\",\"2021-08-15\",\"2021-08-16\",\"2021-08-17\",\"2021-08-18\",\"2021-08-19\",\"2021-08-20\",\"2021-08-21\",\"2021-08-22\",\"2021-08-23\",\"2021-08-24\",\"2021-08-25\",\"2021-08-26\",\"2021-08-27\",\"2021-08-28\",\"2021-08-29\",\"2021-08-30\",\"2021-08-31\",\"2021-09-01\",\"2021-09-02\",\"2021-09-03\",\"2021-09-04\",\"2021-09-05\",\"2021-09-06\",\"2021-09-07\",\"2021-09-08\",\"2021-09-09\",\"2021-09-10\",\"2021-09-11\",\"2021-09-12\",\"2021-09-13\",\"2021-09-14\",\"2021-09-15\",\"2021-09-16\",\"2021-09-17\",\"2021-09-18\",\"2021-09-19\",\"2021-09-20\",\"2021-09-21\",\"2021-09-22\",\"2021-09-23\",\"2021-09-24\",\"2021-09-25\",\"2021-09-26\",\"2021-09-27\",\"2021-09-28\",\"2021-09-29\",\"2021-09-30\",\"2021-10-01\",\"2021-10-02\",\"2021-10-03\",\"2021-10-04\",\"2021-10-05\",\"2021-10-06\",\"2021-10-07\",\"2021-10-08\",\"2021-10-09\",\"2021-10-10\",\"2021-10-11\",\"2021-10-12\",\"2021-10-13\",\"2021-10-14\",\"2021-10-15\",\"2021-10-16\",\"2021-10-17\",\"2021-10-18\",\"2021-10-19\",\"2021-10-20\",\"2021-10-21\",\"2021-10-22\",\"2021-10-23\",\"2021-10-24\",\"2021-10-25\",\"2021-10-26\",\"2021-10-27\",\"2021-10-28\",\"2021-10-29\",\"2021-10-30\",\"2021-10-31\",\"2021-11-01\",\"2021-11-02\",\"2021-11-03\",\"2021-11-04\",\"2021-11-05\",\"2021-11-06\",\"2021-11-07\",\"2021-11-08\",\"2021-11-09\",\"2021-11-10\",\"2021-11-11\",\"2021-11-12\",\"2021-11-13\",\"2021-11-14\",\"2021-11-15\",\"2021-11-16\",\"2021-11-17\",\"2021-11-18\",\"2021-11-19\",\"2021-11-20\",\"2021-11-21\",\"2021-11-22\",\"2021-11-23\",\"2021-11-24\",\"2021-11-25\",\"2021-11-26\",\"2021-11-27\",\"2021-11-28\",\"2021-11-29\",\"2021-11-30\",\"2021-12-01\",\"2021-12-02\",\"2021-12-03\",\"2021-12-04\",\"2021-12-05\",\"2021-12-06\",\"2021-12-07\",\"2021-12-08\",\"2021-12-09\",\"2021-12-10\",\"2021-12-11\",\"2021-12-12\",\"2021-12-13\",\"2021-12-14\",\"2021-12-15\",\"2021-12-16\",\"2021-12-17\",\"2021-12-18\",\"2021-12-19\",\"2021-12-20\",\"2021-12-21\",\"2021-12-22\",\"2021-12-23\",\"2021-12-24\",\"2021-12-25\",\"2021-12-26\",\"2021-12-27\",\"2021-12-28\",\"2021-12-29\",\"2021-12-30\",\"2021-12-31\",\"2022-01-01\",\"2022-01-02\",\"2022-01-03\",\"2022-01-04\",\"2022-01-05\",\"2022-01-06\",\"2022-01-07\",\"2022-01-08\",\"2022-01-09\",\"2022-01-10\",\"2022-01-11\",\"2022-01-12\",\"2022-01-13\",\"2022-01-14\",\"2022-01-15\",\"2022-01-16\",\"2022-01-17\",\"2022-01-18\",\"2022-01-19\",\"2022-01-20\",\"2022-01-21\",\"2022-01-22\",\"2022-01-23\",\"2022-01-24\",\"2022-01-25\",\"2022-01-26\",\"2022-01-27\",\"2022-01-28\",\"2022-01-29\",\"2022-01-30\",\"2022-01-31\"],\"y\":[-3.0,0.0,-3.0,3.0,-3.0,-3.0,-19.0,-32.0,-36.0,-26.0,-59.0,-46.0,-48.0,-53.0,-59.0,-59.0,-49.0,-51.0,-60.0,-60.0,-63.0,-80.0,-83.0,-73.0,-73.0,-75.0,-74.0,-74.0,-78.0,-81.0,-68.0,-66.0,-69.0,-68.0,-73.0,-76.0,-90.0,-77.0,-68.0,-69.0,-84.0,-85.0,-87.0,-88.0,-83.0,-83.0,-83.0,-82.0,-83.0,-85.0,-87.0,-81.0,-81.0,-83.0,-73.0,-74.0,-77.0,-77.0,-74.0,-68.0,-69.0,-70.0,-70.0,-74.0,-77.0,-67.0,-66.0,-68.0,-68.0,-70.0,-74.0,-75.0,-60.0,-59.0,-59.0,-60.0,-64.0,-66.0,-66.0,-55.0,-55.0,-57.0,-56.0,-58.0,-63.0,-64.0,-58.0,-52.0,-56.0,-56.0,-56.0,-60.0,-60.0,-40.0,-43.0,-47.0,-48.0,-50.0,-51.0,-52.0,-37.0,-38.0,-41.0,-41.0,-43.0,-46.0,-48.0,-38.0,-37.0,-38.0,-38.0,-42.0,-47.0,-48.0,-26.0,-24.0,-28.0,-26.0,-32.0,-35.0,-36.0,-20.0,-23.0,-27.0,-24.0,-28.0,-33.0,-32.0,-19.0,-22.0,-20.0,-21.0,-26.0,-29.0,-28.0,-15.0,-16.0,-20.0,-20.0,-26.0,-28.0,-26.0,-13.0,-13.0,-16.0,-15.0,-21.0,-27.0,-21.0,-11.0,-10.0,-15.0,-14.0,-21.0,-31.0,-29.0,-15.0,-15.0,-17.0,-17.0,-22.0,-28.0,-27.0,-16.0,-13.0,-22.0,-22.0,-23.0,-27.0,-25.0,-12.0,-20.0,-13.0,-17.0,-20.0,-23.0,-21.0,-9.0,-12.0,-21.0,-18.0,-21.0,-24.0,-22.0,-15.0,-18.0,-19.0,-20.0,-21.0,-23.0,-23.0,-17.0,-16.0,-20.0,-19.0,-20.0,-29.0,-28.0,-19.0,-24.0,-23.0,-26.0,-24.0,-26.0,-27.0,-21.0,-22.0,-28.0,-26.0,-26.0,-28.0,-41.0,-20.0,-21.0,-34.0,-32.0,-34.0,-37.0,-39.0,-30.0,-31.0,-33.0,-32.0,-34.0,-37.0,-38.0,-26.0,-18.0,-14.0,-51.0,-50.0,-59.0,-57.0,-51.0,-45.0,-49.0,-51.0,-48.0,-58.0,-65.0,-48.0,-44.0,-46.0,-47.0,-47.0,-52.0,-56.0,-43.0,-43.0,-50.0,-45.0,-45.0,-53.0,-56.0,-44.0,-42.0,-45.0,-43.0,-45.0,-49.0,-50.0,-40.0,-42.0,-40.0,-40.0,-39.0,-49.0,-50.0,-37.0,-15.0,-20.0,-22.0,-22.0,-23.0,-22.0,-10.0,-11.0,-18.0,-15.0,-17.0,-20.0,-25.0,-8.0,-8.0,-11.0,-10.0,-13.0,-21.0,-12.0,12.0,22.0,18.0,-18.0,-94.0,-82.0,-56.0,-38.0,-29.0,-26.0,-38.0,-82.0,-68.0,-66.0,-53.0,-52.0,-55.0,-60.0,-61.0,-64.0,-67.0,-58.0,-58.0,-59.0,-59.0,-61.0,-63.0,-67.0,-58.0,-59.0,-60.0,-58.0,-59.0,-61.0,-68.0,-56.0,-56.0,-58.0,-57.0,-56.0,-63.0,-67.0,-53.0,-53.0,-54.0,-54.0,-54.0,-59.0,-65.0,-53.0,-54.0,-53.0,-57.0,-54.0,-58.0,-61.0,-48.0,-48.0,-50.0,-50.0,-54.0,-58.0,-54.0,-46.0,-55.0,-50.0,-47.0,-47.0,-52.0,-50.0,-43.0,-43.0,-47.0,-47.0,-47.0,-49.0,-51.0,-42.0,-46.0,-49.0,-47.0,-46.0,-47.0,-55.0,-40.0,-33.0,-49.0,-45.0,-44.0,-50.0,-50.0,-41.0,-41.0,-43.0,-43.0,-45.0,-50.0,-56.0,-37.0,-35.0,-37.0,-35.0,-40.0,-46.0,-67.0,-46.0,-37.0,-41.0,-42.0,-44.0,-48.0,-49.0,-37.0,-36.0,-37.0,-38.0,-39.0,-42.0,-47.0,-37.0,-36.0,-36.0,-36.0,-36.0,-41.0,-41.0,-32.0,-36.0,-37.0,-37.0,-36.0,-41.0,-41.0,-44.0,-33.0,-37.0,-35.0,-36.0,-42.0,-45.0,-27.0,-24.0,-28.0,-27.0,-30.0,-37.0,-37.0,-14.0,-15.0,-17.0,-28.0,-27.0,-26.0,-33.0,-18.0,-19.0,-19.0,-22.0,-23.0,-28.0,-28.0,-12.0,-11.0,-18.0,-15.0,-18.0,-26.0,-25.0,-3.0,-8.0,-13.0,-12.0,-15.0,-21.0,-22.0,-8.0,-9.0,-11.0,-10.0,-14.0,-18.0,-17.0,-8.0,-9.0,-14.0,-12.0,-15.0,-20.0,-17.0,-5.0,-8.0,-7.0,-8.0,-15.0,-21.0,-20.0,-3.0,-8.0,-6.0,-6.0,-13.0,-17.0,-21.0,-2.0,-1.0,-3.0,-4.0,-11.0,-22.0,-18.0,0.0,0.0,-4.0,-4.0,-11.0,-17.0,-14.0,1.0,1.0,-2.0,0.0,-8.0,-14.0,-4.0,4.0,6.0,0.0,-4.0,-8.0,-17.0,-9.0,4.0,4.0,1.0,1.0,-6.0,-15.0,-8.0,4.0,4.0,1.0,1.0,-8.0,-12.0,-8.0,6.0,6.0,4.0,3.0,-2.0,-9.0,-5.0,7.0,3.0,-2.0,-3.0,-5.0,-8.0,-5.0,1.0,4.0,-4.0,-4.0,-4.0,-9.0,-7.0,-3.0,-2.0,-4.0,-4.0,-5.0,-8.0,-5.0,-1.0,-3.0,-4.0,-3.0,-5.0,-8.0,-11.0,-1.0,-4.0,-6.0,-5.0,-4.0,-6.0,-8.0,-4.0,-2.0,-7.0,-6.0,-5.0,-6.0,-4.0,-3.0,-3.0,-6.0,-6.0,-4.0,-7.0,-6.0,-3.0,-4.0,-5.0,0.0,-2.0,-8.0,4.0,10.0,3.0,-3.0,2.0,-1.0,-6.0,-12.0,-5.0,-2.0,-5.0,-4.0,-5.0,-8.0,-3.0,-4.0,-3.0,-5.0,-3.0,-6.0,-6.0,-5.0,-2.0,-3.0,-4.0,-3.0,-3.0,-7.0,-2.0,0.0,-2.0,-6.0,-1.0,-3.0,-7.0,-4.0,2.0,-3.0,-3.0,-2.0,-3.0,-6.0,0.0,4.0,-33.0,-6.0,1.0,0.0,-3.0,-1.0,9.0,10.0,10.0,11.0,7.0,3.0,10.0,27.0,30.0,31.0,36.0,-10.0,-94.0,-51.0,-6.0,0.0,-4.0,-13.0,-22.0,-63.0,-24.0,-10.0,-12.0,-18.0,-26.0,-28.0,-25.0,-24.0,-16.0,-15.0,-17.0,-18.0,-17.0,-17.0,-14.0,-13.0,-14.0,-14.0,-14.0,-14.0,-10.0,-11.0,-9.0,-8.0,-9.0,-8.0,-8.0,-5.0,-9.0,-7.0],\"type\":\"scatter\"}],                        {\"template\":{\"data\":{\"bar\":[{\"error_x\":{\"color\":\"#2a3f5f\"},\"error_y\":{\"color\":\"#2a3f5f\"},\"marker\":{\"line\":{\"color\":\"#E5ECF6\",\"width\":0.5},\"pattern\":{\"fillmode\":\"overlay\",\"size\":10,\"solidity\":0.2}},\"type\":\"bar\"}],\"barpolar\":[{\"marker\":{\"line\":{\"color\":\"#E5ECF6\",\"width\":0.5},\"pattern\":{\"fillmode\":\"overlay\",\"size\":10,\"solidity\":0.2}},\"type\":\"barpolar\"}],\"carpet\":[{\"aaxis\":{\"endlinecolor\":\"#2a3f5f\",\"gridcolor\":\"white\",\"linecolor\":\"white\",\"minorgridcolor\":\"white\",\"startlinecolor\":\"#2a3f5f\"},\"baxis\":{\"endlinecolor\":\"#2a3f5f\",\"gridcolor\":\"white\",\"linecolor\":\"white\",\"minorgridcolor\":\"white\",\"startlinecolor\":\"#2a3f5f\"},\"type\":\"carpet\"}],\"choropleth\":[{\"colorbar\":{\"outlinewidth\":0,\"ticks\":\"\"},\"type\":\"choropleth\"}],\"contour\":[{\"colorbar\":{\"outlinewidth\":0,\"ticks\":\"\"},\"colorscale\":[[0.0,\"#0d0887\"],[0.1111111111111111,\"#46039f\"],[0.2222222222222222,\"#7201a8\"],[0.3333333333333333,\"#9c179e\"],[0.4444444444444444,\"#bd3786\"],[0.5555555555555556,\"#d8576b\"],[0.6666666666666666,\"#ed7953\"],[0.7777777777777778,\"#fb9f3a\"],[0.8888888888888888,\"#fdca26\"],[1.0,\"#f0f921\"]],\"type\":\"contour\"}],\"contourcarpet\":[{\"colorbar\":{\"outlinewidth\":0,\"ticks\":\"\"},\"type\":\"contourcarpet\"}],\"heatmap\":[{\"colorbar\":{\"outlinewidth\":0,\"ticks\":\"\"},\"colorscale\":[[0.0,\"#0d0887\"],[0.1111111111111111,\"#46039f\"],[0.2222222222222222,\"#7201a8\"],[0.3333333333333333,\"#9c179e\"],[0.4444444444444444,\"#bd3786\"],[0.5555555555555556,\"#d8576b\"],[0.6666666666666666,\"#ed7953\"],[0.7777777777777778,\"#fb9f3a\"],[0.8888888888888888,\"#fdca26\"],[1.0,\"#f0f921\"]],\"type\":\"heatmap\"}],\"heatmapgl\":[{\"colorbar\":{\"outlinewidth\":0,\"ticks\":\"\"},\"colorscale\":[[0.0,\"#0d0887\"],[0.1111111111111111,\"#46039f\"],[0.2222222222222222,\"#7201a8\"],[0.3333333333333333,\"#9c179e\"],[0.4444444444444444,\"#bd3786\"],[0.5555555555555556,\"#d8576b\"],[0.6666666666666666,\"#ed7953\"],[0.7777777777777778,\"#fb9f3a\"],[0.8888888888888888,\"#fdca26\"],[1.0,\"#f0f921\"]],\"type\":\"heatmapgl\"}],\"histogram\":[{\"marker\":{\"pattern\":{\"fillmode\":\"overlay\",\"size\":10,\"solidity\":0.2}},\"type\":\"histogram\"}],\"histogram2d\":[{\"colorbar\":{\"outlinewidth\":0,\"ticks\":\"\"},\"colorscale\":[[0.0,\"#0d0887\"],[0.1111111111111111,\"#46039f\"],[0.2222222222222222,\"#7201a8\"],[0.3333333333333333,\"#9c179e\"],[0.4444444444444444,\"#bd3786\"],[0.5555555555555556,\"#d8576b\"],[0.6666666666666666,\"#ed7953\"],[0.7777777777777778,\"#fb9f3a\"],[0.8888888888888888,\"#fdca26\"],[1.0,\"#f0f921\"]],\"type\":\"histogram2d\"}],\"histogram2dcontour\":[{\"colorbar\":{\"outlinewidth\":0,\"ticks\":\"\"},\"colorscale\":[[0.0,\"#0d0887\"],[0.1111111111111111,\"#46039f\"],[0.2222222222222222,\"#7201a8\"],[0.3333333333333333,\"#9c179e\"],[0.4444444444444444,\"#bd3786\"],[0.5555555555555556,\"#d8576b\"],[0.6666666666666666,\"#ed7953\"],[0.7777777777777778,\"#fb9f3a\"],[0.8888888888888888,\"#fdca26\"],[1.0,\"#f0f921\"]],\"type\":\"histogram2dcontour\"}],\"mesh3d\":[{\"colorbar\":{\"outlinewidth\":0,\"ticks\":\"\"},\"type\":\"mesh3d\"}],\"parcoords\":[{\"line\":{\"colorbar\":{\"outlinewidth\":0,\"ticks\":\"\"}},\"type\":\"parcoords\"}],\"pie\":[{\"automargin\":true,\"type\":\"pie\"}],\"scatter\":[{\"marker\":{\"colorbar\":{\"outlinewidth\":0,\"ticks\":\"\"}},\"type\":\"scatter\"}],\"scatter3d\":[{\"line\":{\"colorbar\":{\"outlinewidth\":0,\"ticks\":\"\"}},\"marker\":{\"colorbar\":{\"outlinewidth\":0,\"ticks\":\"\"}},\"type\":\"scatter3d\"}],\"scattercarpet\":[{\"marker\":{\"colorbar\":{\"outlinewidth\":0,\"ticks\":\"\"}},\"type\":\"scattercarpet\"}],\"scattergeo\":[{\"marker\":{\"colorbar\":{\"outlinewidth\":0,\"ticks\":\"\"}},\"type\":\"scattergeo\"}],\"scattergl\":[{\"marker\":{\"colorbar\":{\"outlinewidth\":0,\"ticks\":\"\"}},\"type\":\"scattergl\"}],\"scattermapbox\":[{\"marker\":{\"colorbar\":{\"outlinewidth\":0,\"ticks\":\"\"}},\"type\":\"scattermapbox\"}],\"scatterpolar\":[{\"marker\":{\"colorbar\":{\"outlinewidth\":0,\"ticks\":\"\"}},\"type\":\"scatterpolar\"}],\"scatterpolargl\":[{\"marker\":{\"colorbar\":{\"outlinewidth\":0,\"ticks\":\"\"}},\"type\":\"scatterpolargl\"}],\"scatterternary\":[{\"marker\":{\"colorbar\":{\"outlinewidth\":0,\"ticks\":\"\"}},\"type\":\"scatterternary\"}],\"surface\":[{\"colorbar\":{\"outlinewidth\":0,\"ticks\":\"\"},\"colorscale\":[[0.0,\"#0d0887\"],[0.1111111111111111,\"#46039f\"],[0.2222222222222222,\"#7201a8\"],[0.3333333333333333,\"#9c179e\"],[0.4444444444444444,\"#bd3786\"],[0.5555555555555556,\"#d8576b\"],[0.6666666666666666,\"#ed7953\"],[0.7777777777777778,\"#fb9f3a\"],[0.8888888888888888,\"#fdca26\"],[1.0,\"#f0f921\"]],\"type\":\"surface\"}],\"table\":[{\"cells\":{\"fill\":{\"color\":\"#EBF0F8\"},\"line\":{\"color\":\"white\"}},\"header\":{\"fill\":{\"color\":\"#C8D4E3\"},\"line\":{\"color\":\"white\"}},\"type\":\"table\"}]},\"layout\":{\"annotationdefaults\":{\"arrowcolor\":\"#2a3f5f\",\"arrowhead\":0,\"arrowwidth\":1},\"autotypenumbers\":\"strict\",\"coloraxis\":{\"colorbar\":{\"outlinewidth\":0,\"ticks\":\"\"}},\"colorscale\":{\"diverging\":[[0,\"#8e0152\"],[0.1,\"#c51b7d\"],[0.2,\"#de77ae\"],[0.3,\"#f1b6da\"],[0.4,\"#fde0ef\"],[0.5,\"#f7f7f7\"],[0.6,\"#e6f5d0\"],[0.7,\"#b8e186\"],[0.8,\"#7fbc41\"],[0.9,\"#4d9221\"],[1,\"#276419\"]],\"sequential\":[[0.0,\"#0d0887\"],[0.1111111111111111,\"#46039f\"],[0.2222222222222222,\"#7201a8\"],[0.3333333333333333,\"#9c179e\"],[0.4444444444444444,\"#bd3786\"],[0.5555555555555556,\"#d8576b\"],[0.6666666666666666,\"#ed7953\"],[0.7777777777777778,\"#fb9f3a\"],[0.8888888888888888,\"#fdca26\"],[1.0,\"#f0f921\"]],\"sequentialminus\":[[0.0,\"#0d0887\"],[0.1111111111111111,\"#46039f\"],[0.2222222222222222,\"#7201a8\"],[0.3333333333333333,\"#9c179e\"],[0.4444444444444444,\"#bd3786\"],[0.5555555555555556,\"#d8576b\"],[0.6666666666666666,\"#ed7953\"],[0.7777777777777778,\"#fb9f3a\"],[0.8888888888888888,\"#fdca26\"],[1.0,\"#f0f921\"]]},\"colorway\":[\"#636efa\",\"#EF553B\",\"#00cc96\",\"#ab63fa\",\"#FFA15A\",\"#19d3f3\",\"#FF6692\",\"#B6E880\",\"#FF97FF\",\"#FECB52\"],\"font\":{\"color\":\"#2a3f5f\"},\"geo\":{\"bgcolor\":\"white\",\"lakecolor\":\"white\",\"landcolor\":\"#E5ECF6\",\"showlakes\":true,\"showland\":true,\"subunitcolor\":\"white\"},\"hoverlabel\":{\"align\":\"left\"},\"hovermode\":\"closest\",\"mapbox\":{\"style\":\"light\"},\"paper_bgcolor\":\"white\",\"plot_bgcolor\":\"#E5ECF6\",\"polar\":{\"angularaxis\":{\"gridcolor\":\"white\",\"linecolor\":\"white\",\"ticks\":\"\"},\"bgcolor\":\"#E5ECF6\",\"radialaxis\":{\"gridcolor\":\"white\",\"linecolor\":\"white\",\"ticks\":\"\"}},\"scene\":{\"xaxis\":{\"backgroundcolor\":\"#E5ECF6\",\"gridcolor\":\"white\",\"gridwidth\":2,\"linecolor\":\"white\",\"showbackground\":true,\"ticks\":\"\",\"zerolinecolor\":\"white\"},\"yaxis\":{\"backgroundcolor\":\"#E5ECF6\",\"gridcolor\":\"white\",\"gridwidth\":2,\"linecolor\":\"white\",\"showbackground\":true,\"ticks\":\"\",\"zerolinecolor\":\"white\"},\"zaxis\":{\"backgroundcolor\":\"#E5ECF6\",\"gridcolor\":\"white\",\"gridwidth\":2,\"linecolor\":\"white\",\"showbackground\":true,\"ticks\":\"\",\"zerolinecolor\":\"white\"}},\"shapedefaults\":{\"line\":{\"color\":\"#2a3f5f\"}},\"ternary\":{\"aaxis\":{\"gridcolor\":\"white\",\"linecolor\":\"white\",\"ticks\":\"\"},\"baxis\":{\"gridcolor\":\"white\",\"linecolor\":\"white\",\"ticks\":\"\"},\"bgcolor\":\"#E5ECF6\",\"caxis\":{\"gridcolor\":\"white\",\"linecolor\":\"white\",\"ticks\":\"\"}},\"title\":{\"x\":0.05},\"xaxis\":{\"automargin\":true,\"gridcolor\":\"white\",\"linecolor\":\"white\",\"ticks\":\"\",\"title\":{\"standoff\":15},\"zerolinecolor\":\"white\",\"zerolinewidth\":2},\"yaxis\":{\"automargin\":true,\"gridcolor\":\"white\",\"linecolor\":\"white\",\"ticks\":\"\",\"title\":{\"standoff\":15},\"zerolinecolor\":\"white\",\"zerolinewidth\":2}}},\"title\":{\"text\":\" Retail and Recreation mobility changes in Ireland\"},\"plot_bgcolor\":\"rgb(230,230,230)\"},                        {\"responsive\": true}                    ).then(function(){\n",
              "                            \n",
              "var gd = document.getElementById('e68ace59-166f-41af-a720-27fe566533e1');\n",
              "var x = new MutationObserver(function (mutations, observer) {{\n",
              "        var display = window.getComputedStyle(gd).display;\n",
              "        if (!display || display === 'none') {{\n",
              "            console.log([gd, 'removed!']);\n",
              "            Plotly.purge(gd);\n",
              "            observer.disconnect();\n",
              "        }}\n",
              "}});\n",
              "\n",
              "// Listen for the removal of the full notebook cells\n",
              "var notebookContainer = gd.closest('#notebook-container');\n",
              "if (notebookContainer) {{\n",
              "    x.observe(notebookContainer, {childList: true});\n",
              "}}\n",
              "\n",
              "// Listen for the clearing of the current output cell\n",
              "var outputEl = gd.closest('.output');\n",
              "if (outputEl) {{\n",
              "    x.observe(outputEl, {childList: true});\n",
              "}}\n",
              "\n",
              "                        })                };                            </script>        </div>\n",
              "</body>\n",
              "</html>"
            ]
          },
          "metadata": {}
        }
      ],
      "source": [
        "Ireland_mobility_columns = [ireland_google['Retail and Recreation'], ireland_google['Grocery and Pharmacy'], ireland_google['Parks'], ireland_google['Transit Stations'], ireland_google['Workplaces'], ireland_google['Residential']]\n",
        "fig = go.Figure()\n",
        "fig.add_trace (go.Scatter(x = ireland_google['Date'], y= Ireland_mobility_columns[0], mode = 'lines+markers', name = 'Total Positve Cases'))\n",
        "fig.update_layout(title_text = ' Retail and Recreation mobility changes in Ireland', plot_bgcolor = 'rgb(230,230,230)')\n",
        "fig.show()"
      ]
    },
    {
      "cell_type": "markdown",
      "id": "cb65a748",
      "metadata": {
        "id": "cb65a748"
      },
      "source": [
        "In the below correlation matrix. Correlation is a statistic that measures the degree to which two variables move in relation to each other. The interesting point is that we see belows:\n",
        "\n",
        "    - A negative correlation occurs between two factors or variables when they consistently move in opposite directions to one anothe:\n",
        "        -  Residential & WorkPlace : -0.9\n",
        "        -  Residential & Transit Stations : -0.8\n",
        "        - Residential & Retail and Recreation : -0.7       \n",
        "        \n",
        "    - A Positive Correlations:\n",
        "        - Workplace & Transit Stations : 0.6\n",
        "        - Transit Stattion & Retail and Recreation : 0.8\n",
        "        - Parks & Retail and recration : 0.6\n",
        "        - Groceey and Pharmacy : 0.7\n",
        " "
      ]
    },
    {
      "cell_type": "code",
      "execution_count": 110,
      "id": "d3e28c73",
      "metadata": {
        "colab": {
          "base_uri": "https://localhost:8080/",
          "height": 581
        },
        "id": "d3e28c73",
        "outputId": "74e6dd97-b8cb-49b1-b17d-17c46206edb9"
      },
      "outputs": [
        {
          "output_type": "display_data",
          "data": {
            "image/png": "[encoded data removed]",
            "text/plain": [
              "<Figure size 640x480 with 2 Axes>"
            ]
          },
          "metadata": {}
        }
      ],
      "source": [
        "correlation_matrix_Irelan_mobility = ireland_google.corr().round(1)\n",
        "sns.heatmap(data=correlation_matrix_Irelan_mobility, annot=True);"
      ]
    },
    {
      "cell_type": "code",
      "execution_count": 116,
      "id": "ee1b4e36",
      "metadata": {
        "colab": {
          "base_uri": "https://localhost:8080/",
          "height": 641
        },
        "id": "ee1b4e36",
        "outputId": "eb6a0f8e-a8f8-4347-d34e-de15febbefbf"
      },
      "outputs": [
        {
          "output_type": "display_data",
          "data": {
            "image/png": "[encoded data removed]",
            "text/plain": [
              "<Figure size 2000x800 with 2 Axes>"
            ]
          },
          "metadata": {}
        }
      ],
      "source": [
        "heatmap_IE_mob6 = pd.pivot_table(ireland_google, values='Residential', columns='Date')\n",
        "fig, ax = plt.subplots(figsize=(25,10)) \n",
        "plot_Ireland_mobility=sns.heatmap(heatmap_IE_mob6, cmap=\"mako_r\")\n"
      ]
    }
  ],
  "metadata": {
    "kernelspec": {
      "display_name": "Python 3",
      "language": "python",
      "name": "python3"
    },
    "language_info": {
      "codemirror_mode": {
        "name": "ipython",
        "version": 3
      },
      "file_extension": ".py",
      "mimetype": "text/x-python",
      "name": "python",
      "nbconvert_exporter": "python",
      "pygments_lexer": "ipython3",
      "version": "3.7.10"
    },
    "colab": {
      "name": "Gather_Data_+_Understand_Data.ipynb",
      "provenance": [],
      "collapsed_sections": [
        "47427a06",
        "171b7f8f"
      ]
    }
  },
  "nbformat": 4,
  "nbformat_minor": 5
}